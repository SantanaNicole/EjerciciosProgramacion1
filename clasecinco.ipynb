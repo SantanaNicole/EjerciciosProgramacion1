{
 "cells": [
  {
   "cell_type": "markdown",
   "id": "5dd4aa65-e03a-45f1-8aab-052e77c8690d",
   "metadata": {},
   "source": [
    "# Clase 5\n",
    "\n",
    "**Primeros scripts**\n",
    "\n",
    "vamos a definir en una celda 3 variables, una que contenga mi nombre, otra que contenga mi edad y otra que muestre el porcentaje de la semana que utilizo para mi curso de programacion."
   ]
  },
  {
   "cell_type": "markdown",
   "id": "9cdf4c56-aeb3-4ebf-8991-16130314173e",
   "metadata": {},
   "source": [
    "## Metodo `format` para cadenas/strings\n"
   ]
  },
  {
   "cell_type": "code",
   "execution_count": 7,
   "id": "1e96142e-c977-4beb-bba1-4e13d42276f1",
   "metadata": {
    "tags": []
   },
   "outputs": [],
   "source": [
    "Nombre= 'Nicole Santana'\n",
    "Edad= 18\n",
    "Por_prog=(4+2)/(24*5)"
   ]
  },
  {
   "cell_type": "code",
   "execution_count": 8,
   "id": "c1f89d25-e5f0-4871-9f29-f7e67bbc65d2",
   "metadata": {},
   "outputs": [
    {
     "data": {
      "text/plain": [
       "'Mi nombre es Nicole Santana, tengo 18 años y soy externadista'"
      ]
     },
     "execution_count": 8,
     "metadata": {},
     "output_type": "execute_result"
    }
   ],
   "source": [
    "texto1='Mi nombre es {}, tengo {} años y soy externadista'.format(Nombre,Edad)\n",
    "texto1"
   ]
  },
  {
   "cell_type": "code",
   "execution_count": 10,
   "id": "c023b7f0-dac9-4928-832d-2c126a3d462a",
   "metadata": {},
   "outputs": [
    {
     "data": {
      "text/plain": [
       "'Mi nombre es Nicole Santana, tengo 18 años y soy externadista'"
      ]
     },
     "execution_count": 10,
     "metadata": {},
     "output_type": "execute_result"
    }
   ],
   "source": [
    "texto1='Mi nombre es {nombre}, tengo {edad} años y soy externadista'.format(nombre=Nombre,edad=Edad)\n",
    "texto1"
   ]
  },
  {
   "cell_type": "code",
   "execution_count": 14,
   "id": "3ebc2382-7e33-4c96-affe-05e7f1e50863",
   "metadata": {},
   "outputs": [
    {
     "data": {
      "text/plain": [
       "'Mi nombre es Nicole Santana, tengo 18 años y soy externadista y dedico el 5.00% de mi semana a programacion'"
      ]
     },
     "execution_count": 14,
     "metadata": {},
     "output_type": "execute_result"
    }
   ],
   "source": [
    "texto2='Mi nombre es {nombre}, tengo {edad} años y soy externadista y dedico el {porcentaje:.2%} de mi semana a programacion'.format(\n",
    "    nombre=Nombre,\n",
    "    edad=Edad, porcentaje=Por_prog)\n",
    "texto2"
   ]
  },
  {
   "cell_type": "code",
   "execution_count": 17,
   "id": "d8d4ca79-2416-41fa-892c-b7ddb9a0bca1",
   "metadata": {},
   "outputs": [
    {
     "name": "stdout",
     "output_type": "stream",
     "text": [
      "Nombre=                Nicole Santana\n",
      "Edad:                            18\n"
     ]
    }
   ],
   "source": [
    "texto3='Nombre={nombre:>30}\\nEdad:{edad:>30}'.format(nombre=Nombre, edad=Edad)\n",
    "print(texto3)"
   ]
  },
  {
   "cell_type": "code",
   "execution_count": 18,
   "id": "4196b83d-53d4-4c6a-88e2-218dc7f5c83d",
   "metadata": {},
   "outputs": [
    {
     "name": "stdout",
     "output_type": "stream",
     "text": [
      "Nombre=Nicole Santana                \n",
      "Edad:18                            \n"
     ]
    }
   ],
   "source": [
    "texto3='Nombre={nombre:<30}\\nEdad:{edad:<30}'.format(nombre=Nombre, edad=Edad)\n",
    "print(texto3)"
   ]
  },
  {
   "cell_type": "code",
   "execution_count": 21,
   "id": "ba09e327-4909-48ba-8112-a97f68f8aec0",
   "metadata": {},
   "outputs": [
    {
     "name": "stdout",
     "output_type": "stream",
     "text": [
      "Nicole Santana                :Nombre\n",
      "18                            :Edad\n"
     ]
    }
   ],
   "source": [
    "texto3='{nombre:<30}:Nombre\\n{edad:<30}:Edad'.format(nombre=Nombre, edad=Edad)\n",
    "print(texto3)"
   ]
  },
  {
   "cell_type": "code",
   "execution_count": 28,
   "id": "ddcbd4a8-6572-46ac-b60e-c003ac7887ad",
   "metadata": {},
   "outputs": [
    {
     "name": "stdout",
     "output_type": "stream",
     "text": [
      "        Nicole Santana        \n",
      "              18              \n"
     ]
    }
   ],
   "source": [
    "texto4='{nombre:^30}\\n{edad:^30}'.format(nombre=Nombre, edad=Edad)\n",
    "print(texto4)"
   ]
  },
  {
   "cell_type": "code",
   "execution_count": 34,
   "id": "c436ba29-e1d2-425e-a3db-4e4489e71cf2",
   "metadata": {},
   "outputs": [
    {
     "name": "stdout",
     "output_type": "stream",
     "text": [
      "El boleto para Bad Bunny valio $22,000,000\n"
     ]
    }
   ],
   "source": [
    "Texto5='El boleto para Bad Bunny valio ${boleto:,}'.format(boleto=22000000)\n",
    "print(Texto5)"
   ]
  },
  {
   "cell_type": "code",
   "execution_count": 38,
   "id": "c22e3099-e2c9-4cf3-9236-8c779c47997e",
   "metadata": {},
   "outputs": [
    {
     "name": "stdout",
     "output_type": "stream",
     "text": [
      "En binario tengo 10010\n"
     ]
    }
   ],
   "source": [
    "Texto6='En binario tengo {edad:b}'.format(edad=Edad)\n",
    "print(Texto6)"
   ]
  },
  {
   "cell_type": "markdown",
   "id": "ce3852a9-e400-46d7-9548-d3034cbc2ee4",
   "metadata": {},
   "source": [
    "## Mas metodos de cadenas de caracteres\n",
    "\n",
    "veamos una lista de metodos e intentemos definir que hace cada una:"
   ]
  },
  {
   "cell_type": "code",
   "execution_count": 39,
   "id": "eb5becf9-15a3-469a-b872-3f6bda81a7df",
   "metadata": {},
   "outputs": [
    {
     "name": "stdout",
     "output_type": "stream",
     "text": [
      "Hola\n"
     ]
    }
   ],
   "source": [
    "Texto1='hola'.capitalize()\n",
    "print(Texto1)"
   ]
  },
  {
   "cell_type": "code",
   "execution_count": 40,
   "id": "3ba92842-4222-4fb7-b040-f2a34d81fec9",
   "metadata": {},
   "outputs": [
    {
     "name": "stdout",
     "output_type": "stream",
     "text": [
      "en el monte de la china un chinito se perdio\n"
     ]
    }
   ],
   "source": [
    "Texto2='En el monte de la china un chinito Se PERdio'.casefold()\n",
    "print(Texto2)"
   ]
  },
  {
   "cell_type": "code",
   "execution_count": 41,
   "id": "f37971e6-b27e-4f19-8b11-d33cc5be789f",
   "metadata": {},
   "outputs": [
    {
     "name": "stdout",
     "output_type": "stream",
     "text": [
      "EN EL MONTE DE LA CHINA UN CHINITO SE PERDIO\n"
     ]
    }
   ],
   "source": [
    "Texto3='En el monte de la china un chinito Se PERdio'.upper()\n",
    "print(Texto3)"
   ]
  },
  {
   "cell_type": "code",
   "execution_count": 42,
   "id": "ccf19c2a-b5e3-4814-a906-211105d8f208",
   "metadata": {},
   "outputs": [
    {
     "name": "stdout",
     "output_type": "stream",
     "text": [
      "en el monte de la china un chinito se perdio\n"
     ]
    }
   ],
   "source": [
    "Texto4='En el monte de la china un chinito Se PERdio'.lower()\n",
    "print(Texto4)"
   ]
  },
  {
   "cell_type": "code",
   "execution_count": 43,
   "id": "64844f83-5896-43bf-8f6a-46df94284729",
   "metadata": {},
   "outputs": [
    {
     "name": "stdout",
     "output_type": "stream",
     "text": [
      "En el monte de lx-x chinx-x un chinito se perdio\n"
     ]
    }
   ],
   "source": [
    "Texto5='En el monte de la china un chinito se perdio'.replace('a','x-x')\n",
    "print(Texto5)"
   ]
  },
  {
   "cell_type": "code",
   "execution_count": 46,
   "id": "f883854f-86eb-422d-aa87-68694469e1b2",
   "metadata": {},
   "outputs": [
    {
     "name": "stdout",
     "output_type": "stream",
     "text": [
      "eN EL MonTE DE La CHIna UN CHinITO SE PERDIO\n"
     ]
    }
   ],
   "source": [
    "Texto6='En el mONte de lA chiNA un chINito se perdio'.swapcase()\n",
    "print(Texto6)"
   ]
  },
  {
   "cell_type": "code",
   "execution_count": 48,
   "id": "69303cbe-df11-4f5c-b77d-94ef04ec88ad",
   "metadata": {},
   "outputs": [
    {
     "name": "stdout",
     "output_type": "stream",
     "text": [
      "                            En el monte de la china un chinito se perdio                            \n"
     ]
    }
   ],
   "source": [
    "Texto7='En el monte de la china un chinito se perdio'.center(100)\n",
    "print(Texto7)"
   ]
  },
  {
   "cell_type": "markdown",
   "id": "172e320a-0c8d-4fa9-b462-d9f10ed020aa",
   "metadata": {},
   "source": [
    "Otros metodos"
   ]
  },
  {
   "cell_type": "code",
   "execution_count": 51,
   "id": "0e3bb5ea-c7e0-47de-a5cc-323154882dc6",
   "metadata": {},
   "outputs": [
    {
     "name": "stdout",
     "output_type": "stream",
     "text": [
      "2\n"
     ]
    }
   ],
   "source": [
    "x1='Las bananas son ricas en potasio'.count('an')\n",
    "print(x1)"
   ]
  },
  {
   "cell_type": "code",
   "execution_count": 52,
   "id": "9d1a9f64-9c28-4c18-ad04-8be5c66bc208",
   "metadata": {},
   "outputs": [
    {
     "name": "stdout",
     "output_type": "stream",
     "text": [
      "4\n"
     ]
    }
   ],
   "source": [
    "x1='''hola\n",
    "muchachos\n",
    "de\n",
    "programacion'''.count('a')\n",
    "print(x1)"
   ]
  },
  {
   "cell_type": "code",
   "execution_count": 55,
   "id": "5e4c50b8-f0c6-4309-b281-4d20bd25f5e6",
   "metadata": {},
   "outputs": [
    {
     "name": "stdout",
     "output_type": "stream",
     "text": [
      "6\n"
     ]
    }
   ],
   "source": [
    "x2='En el Externado soy muy feliz'.find('Externado')\n",
    "print(x2) #posicion comienza palabra"
   ]
  },
  {
   "cell_type": "markdown",
   "id": "a6b0d5ac-1961-4a81-8b9a-ec514bda8733",
   "metadata": {},
   "source": [
    "En python los textos son arreglos o mas bien secuencias ordenadas de caracteres. Cada texto tiene un orden segun la aparicion de cada caracter."
   ]
  },
  {
   "cell_type": "code",
   "execution_count": 59,
   "id": "2503fbe5-1bbc-4595-8efd-10e913d5aa92",
   "metadata": {},
   "outputs": [
    {
     "data": {
      "text/plain": [
       "0"
      ]
     },
     "execution_count": 59,
     "metadata": {},
     "output_type": "execute_result"
    }
   ],
   "source": [
    "texto_normal[0]"
   ]
  },
  {
   "cell_type": "code",
   "execution_count": 61,
   "id": "df3f2556-0f82-42d1-9d4d-095852d72d09",
   "metadata": {},
   "outputs": [],
   "source": [
    "texto_normal='0123456789'"
   ]
  },
  {
   "cell_type": "code",
   "execution_count": 62,
   "id": "a4b7a6b6-bf01-429a-bf15-8bc3fa842f38",
   "metadata": {},
   "outputs": [
    {
     "data": {
      "text/plain": [
       "'4'"
      ]
     },
     "execution_count": 62,
     "metadata": {},
     "output_type": "execute_result"
    }
   ],
   "source": [
    "texto_normal[4]"
   ]
  },
  {
   "cell_type": "code",
   "execution_count": 63,
   "id": "7c9de5b0-47de-47a6-a2b3-98321150f464",
   "metadata": {},
   "outputs": [
    {
     "data": {
      "text/plain": [
       "'0123'"
      ]
     },
     "execution_count": 63,
     "metadata": {},
     "output_type": "execute_result"
    }
   ],
   "source": [
    "texto_normal[0:4] #los valores separados por dos puntos indican el rango"
   ]
  },
  {
   "cell_type": "code",
   "execution_count": 64,
   "id": "f9f85cfd-bc34-45a6-b6be-15c3d1d78b94",
   "metadata": {},
   "outputs": [],
   "source": [
    "texto='Colombia vera Qatar 2022 desde la sala de la casa'"
   ]
  },
  {
   "cell_type": "code",
   "execution_count": 65,
   "id": "78dc14fd-2ab8-4479-918c-017d1da94597",
   "metadata": {},
   "outputs": [
    {
     "data": {
      "text/plain": [
       "'bia vera Qatar '"
      ]
     },
     "execution_count": 65,
     "metadata": {},
     "output_type": "execute_result"
    }
   ],
   "source": [
    "texto[5:20]"
   ]
  },
  {
   "cell_type": "markdown",
   "id": "ad381da5-b415-43b3-b924-18b281c5146e",
   "metadata": {},
   "source": [
    "## Funcion `input`"
   ]
  },
  {
   "cell_type": "code",
   "execution_count": 66,
   "id": "71d5fee7-cbbf-4d9a-ab6a-e3cf28cdef54",
   "metadata": {},
   "outputs": [
    {
     "name": "stdin",
     "output_type": "stream",
     "text": [
      "Escriba un texto aqui:  4\n"
     ]
    },
    {
     "name": "stdout",
     "output_type": "stream",
     "text": [
      "4\n",
      "<class 'str'>\n"
     ]
    }
   ],
   "source": [
    "txt=input('Escriba un texto aqui: ')\n",
    "print(txt)\n",
    "print(type(txt))"
   ]
  },
  {
   "cell_type": "markdown",
   "id": "8d361673-3c5d-4fb7-b652-ea7f6d3d9873",
   "metadata": {},
   "source": [
    "Claramente `input` permite que el usuario pueda ingresar texto, ese texto siempre se guardara como cadena de caracteres y si se quiere cambiar debe utilizarse una funcion adecuada"
   ]
  },
  {
   "cell_type": "code",
   "execution_count": 73,
   "id": "8ed412e0-b2f9-4fb7-8890-cf2b877e8c7d",
   "metadata": {},
   "outputs": [
    {
     "name": "stdin",
     "output_type": "stream",
     "text": [
      "Ingrese su nombre:  Nicole\n",
      "ingrese su edad:  18\n"
     ]
    },
    {
     "name": "stdout",
     "output_type": "stream",
     "text": [
      "En el 2023 Nicole, tendra 19 años\n"
     ]
    }
   ],
   "source": [
    "txt=input('Ingrese su nombre: ')\n",
    "age=input('ingrese su edad: ')\n",
    "age=int(age)\n",
    "print('En el 2023 {nombre}, tendra {edad} años'.format(nombre=txt,edad=age+1))"
   ]
  },
  {
   "cell_type": "code",
   "execution_count": null,
   "id": "edd52df5-b8ad-44c7-8a87-5d54243dfabf",
   "metadata": {},
   "outputs": [],
   "source": []
  }
 ],
 "metadata": {
  "kernelspec": {
   "display_name": "Python 3 (ipykernel)",
   "language": "python",
   "name": "python3"
  },
  "language_info": {
   "codemirror_mode": {
    "name": "ipython",
    "version": 3
   },
   "file_extension": ".py",
   "mimetype": "text/x-python",
   "name": "python",
   "nbconvert_exporter": "python",
   "pygments_lexer": "ipython3",
   "version": "3.9.7"
  }
 },
 "nbformat": 4,
 "nbformat_minor": 5
}
