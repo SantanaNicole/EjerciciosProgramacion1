{
 "cells": [
  {
   "cell_type": "markdown",
   "metadata": {},
   "source": [
    "## listas, tuplas y conjuntos\n",
    "\n",
    "Es un tipo de dato que se crea a partir de otros de una manera secuenciada, por ejemplo, si queremos la lista con los digitos debemos escribir como sigue;\n",
    "\n",
    "```Python\n",
    "Lista=[El1,El2,...,Eln]\n",
    "```\n",
    "\n",
    "por ejemplo, la lista de digitos seria la siguiente:"
   ]
  },
  {
   "cell_type": "code",
   "execution_count": 4,
   "metadata": {},
   "outputs": [],
   "source": [
    "Digitos=[0,1,2,3,4,5,6,7,8,9]"
   ]
  },
  {
   "cell_type": "code",
   "execution_count": 5,
   "metadata": {},
   "outputs": [
    {
     "data": {
      "text/plain": [
       "list"
      ]
     },
     "execution_count": 5,
     "metadata": {},
     "output_type": "execute_result"
    }
   ],
   "source": [
    "type(Digitos)"
   ]
  },
  {
   "cell_type": "markdown",
   "metadata": {},
   "source": [
    "si quiero saber cuantos elementos tiene la lista entonces utilizo `len`"
   ]
  },
  {
   "cell_type": "code",
   "execution_count": 7,
   "metadata": {},
   "outputs": [
    {
     "data": {
      "text/plain": [
       "10"
      ]
     },
     "execution_count": 7,
     "metadata": {},
     "output_type": "execute_result"
    }
   ],
   "source": [
    "len(Digitos)"
   ]
  },
  {
   "cell_type": "markdown",
   "metadata": {},
   "source": [
    "Recordemos que en los textos podiamos determinar el caracter n-esimo  del tecto de la siguiente forma"
   ]
  },
  {
   "cell_type": "code",
   "execution_count": 9,
   "metadata": {},
   "outputs": [],
   "source": [
    "texto='hola'"
   ]
  },
  {
   "cell_type": "code",
   "execution_count": 10,
   "metadata": {},
   "outputs": [
    {
     "data": {
      "text/plain": [
       "'o'"
      ]
     },
     "execution_count": 10,
     "metadata": {},
     "output_type": "execute_result"
    }
   ],
   "source": [
    "texto[1]"
   ]
  },
  {
   "cell_type": "code",
   "execution_count": 13,
   "metadata": {},
   "outputs": [
    {
     "data": {
      "text/plain": [
       "'a'"
      ]
     },
     "execution_count": 13,
     "metadata": {},
     "output_type": "execute_result"
    }
   ],
   "source": [
    "texto[3]"
   ]
  },
  {
   "cell_type": "markdown",
   "metadata": {},
   "source": [
    "en las listas podemos hacer algo similar"
   ]
  },
  {
   "cell_type": "code",
   "execution_count": 14,
   "metadata": {},
   "outputs": [
    {
     "data": {
      "text/plain": [
       "[0, 1, 2, 3, 4, 5, 6, 7, 8, 9]"
      ]
     },
     "execution_count": 14,
     "metadata": {},
     "output_type": "execute_result"
    }
   ],
   "source": [
    "Digitos"
   ]
  },
  {
   "cell_type": "code",
   "execution_count": 15,
   "metadata": {},
   "outputs": [
    {
     "data": {
      "text/plain": [
       "5"
      ]
     },
     "execution_count": 15,
     "metadata": {},
     "output_type": "execute_result"
    }
   ],
   "source": [
    "Digitos[5]"
   ]
  },
  {
   "cell_type": "code",
   "execution_count": 18,
   "metadata": {},
   "outputs": [],
   "source": [
    "Lista2=['Uno','Dos','Tres','Cuatro','Cinco','Seis','Siete','Ocho','Nueve','Cero']"
   ]
  },
  {
   "cell_type": "code",
   "execution_count": 19,
   "metadata": {},
   "outputs": [
    {
     "data": {
      "text/plain": [
       "'Cuatro'"
      ]
     },
     "execution_count": 19,
     "metadata": {},
     "output_type": "execute_result"
    }
   ],
   "source": [
    "Lista2[3]"
   ]
  },
  {
   "cell_type": "markdown",
   "metadata": {},
   "source": [
    "Observe qu el elemento n de la lista es el elemento n+1-esimo pues Python cuenta desde cero."
   ]
  },
  {
   "cell_type": "code",
   "execution_count": 20,
   "metadata": {},
   "outputs": [
    {
     "name": "stdout",
     "output_type": "stream",
     "text": [
      "0\n",
      "Uno\n"
     ]
    }
   ],
   "source": [
    "# El primer elemento\n",
    "print(Digitos[0])\n",
    "print(Lista2[0])"
   ]
  },
  {
   "cell_type": "code",
   "execution_count": 21,
   "metadata": {},
   "outputs": [
    {
     "name": "stdout",
     "output_type": "stream",
     "text": [
      "9\n",
      "Cero\n"
     ]
    }
   ],
   "source": [
    "# el ultimo elemento\n",
    "print(Digitos[9])\n",
    "print(Lista2[9])"
   ]
  },
  {
   "cell_type": "markdown",
   "metadata": {},
   "source": [
    "En este ultimo ejercicio consultamos el ultimo elemento, en Python lo podemos hacer usando indices negativos (indice: el valor que hace referencia al n+1-esimo elemnto de la lista, el valor de los parentesis cuadrados que permite acceder a los elementos dentr de la lista)"
   ]
  },
  {
   "cell_type": "code",
   "execution_count": 23,
   "metadata": {},
   "outputs": [
    {
     "data": {
      "text/plain": [
       "9"
      ]
     },
     "execution_count": 23,
     "metadata": {},
     "output_type": "execute_result"
    }
   ],
   "source": [
    "Digitos[-1]"
   ]
  },
  {
   "cell_type": "code",
   "execution_count": 24,
   "metadata": {},
   "outputs": [
    {
     "data": {
      "text/plain": [
       "8"
      ]
     },
     "execution_count": 24,
     "metadata": {},
     "output_type": "execute_result"
    }
   ],
   "source": [
    "Digitos[-2]"
   ]
  },
  {
   "cell_type": "markdown",
   "metadata": {},
   "source": [
    "Los indices negativos permiten que se corra la lista de forma invertida"
   ]
  },
  {
   "cell_type": "code",
   "execution_count": 25,
   "metadata": {},
   "outputs": [
    {
     "data": {
      "text/plain": [
       "0"
      ]
     },
     "execution_count": 25,
     "metadata": {},
     "output_type": "execute_result"
    }
   ],
   "source": [
    "Digitos[-10]"
   ]
  },
  {
   "cell_type": "markdown",
   "metadata": {},
   "source": [
    "invertir lista"
   ]
  },
  {
   "cell_type": "code",
   "execution_count": 26,
   "metadata": {},
   "outputs": [
    {
     "data": {
      "text/plain": [
       "[9, 8, 7, 6, 5, 4, 3, 2, 1, 0]"
      ]
     },
     "execution_count": 26,
     "metadata": {},
     "output_type": "execute_result"
    }
   ],
   "source": [
    "Digitos[::-1]"
   ]
  },
  {
   "cell_type": "code",
   "execution_count": 27,
   "metadata": {},
   "outputs": [],
   "source": [
    "Digitos.reverse()"
   ]
  },
  {
   "cell_type": "markdown",
   "metadata": {},
   "source": [
    "podemos usar un metodo de listas llamado `'.reverse()'`"
   ]
  },
  {
   "cell_type": "code",
   "execution_count": 28,
   "metadata": {},
   "outputs": [
    {
     "data": {
      "text/plain": [
       "[9, 8, 7, 6, 5, 4, 3, 2, 1, 0]"
      ]
     },
     "execution_count": 28,
     "metadata": {},
     "output_type": "execute_result"
    }
   ],
   "source": [
    "Digitos"
   ]
  },
  {
   "cell_type": "code",
   "execution_count": 29,
   "metadata": {},
   "outputs": [
    {
     "data": {
      "text/plain": [
       "[0, 1, 2, 3, 4, 5, 6, 7, 8, 9]"
      ]
     },
     "execution_count": 29,
     "metadata": {},
     "output_type": "execute_result"
    }
   ],
   "source": [
    "Digitos.reverse()\n",
    "Digitos"
   ]
  },
  {
   "cell_type": "markdown",
   "metadata": {},
   "source": [
    "Podemos contar las veces que aparece un elemento en una lista"
   ]
  },
  {
   "cell_type": "code",
   "execution_count": 30,
   "metadata": {},
   "outputs": [
    {
     "data": {
      "text/plain": [
       "1"
      ]
     },
     "execution_count": 30,
     "metadata": {},
     "output_type": "execute_result"
    }
   ],
   "source": [
    "Digitos.count(4)  #tab para ver opciones"
   ]
  },
  {
   "cell_type": "code",
   "execution_count": 31,
   "metadata": {},
   "outputs": [],
   "source": [
    "Lista3=[1,2,2,3,3,3,4,4,4,4]"
   ]
  },
  {
   "cell_type": "code",
   "execution_count": 32,
   "metadata": {},
   "outputs": [
    {
     "data": {
      "text/plain": [
       "3"
      ]
     },
     "execution_count": 32,
     "metadata": {},
     "output_type": "execute_result"
    }
   ],
   "source": [
    "Lista3[5]"
   ]
  },
  {
   "cell_type": "code",
   "execution_count": 33,
   "metadata": {},
   "outputs": [],
   "source": [
    "Lista3.append(5)"
   ]
  },
  {
   "cell_type": "code",
   "execution_count": 34,
   "metadata": {},
   "outputs": [
    {
     "data": {
      "text/plain": [
       "[1, 2, 2, 3, 3, 3, 4, 4, 4, 4, 5]"
      ]
     },
     "execution_count": 34,
     "metadata": {},
     "output_type": "execute_result"
    }
   ],
   "source": [
    "Lista3"
   ]
  },
  {
   "cell_type": "markdown",
   "metadata": {},
   "source": [
    "al final agrega el nuevo digito con `append` si quiero agregarlo al inicio utilizo `insert`"
   ]
  },
  {
   "cell_type": "code",
   "execution_count": 36,
   "metadata": {},
   "outputs": [],
   "source": [
    "Lista3.insert(3,10)"
   ]
  },
  {
   "cell_type": "code",
   "execution_count": 37,
   "metadata": {},
   "outputs": [
    {
     "data": {
      "text/plain": [
       "['Uno',\n",
       " 'Dos',\n",
       " 'Tres',\n",
       " 'Cuatro',\n",
       " 'Cinco',\n",
       " 'Seis',\n",
       " 'Siete',\n",
       " 'Ocho',\n",
       " 'Nueve',\n",
       " 'Cero']"
      ]
     },
     "execution_count": 37,
     "metadata": {},
     "output_type": "execute_result"
    }
   ],
   "source": [
    "Lista2"
   ]
  },
  {
   "cell_type": "code",
   "execution_count": 47,
   "metadata": {},
   "outputs": [],
   "source": [
    "Lista2.insert(5,'hola')"
   ]
  },
  {
   "cell_type": "code",
   "execution_count": 48,
   "metadata": {},
   "outputs": [
    {
     "data": {
      "text/plain": [
       "['Uno',\n",
       " 'Dos',\n",
       " 'Tres',\n",
       " 'Cuatro',\n",
       " 'Cinco',\n",
       " 'hola',\n",
       " 'Seis',\n",
       " 'Siete',\n",
       " 'Ocho',\n",
       " 'Nueve',\n",
       " 'Cero']"
      ]
     },
     "execution_count": 48,
     "metadata": {},
     "output_type": "execute_result"
    }
   ],
   "source": [
    "Lista2"
   ]
  },
  {
   "cell_type": "code",
   "execution_count": 49,
   "metadata": {},
   "outputs": [
    {
     "data": {
      "text/plain": [
       "['Uno',\n",
       " 'Dos',\n",
       " 'Tres',\n",
       " 'Cuatro',\n",
       " 'Cinco',\n",
       " 'Seis',\n",
       " 'Siete',\n",
       " 'Ocho',\n",
       " 'Nueve',\n",
       " 'Cero']"
      ]
     },
     "execution_count": 49,
     "metadata": {},
     "output_type": "execute_result"
    }
   ],
   "source": [
    "Lista2.remove('hola')\n",
    "Lista2"
   ]
  },
  {
   "cell_type": "code",
   "execution_count": null,
   "metadata": {},
   "outputs": [],
   "source": [
    "esta funcion solo quita el primer elemento"
   ]
  },
  {
   "cell_type": "code",
   "execution_count": 43,
   "metadata": {},
   "outputs": [],
   "source": [
    "Lista3.remove(4)"
   ]
  },
  {
   "cell_type": "code",
   "execution_count": 45,
   "metadata": {},
   "outputs": [
    {
     "data": {
      "text/plain": [
       "[1, 2, 2, 10, 3, 3, 3, 4, 4, 4, 5]"
      ]
     },
     "execution_count": 45,
     "metadata": {},
     "output_type": "execute_result"
    }
   ],
   "source": [
    "Lista3"
   ]
  },
  {
   "cell_type": "markdown",
   "metadata": {},
   "source": [
    "PARA ELIMINAR TODOS SE USA CLEAR"
   ]
  },
  {
   "cell_type": "markdown",
   "metadata": {},
   "source": [
    "El metodo `pop` remueve atraves del indice"
   ]
  },
  {
   "cell_type": "code",
   "execution_count": 51,
   "metadata": {},
   "outputs": [
    {
     "data": {
      "text/plain": [
       "['Uno',\n",
       " 'Dos',\n",
       " 'Tres',\n",
       " 'Cuatro',\n",
       " 'Cinco',\n",
       " 'Seis',\n",
       " 'Siete',\n",
       " 'Ocho',\n",
       " 'Nueve',\n",
       " 'Cero',\n",
       " 1,\n",
       " 2,\n",
       " 2,\n",
       " 10,\n",
       " 3,\n",
       " 3,\n",
       " 3,\n",
       " 4,\n",
       " 4,\n",
       " 4,\n",
       " 5]"
      ]
     },
     "execution_count": 51,
     "metadata": {},
     "output_type": "execute_result"
    }
   ],
   "source": [
    "Lista2+Lista3"
   ]
  },
  {
   "cell_type": "markdown",
   "metadata": {},
   "source": [
    "con el operador + se concatenan listas, tambien se puede usar el metodo `extend`"
   ]
  },
  {
   "cell_type": "code",
   "execution_count": 54,
   "metadata": {},
   "outputs": [
    {
     "data": {
      "text/plain": [
       "['Uno',\n",
       " 'Dos',\n",
       " 'Tres',\n",
       " 'Cuatro',\n",
       " 'Cinco',\n",
       " 'Seis',\n",
       " 'Siete',\n",
       " 'Ocho',\n",
       " 'Nueve',\n",
       " 'Cero',\n",
       " 1,\n",
       " 2,\n",
       " 2,\n",
       " 10,\n",
       " 3,\n",
       " 3,\n",
       " 3,\n",
       " 4,\n",
       " 4,\n",
       " 4,\n",
       " 5]"
      ]
     },
     "execution_count": 54,
     "metadata": {},
     "output_type": "execute_result"
    }
   ],
   "source": [
    "Lista2.extend(Lista3)\n",
    "Lista2"
   ]
  },
  {
   "cell_type": "markdown",
   "metadata": {},
   "source": [
    "# Condicional\n",
    "es una estructura de control que permite ejecutar una subcortina segun se satisfaga una condicion inicial:"
   ]
  },
  {
   "cell_type": "markdown",
   "metadata": {},
   "source": [
    "'Si__________ condicion____ entonces_________resultado__'"
   ]
  },
  {
   "cell_type": "code",
   "execution_count": 56,
   "metadata": {},
   "outputs": [],
   "source": [
    "if 4>5:\n",
    "    print('Cuatro es mayor que cinco')"
   ]
  },
  {
   "cell_type": "code",
   "execution_count": 77,
   "metadata": {},
   "outputs": [
    {
     "name": "stdout",
     "output_type": "stream",
     "text": [
      "Cuatro es menor que cinco\n"
     ]
    }
   ],
   "source": [
    "if 4<5:\n",
    "    print('Cuatro es menor que cinco')"
   ]
  },
  {
   "cell_type": "markdown",
   "metadata": {},
   "source": [
    "Un iterable especial:\n",
    "    No todas las secuencias (iterables) se definen como listas tambien se puede utilizar funciones previas que generan listas secuenciadas de manera automatica"
   ]
  },
  {
   "cell_type": "markdown",
   "metadata": {},
   "source": [
    "# Bucle\n",
    "Un bucle es una estructura especial que permite recorrer los elementos de un iterable, en particular podemos recorrer los elementos de una lista:\n",
    "```Python\n",
    "for i in Lista:\n",
    "    ejercicio_i\n",
    "    resp\n",
    "fin"
   ]
  },
  {
   "cell_type": "code",
   "execution_count": 78,
   "metadata": {},
   "outputs": [
    {
     "data": {
      "text/plain": [
       "['Uno', 'Dos', 'Tres', 'Cuatro', 'Cinco', 'Seis', 'Siete', 'Ocho']"
      ]
     },
     "execution_count": 78,
     "metadata": {},
     "output_type": "execute_result"
    }
   ],
   "source": [
    "Lista2[:8]"
   ]
  },
  {
   "cell_type": "code",
   "execution_count": 81,
   "metadata": {},
   "outputs": [
    {
     "name": "stdout",
     "output_type": "stream",
     "text": [
      "Una\n",
      "----\n",
      "Das\n",
      "----\n",
      "Tres\n",
      "----\n",
      "Cuatra\n",
      "----\n",
      "Cinca\n",
      "----\n",
      "Seis\n",
      "----\n",
      "Siete\n",
      "----\n",
      "Ocha\n",
      "----\n",
      "Nueve\n",
      "----\n",
      "Cera\n",
      "----\n"
     ]
    },
    {
     "ename": "AttributeError",
     "evalue": "'int' object has no attribute 'replace'",
     "output_type": "error",
     "traceback": [
      "\u001b[1;31m---------------------------------------------------------------------------\u001b[0m",
      "\u001b[1;31mAttributeError\u001b[0m                            Traceback (most recent call last)",
      "\u001b[1;32m<ipython-input-81-315d0c50a3af>\u001b[0m in \u001b[0;36m<module>\u001b[1;34m\u001b[0m\n\u001b[0;32m      1\u001b[0m \u001b[1;32mfor\u001b[0m \u001b[0mi\u001b[0m \u001b[1;32min\u001b[0m \u001b[0mLista2\u001b[0m\u001b[1;33m:\u001b[0m\u001b[1;33m\u001b[0m\u001b[1;33m\u001b[0m\u001b[0m\n\u001b[1;32m----> 2\u001b[1;33m     \u001b[0mprint\u001b[0m\u001b[1;33m(\u001b[0m\u001b[0mi\u001b[0m\u001b[1;33m.\u001b[0m\u001b[0mreplace\u001b[0m\u001b[1;33m(\u001b[0m\u001b[1;34m'o'\u001b[0m\u001b[1;33m,\u001b[0m\u001b[1;34m'a'\u001b[0m\u001b[1;33m)\u001b[0m\u001b[1;33m)\u001b[0m\u001b[1;33m\u001b[0m\u001b[1;33m\u001b[0m\u001b[0m\n\u001b[0m\u001b[0;32m      3\u001b[0m     \u001b[0mprint\u001b[0m\u001b[1;33m(\u001b[0m\u001b[1;34m'----'\u001b[0m\u001b[1;33m)\u001b[0m\u001b[1;33m\u001b[0m\u001b[1;33m\u001b[0m\u001b[0m\n",
      "\u001b[1;31mAttributeError\u001b[0m: 'int' object has no attribute 'replace'"
     ]
    }
   ],
   "source": [
    "for i in Lista2:\n",
    "    print(i.replace('o','a'))\n",
    "    print('----')"
   ]
  },
  {
   "cell_type": "code",
   "execution_count": 59,
   "metadata": {},
   "outputs": [
    {
     "data": {
      "text/plain": [
       "[0, 1, 2, 3, 4, 5, 6, 7, 8, 9]"
      ]
     },
     "execution_count": 59,
     "metadata": {},
     "output_type": "execute_result"
    }
   ],
   "source": [
    "list(range(10))"
   ]
  },
  {
   "cell_type": "markdown",
   "metadata": {},
   "source": [
    "`range (m,n,p)` es un objeto especial de python lo convertiremos en lista con list para entender que contiene"
   ]
  },
  {
   "cell_type": "code",
   "execution_count": 60,
   "metadata": {},
   "outputs": [
    {
     "data": {
      "text/plain": [
       "range(0, 10)"
      ]
     },
     "execution_count": 60,
     "metadata": {},
     "output_type": "execute_result"
    }
   ],
   "source": [
    "range(10) #range(0,n) genera una lista de enteros ordenada iniciando en 0 terminando en n-1"
   ]
  },
  {
   "cell_type": "code",
   "execution_count": 61,
   "metadata": {},
   "outputs": [
    {
     "data": {
      "text/plain": [
       "[0, 1, 2, 3, 4, 5, 6, 7, 8, 9]"
      ]
     },
     "execution_count": 61,
     "metadata": {},
     "output_type": "execute_result"
    }
   ],
   "source": [
    "list(range(10))"
   ]
  },
  {
   "cell_type": "code",
   "execution_count": 66,
   "metadata": {},
   "outputs": [
    {
     "data": {
      "text/plain": [
       "[2, 3, 4, 5, 6, 7, 8, 9]"
      ]
     },
     "execution_count": 66,
     "metadata": {},
     "output_type": "execute_result"
    }
   ],
   "source": [
    "list(range(2,10)) #range(m,n) genera una lista de enteros ordenada iniciando en m terminando en n-1 y en saltos de a p"
   ]
  },
  {
   "cell_type": "code",
   "execution_count": 65,
   "metadata": {},
   "outputs": [
    {
     "data": {
      "text/plain": [
       "[2, 4, 6, 8]"
      ]
     },
     "execution_count": 65,
     "metadata": {},
     "output_type": "execute_result"
    }
   ],
   "source": [
    "list(range(2,10,2))"
   ]
  },
  {
   "cell_type": "code",
   "execution_count": 67,
   "metadata": {},
   "outputs": [
    {
     "data": {
      "text/plain": [
       "[2, 7]"
      ]
     },
     "execution_count": 67,
     "metadata": {},
     "output_type": "execute_result"
    }
   ],
   "source": [
    "list(range(2,10,5))"
   ]
  },
  {
   "cell_type": "code",
   "execution_count": 68,
   "metadata": {},
   "outputs": [],
   "source": [
    "lista_100=range(1,101)"
   ]
  },
  {
   "cell_type": "code",
   "execution_count": 69,
   "metadata": {},
   "outputs": [
    {
     "data": {
      "text/plain": [
       "range(1, 101)"
      ]
     },
     "execution_count": 69,
     "metadata": {},
     "output_type": "execute_result"
    }
   ],
   "source": [
    "lista_100"
   ]
  },
  {
   "cell_type": "markdown",
   "metadata": {},
   "source": [
    "Usando `for` podemos hacer cosas interesantes"
   ]
  },
  {
   "cell_type": "code",
   "execution_count": 85,
   "metadata": {},
   "outputs": [
    {
     "name": "stdout",
     "output_type": "stream",
     "text": [
      "6\n",
      "12\n",
      "18\n",
      "24\n",
      "30\n",
      "36\n",
      "42\n",
      "48\n",
      "54\n",
      "60\n",
      "66\n",
      "72\n",
      "78\n",
      "84\n",
      "90\n",
      "96\n"
     ]
    }
   ],
   "source": [
    "for i in range(1,101):\n",
    "    if i%6==0:\n",
    "        print(i)                 ##el espacio es la identacion, python tenemos una linea lider y una esclava, una depende de la otra"
   ]
  },
  {
   "cell_type": "code",
   "execution_count": 88,
   "metadata": {},
   "outputs": [
    {
     "name": "stdout",
     "output_type": "stream",
     "text": [
      "El numero que vamos a estudiar es 1\n",
      "1 es un numero que al dividirse por 3 tiene residuo 1\n",
      "El numero que vamos a estudiar es 2\n",
      "2 es un numero que al dividirse por 3 tiene residuo 2\n",
      "El numero que vamos a estudiar es 3\n",
      "3 es un numero que al dividirse por 3 tiene residuo 0\n",
      "El numero que vamos a estudiar es 4\n",
      "4 es un numero que al dividirse por 3 tiene residuo 1\n",
      "El numero que vamos a estudiar es 5\n",
      "5 es un numero que al dividirse por 3 tiene residuo 2\n",
      "El numero que vamos a estudiar es 6\n",
      "6 es un numero que al dividirse por 3 tiene residuo 0\n",
      "Este numero es especial porque es un multiplo de 3\n",
      "***********************************************************\n",
      "\n",
      "\n",
      "El numero que vamos a estudiar es 7\n",
      "7 es un numero que al dividirse por 3 tiene residuo 1\n",
      "El numero que vamos a estudiar es 8\n",
      "8 es un numero que al dividirse por 3 tiene residuo 2\n",
      "El numero que vamos a estudiar es 9\n",
      "9 es un numero que al dividirse por 3 tiene residuo 0\n",
      "El numero que vamos a estudiar es 10\n",
      "10 es un numero que al dividirse por 3 tiene residuo 1\n",
      "El numero que vamos a estudiar es 11\n",
      "11 es un numero que al dividirse por 3 tiene residuo 2\n",
      "El numero que vamos a estudiar es 12\n",
      "12 es un numero que al dividirse por 3 tiene residuo 0\n",
      "Este numero es especial porque es un multiplo de 3\n",
      "***********************************************************\n",
      "\n",
      "\n",
      "El numero que vamos a estudiar es 13\n",
      "13 es un numero que al dividirse por 3 tiene residuo 1\n",
      "El numero que vamos a estudiar es 14\n",
      "14 es un numero que al dividirse por 3 tiene residuo 2\n",
      "El numero que vamos a estudiar es 15\n",
      "15 es un numero que al dividirse por 3 tiene residuo 0\n",
      "El numero que vamos a estudiar es 16\n",
      "16 es un numero que al dividirse por 3 tiene residuo 1\n",
      "El numero que vamos a estudiar es 17\n",
      "17 es un numero que al dividirse por 3 tiene residuo 2\n",
      "El numero que vamos a estudiar es 18\n",
      "18 es un numero que al dividirse por 3 tiene residuo 0\n",
      "Este numero es especial porque es un multiplo de 3\n",
      "***********************************************************\n",
      "\n",
      "\n",
      "El numero que vamos a estudiar es 19\n",
      "19 es un numero que al dividirse por 3 tiene residuo 1\n",
      "El numero que vamos a estudiar es 20\n",
      "20 es un numero que al dividirse por 3 tiene residuo 2\n"
     ]
    }
   ],
   "source": [
    "for i in range(1,21):\n",
    "    print('El numero que vamos a estudiar es',i)\n",
    "\n",
    "    \n",
    "    print(i,'es un numero que al dividirse por 3 tiene residuo',i%3)\n",
    "    if i%6==0:\n",
    "        print('Este numero es especial porque es un multiplo de 3')\n",
    "        print('***********************************************************')\n",
    "        print()\n",
    "        print()"
   ]
  },
  {
   "cell_type": "code",
   "execution_count": null,
   "metadata": {},
   "outputs": [],
   "source": []
  }
 ],
 "metadata": {
  "kernelspec": {
   "display_name": "Python 3",
   "language": "python",
   "name": "python3"
  },
  "language_info": {
   "codemirror_mode": {
    "name": "ipython",
    "version": 3
   },
   "file_extension": ".py",
   "mimetype": "text/x-python",
   "name": "python",
   "nbconvert_exporter": "python",
   "pygments_lexer": "ipython3",
   "version": "3.7.10"
  }
 },
 "nbformat": 4,
 "nbformat_minor": 4
}
