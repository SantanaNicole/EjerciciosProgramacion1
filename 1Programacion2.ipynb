{
 "cells": [
  {
   "cell_type": "markdown",
   "id": "d9648534-37a9-4933-8306-685326ca9c2d",
   "metadata": {},
   "source": [
    "## Carta a mi yo futuro"
   ]
  },
  {
   "cell_type": "code",
   "execution_count": 12,
   "id": "0509b7b9-427b-4808-a7ab-3c2f9e6b249e",
   "metadata": {},
   "outputs": [
    {
     "name": "stdin",
     "output_type": "stream",
     "text": [
      "Ingrese su nombre:  Nicole\n",
      "ingrese su edad:  117\n"
     ]
    },
    {
     "name": "stdout",
     "output_type": "stream",
     "text": [
      "\n",
      "BOGOTÁ D.C, COLOMBIA\n",
      "2023-02-12\n",
      "\n",
      "Un mensaje especial para ti\n",
      "\n",
      "Estimada Nicole,\n",
      "Ya tienes 118 años, espero muchas cosas de ti, que hayas enfrentado a tus miedos internos, aplastado tus inseguridades, dejado ir tus dudas sobre ti; que hayas comprometido tu voluntad y florecido en tu capacidad de impactar positivamente en los demás. Que hayas dado todo lo que podías a tu familia, a tus amigos, a aquellos a los que cuidas mientras te cuidas a ti misma. Espero que tus sueños se hayan hecho realidad, que hayas vivido la vida al máximo y que hayas aprovechado cada día como intentabas hacerlo cuando eras más joven. Espero que sigas teniendo el deseo de aprender y crecer, de no dejar nunca de contemplar cómo puedes ser una versión mejor de ti misma, y de ayudar a los demás a ver lo que ellos no pueden.Espero que estés abrazando el sentimiento de vulnerabilidad, haciendo nuevas amistades, cuidando las relaciones y buscando aventuras, entendiendo que no lo sabemos todo y que esta bien. Espero que estés considerando las cosas que desearías haberle dicho a tu yo más joven, y que compartas esos consejos con tu familia y amigos. Solo puedo esperar, porque no sé lo que depara el futuro y como siempre, nos ponemos metas muy optimistas.\n"
     ]
    }
   ],
   "source": [
    "from datetime import date\n",
    "from datetime import datetime\n",
    "from datetime import timedelta\n",
    "fecha= date.today()\n",
    "nueva_fecha= str(fecha+timedelta(days=365))\n",
    "n=input('Ingrese su nombre: ')\n",
    "age=input('ingrese su edad: ')\n",
    "age=int(age)\n",
    "print('\\nBogotá D.C, Colombia'.upper())\n",
    "print(nueva_fecha)\n",
    "print('\\nUn mensaje especial para ti')\n",
    "print('\\nEstimada {nombre},'.format(nombre=n))\n",
    "print('Ya tienes {} años, espero muchas cosas de ti, que hayas enfrentado a tus miedos internos, aplastado tus inseguridades, dejado ir tus dudas sobre ti; que hayas comprometido tu voluntad y florecido en tu capacidad de impactar positivamente en los demás. Que hayas dado todo lo que podías a tu familia, a tus amigos, a aquellos a los que cuidas mientras te cuidas a ti misma. Espero que tus sueños se hayan hecho realidad, que hayas vivido la vida al máximo y que hayas aprovechado cada día como intentabas hacerlo cuando eras más joven. Espero que sigas teniendo el deseo de aprender y crecer, de no dejar nunca de contemplar cómo puedes ser una versión mejor de ti misma, y de ayudar a los demás a ver lo que ellos no pueden.Espero que estés abrazando el sentimiento de vulnerabilidad, haciendo nuevas amistades, cuidando las relaciones y buscando aventuras, entendiendo que no lo sabemos todo y que esta bien. Espero que estés considerando las cosas que desearías haberle dicho a tu yo más joven, y que compartas esos consejos con tu familia y amigos. Solo puedo esperar, porque no sé lo que depara el futuro y como siempre, nos ponemos metas muy optimistas.'.format(age+1).center(50, \"=\"))"
   ]
  },
  {
   "cell_type": "markdown",
   "id": "0e672cdc-53a2-4f6d-b49f-7fd54d39a7f5",
   "metadata": {},
   "source": [
    "## Piensa un numero\n",
    "Hola! Soy mantis y puedo converti cualquier número que pienses en 5, quieres intentarlo?"
   ]
  },
  {
   "cell_type": "code",
   "execution_count": 3,
   "id": "bcc8f47c-b945-486c-85d9-15ace3385702",
   "metadata": {},
   "outputs": [
    {
     "name": "stdin",
     "output_type": "stream",
     "text": [
      "Empecemos! Introduce un número perteneciente al conjunto de los naturales, tu número es el  9\n"
     ]
    },
    {
     "name": "stdout",
     "output_type": "stream",
     "text": [
      "Duplícalo\n",
      "El producto es igual a 18\n",
      "Ahora sumale diez, tu resultado es 28\n",
      "Dividelo a la mitad, debe dar 14\n",
      "Restale el número original, la diferencia es 5\n",
      "Te lo dije! Converti tu numero a 5\n"
     ]
    },
    {
     "name": "stdin",
     "output_type": "stream",
     "text": [
      "¿Quieres intentarlo otra vez?  si\n",
      "Aqui vamos de nuevo, introduce un número perteneciente al conjunto de los naturales: 2\n"
     ]
    },
    {
     "name": "stdout",
     "output_type": "stream",
     "text": [
      "Duplícalo\n",
      "El producto es igual a 4\n",
      "Ahora sumale diez, tu resultado es 14\n",
      "Dividelo a la mitad, debe dar 7\n",
      "Restale el número original, la diferencia es 5\n",
      "Una vez más! Converti tu numero a 5\n"
     ]
    }
   ],
   "source": [
    "A = int(input(\"Empecemos! Introduce un número perteneciente al conjunto de los naturales, tu número es el \"))\n",
    "print(\"Duplícalo\")\n",
    "B = A * 2\n",
    "print(\"El producto es igual a\", B)\n",
    "C= B + 10\n",
    "print(\"Ahora sumale diez, tu resultado es\", C)\n",
    "D = C / 2\n",
    "print(\"Dividelo a la mitad, debe dar\",(int(D)))\n",
    "E = D - A\n",
    "print(\"Restale el número original, la diferencia es\",(int(E)))\n",
    "print(\"Te lo dije! Converti tu numero a\",(int(E)))\n",
    "qst = input(\"¿Quieres intentarlo otra vez? \")\n",
    "if qst == 'si':\n",
    "    A = int(input(\"Aqui vamos de nuevo, introduce un número perteneciente al conjunto de los naturales:\"))\n",
    "    print(\"Duplícalo\")\n",
    "    B = A * 2\n",
    "    print(\"El producto es igual a\", B)\n",
    "    C= B + 10\n",
    "    print(\"Ahora sumale diez, tu resultado es\", C)\n",
    "    D = C / 2\n",
    "    print(\"Dividelo a la mitad, debe dar\",(int(D)))\n",
    "    E = D - A\n",
    "    print(\"Restale el número original, la diferencia es\",(int(E)))\n",
    "    print(\"Una vez más! Converti tu numero a\",(int(E)))"
   ]
  },
  {
   "cell_type": "code",
   "execution_count": null,
   "id": "0410946b-e6b0-483a-87b6-2e37310342cb",
   "metadata": {},
   "outputs": [],
   "source": []
  }
 ],
 "metadata": {
  "kernelspec": {
   "display_name": "Python 3 (ipykernel)",
   "language": "python",
   "name": "python3"
  },
  "language_info": {
   "codemirror_mode": {
    "name": "ipython",
    "version": 3
   },
   "file_extension": ".py",
   "mimetype": "text/x-python",
   "name": "python",
   "nbconvert_exporter": "python",
   "pygments_lexer": "ipython3",
   "version": "3.10.2"
  }
 },
 "nbformat": 4,
 "nbformat_minor": 5
}
