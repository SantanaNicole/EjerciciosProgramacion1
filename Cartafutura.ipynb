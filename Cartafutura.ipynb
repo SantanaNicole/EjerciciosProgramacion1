{
 "cells": [
  {
   "cell_type": "markdown",
   "metadata": {},
   "source": [
    "## Carta Futura"
   ]
  },
  {
   "cell_type": "code",
   "execution_count": 53,
   "metadata": {},
   "outputs": [
    {
     "name": "stdin",
     "output_type": "stream",
     "text": [
      "Ingrese su nombre:  Nic\n",
      "ingrese su edad:  18\n"
     ]
    }
   ],
   "source": [
    "from datetime import date\n",
    "from datetime import datetime\n",
    "from datetime import timedelta\n",
    "fecha= date.today()\n",
    "nueva_fecha= str(fecha+timedelta(days=365))\n",
    "txt=input('Ingrese su nombre: ')\n",
    "age=input('ingrese su edad: ')\n",
    "age=int(age)"
   ]
  },
  {
   "cell_type": "code",
   "execution_count": 54,
   "metadata": {},
   "outputs": [
    {
     "name": "stdout",
     "output_type": "stream",
     "text": [
      "BOGOTÁ DC, COLOMBIA\n",
      "\n",
      "Estimada Nic,\n",
      "Ya tienes 19 años, espero muchas cosas de ti, que hayas enfrentado a tus miedos internos, aplastado tus inseguridades, dejado ir tus dudas internas; que hayas comprometido tu voluntad y florecido en tu capacidad de impactar positivamente en los demás. Que hayas dado todo lo que podías a tu familia, a tus amigos, a aquellos a los que cuidas mientras te cuidas a ti mismo.Espero que tus sueños se hayan hecho realidad, que hayas vivido la vida al máximo y que hayas aprovechado cada día como intentabas hacerlo cuando eras más joven.Espero que sigas teniendo el deseo de aprender y crecer, de no dejar nunca de contemplar cómo puedes ser una versión mejor de ti misma, y de ayudar a los demás a ver lo que ellos no pueden.Espero que estés abrazando el sentimiento de vulnerabilidad, haciendo conexiones, cuidando las relaciones y buscando aventuras.Espero que estés considerando las cosas que desearías haberle dicho a tu yo más joven, y que compartas esos consejos con tu familia y amigos. Sólo puedo esperar, porque no sé lo que depara el futuro y como siempre, nos ponemos metas muy optimistas.\n",
      "\n",
      "Con todo el amor, Nic del futuro.\n"
     ]
    }
   ],
   "source": [
    "print('Bogotá DC, Colombia'.upper())\n",
    "print('\\nEstimada {nombre},'.format(nombre=txt))\n",
    "print('Ya tienes {edad} años, espero muchas cosas de ti, que hayas enfrentado a tus miedos internos, aplastado tus inseguridades, dejado ir tus dudas internas; que hayas comprometido tu voluntad y florecido en tu capacidad de impactar positivamente en los demás. Que hayas dado todo lo que podías a tu familia, a tus amigos, a aquellos a los que cuidas mientras te cuidas a ti mismo.Espero que tus sueños se hayan hecho realidad, que hayas vivido la vida al máximo y que hayas aprovechado cada día como intentabas hacerlo cuando eras más joven.Espero que sigas teniendo el deseo de aprender y crecer, de no dejar nunca de contemplar cómo puedes ser una versión mejor de ti misma, y de ayudar a los demás a ver lo que ellos no pueden.Espero que estés abrazando el sentimiento de vulnerabilidad, haciendo conexiones, cuidando las relaciones y buscando aventuras.Espero que estés considerando las cosas que desearías haberle dicho a tu yo más joven, y que compartas esos consejos con tu familia y amigos. Sólo puedo esperar, porque no sé lo que depara el futuro y como siempre, nos ponemos metas muy optimistas.'.format(edad=age+1))\n",
    "print('Espero que tus sueños se hayan hecho realidad, que hayas vivido la vida al máximo y que hayas aprovechado cada día como intentabas hacerlo cuando eras más joven.Espero que sigas teniendo el deseo de aprender y crecer, de no dejar nunca de contemplar cómo puedes ser una versión mejor de ti misma, y de ayudar a los demás a ver lo que ellos no pueden.Espero que estés abrazando el sentimiento de vulnerabilidad, haciendo conexiones, cuidando las relaciones y buscando aventuras.Espero que estés considerando las cosas que desearías haberle dicho a tu yo más joven, y que compartas esos consejos con tu familia y amigos. Sólo puedo esperar, porque no sé lo que depara el futuro y como siempre, nos ponemos metas muy optimistas.'.format(edad=age+1))\n",
    "print('\\nCon todo el amor, {nombre} del futuro.'.format(nombre=txt))"
   ]
  },
  {
   "cell_type": "code",
   "execution_count": null,
   "metadata": {},
   "outputs": [],
   "source": []
  },
  {
   "cell_type": "code",
   "execution_count": null,
   "metadata": {},
   "outputs": [],
   "source": []
  }
 ],
 "metadata": {
  "kernelspec": {
   "display_name": "Python 3",
   "language": "python",
   "name": "python3"
  },
  "language_info": {
   "codemirror_mode": {
    "name": "ipython",
    "version": 3
   },
   "file_extension": ".py",
   "mimetype": "text/x-python",
   "name": "python",
   "nbconvert_exporter": "python",
   "pygments_lexer": "ipython3",
   "version": "3.7.10"
  }
 },
 "nbformat": 4,
 "nbformat_minor": 4
}
