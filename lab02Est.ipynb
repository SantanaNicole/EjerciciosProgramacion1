{
 "cells": [
  {
   "cell_type": "markdown",
   "metadata": {},
   "source": [
    "```\n",
    "BEGIN ASSIGNMENT\n",
    "generate: true \n",
    "files:\n",
    "    - statement.png\n",
    "    - world_population.csv\n",
    "    - imdb.csv\n",
    "    - farmers_markets.csv\n",
    "```"
   ]
  },
  {
   "cell_type": "markdown",
   "metadata": {},
   "source": [
    "# Taller 2: Operaciones con tablas\n",
    "\n",
    "Bienvenidos al Taller 2!  Esta semana vamos a aprender cómo importar un módulo y practicar operaciones en tablas\n",
    "\n",
    "\n",
    "Lectura recomendada:\n",
    " * [Introduction to tables](https://www.inferentialthinking.com/chapters/03/4/Introduction_to_Tables)\n",
    "\n",
    "Primero, ajustemos los tests e importaciones ejecutando la celda de abajo."
   ]
  },
  {
   "cell_type": "code",
   "execution_count": 3,
   "metadata": {},
   "outputs": [
    {
     "ename": "ModuleNotFoundError",
     "evalue": "No module named 'numpy'",
     "output_type": "error",
     "traceback": [
      "\u001b[1;31m---------------------------------------------------------------------------\u001b[0m",
      "\u001b[1;31mModuleNotFoundError\u001b[0m                       Traceback (most recent call last)",
      "Input \u001b[1;32mIn [3]\u001b[0m, in \u001b[0;36m<module>\u001b[1;34m\u001b[0m\n\u001b[0;32m      1\u001b[0m \u001b[38;5;66;03m# Simplemente ejecute esta celda\u001b[39;00m\n\u001b[1;32m----> 3\u001b[0m \u001b[38;5;28;01mimport\u001b[39;00m \u001b[38;5;21;01mnumpy\u001b[39;00m \u001b[38;5;28;01mas\u001b[39;00m \u001b[38;5;21;01mnp\u001b[39;00m\n\u001b[0;32m      4\u001b[0m \u001b[38;5;28;01mfrom\u001b[39;00m \u001b[38;5;21;01mdatascience\u001b[39;00m \u001b[38;5;28;01mimport\u001b[39;00m \u001b[38;5;241m*\u001b[39m\n",
      "\u001b[1;31mModuleNotFoundError\u001b[0m: No module named 'numpy'"
     ]
    }
   ],
   "source": [
    "# Simplemente ejecute esta celda\n",
    "\n",
    "import numpy as np\n",
    "from datascience import *\n",
    "\n",
    "# Estas líneas cargan los tests.\n",
    "# Cuando se autentique, por favor presione enter (no shift + enter) luego de ingresar su email"
   ]
  },
  {
   "cell_type": "markdown",
   "metadata": {},
   "source": [
    "# 1. Revisión: Los bloques de construcción del código en Python\n",
    "\n",
    "\n",
    "Los dos bloques de construcción del código Python son **expresiones** y **declaraciones**. Una **expresión** es un fragmento de código que\n",
    "\n",
    "\n",
    "\n",
    "* es autónomo, lo que significa que tendría sentido escribirlo en una línea por sí mismo, y\n",
    "* generalmente se evalúa como un valor.\n",
    "\n",
    "Aquí hay dos expresiones que evalúan a 3:\n",
    "\n",
    "    3\n",
    "    5 - 2\n",
    "    \n",
    "Un tipo importante de expresión es la **expresión de llamada**. Una expresión de llamada comienza con el nombre de una función y va seguida de los argumentos de esa función entre paréntesis. La función devuelve algún valor, basado en sus argumentos. Algunas funciones matemáticas importantes se enumeran a continuación.\n",
    "\n",
    "\n",
    "| Función | Descripción                                                   |\n",
    "|----------|---------------------------------------------------------------|\n",
    "| `abs`      | Retorna el valor absoluto del argumento                    |\n",
    "| `max`      | Retorna el máximo de todos sus argumentos                      |\n",
    "| `min`      | Retorna el mínimo de todos sus argumentos                      |\n",
    "| `pow`      | Eleva su primer argumento a la potencia de su segundo argumento|\n",
    "| `round`    | Redondea su argumento al entero más cercano                     |\n",
    "\n",
    "Acá hay dos expresiones de llamada que evalúan ambas a 3:\n",
    "\n",
    "    abs(2 - 5)\n",
    "    max(round(2.8), min(pow(2, 10), -1 * pow(2, 10)))\n",
    "\n",
    "La expresión `2 - 5` y las dos expresiones de llamada dadas anteriormente son ejemplos de **expresiones compuestas**, lo que significa que en realidad son combinaciones de varias expresiones más pequeñas. `2 - 5` combina las expresiones `2` y `5` mediante la resta. En este caso, `2` y `5` se denominan **subexpresiones** porque son expresiones que forman parte de una expresión más grande.\n",
    "\n",
    "Una **declaración** es una línea completa de código. Algunas declaraciones son solo expresiones. Las expresiones enumeradas anteriormente son ejemplos.\n",
    "\n",
    "Otras declaraciones *hacen que algo suceda* en lugar de *tener un valor*. Por ejemplo, una **declaración de asignación** asigna un valor a un nombre.\n",
    "\n",
    "Una buena forma de pensar en esto es que estamos **evaluando el lado derecho** del signo igual y **asignándolo al lado izquierdo**. Aquí hay algunas declaraciones de asignación:\n",
    "    \n",
    "    altura = 1.3\n",
    "    el_número_cinco = abs(-5)\n",
    "    diferencia_absoluta_altura = abs(altura - 1.688)\n",
    "\n",
    "Una idea importante en la programación es que se pueden construir cosas grandes e interesantes combinando muchas cosas simples y poco interesantes. La clave para comprender un código complicado es dividirlo en sus componentes simples.\n",
    "\n",
    "Por ejemplo, están sucediendo muchas cosas en la última declaración anterior, pero en realidad es solo una combinación de algunas cosas. Esta imagen describe lo que está pasando:\n",
    "\n",
    "<img src=\"declaracion.png\">"
   ]
  },
  {
   "cell_type": "markdown",
   "metadata": {},
   "source": [
    "**Pregunta 1.1.** En la siguiente celda, asigne el nombre `año_nuevo` al número más grande entre los siguientes dos números:\n",
    "\n",
    "1. el **valor absoluto** de $2^{5}-2^{11}-2^1 + 1$, y \n",
    "2. $5 \\times 13 \\times 31 + 5$.\n",
    "\n",
    "Intente usar solo una declaración (una sola línea de código). Asegúrese de chequear su trabajo ejecutando la celda de prueba posterior.\n",
    "\n",
    "```\n",
    "BEGIN QUESTION\n",
    "name: q11\n",
    "```"
   ]
  },
  {
   "cell_type": "code",
   "execution_count": 4,
   "metadata": {},
   "outputs": [
    {
     "data": {
      "text/plain": [
       "2020"
      ]
     },
     "execution_count": 4,
     "metadata": {},
     "output_type": "execute_result"
    }
   ],
   "source": [
    "new_year =  # SOLUTION\n",
    "new_year"
   ]
  },
  {
   "cell_type": "markdown",
   "metadata": {},
   "source": [
    "Le pedimos que usara una línea de código en la pregunta anterior porque solo involucra operaciones matemáticas. Sin embargo, las preguntas de programación más complicadas requerirán más pasos. No siempre es una buena idea agrupar estos pasos en una sola línea porque puede hacer que el código sea más difícil de leer y de depurar.\n",
    "\n",
    "Las buenas prácticas de programación implican dividir su código en pasos más pequeños y usar nombres apropiados. ¡Tendrá mucha práctica en el resto de este curso!"
   ]
  },
  {
   "cell_type": "markdown",
   "metadata": {},
   "source": [
    "# 2. Importing code\n",
    "\n",
    "![imports](https://external-preview.redd.it/ZVPjiFo_Ubl4JeiU63SaTjdIoq5zveSnNZimKpgn2I8.png?auto=webp&s=bf32c94b630befa121075c1ae99b2599af6dedc5) \n",
    "\n",
    "[source](https://www.reddit.com/r/ProgrammerHumor/comments/cgtk7s/theres_no_need_to_reinvent_the_wheel_oc/)\n",
    "\n",
    "\n",
    "Gran parte de la programación implica hacer un trabajo que es muy similar al trabajo que ha sido hecho antes. Dado que escribir código lleva mucho tiempo, es bueno apoyarse en el código publicado de otros cuando sea posible. En lugar de copiar y pegar, Python nos permite **importar módulos**. Un módulo es un archivo con código Python que tiene variables y funciones definidas. Al importar un módulo, podemos usar su código en nuestro propio cuaderno.\n",
    "\n",
    "Python incluye muchos módulos útiles que están a un `import` de distancia. Veremos el módulo `math` como primer ejemplo. El módulo `math` es extremadamente útil para calcular expresiones matemáticas en Python.\n",
    "\n",
    "Supongamos que queremos calcular con mucha precisión el área de un círculo con un radio de 5 metros. Para eso, necesitamos la constante $\\pi$, que es aproximadamente 3,14. Convenientemente, el módulo `math` tiene `pi` definido para nosotros:"
   ]
  },
  {
   "cell_type": "code",
   "execution_count": 6,
   "metadata": {},
   "outputs": [
    {
     "data": {
      "text/plain": [
       "78.53981633974483"
      ]
     },
     "execution_count": 6,
     "metadata": {},
     "output_type": "execute_result"
    }
   ],
   "source": [
    "### Qué libreria debemos importar?\n",
    "\n",
    "radio = \n",
    "area_del_circulo = \n",
    "area_del_circulo"
   ]
  },
  {
   "cell_type": "markdown",
   "metadata": {},
   "source": [
    "En el código anterior, la línea `import math` importa el módulo de matemáticas. Esta declaración crea un módulo y luego asigna el nombre `math` a ese módulo. Ahora podemos acceder a cualquier variable o función definida dentro de `math` escribiendo el nombre del módulo seguido de un punto, luego seguido del nombre de la variable o función que queremos. \n",
    "\n",
    "    <nombre del módulo>.<nombre>"
   ]
  },
  {
   "cell_type": "markdown",
   "metadata": {},
   "source": [
    "**Pregunta 2.1.** El módulo `math` también provee el nombre `e` para la base de los algoritmos naturales, que es aproximadamente 2.71. Compute $e^{\\pi}-\\pi$, dándole el nombre `casi_veinte`.\n",
    "\n",
    "*Recuerde: puede acceder a `pi` del módulo `math` también!*\n",
    "\n",
    "```\n",
    "BEGIN QUESTION\n",
    "name: q21\n",
    "```"
   ]
  },
  {
   "cell_type": "code",
   "execution_count": 7,
   "metadata": {},
   "outputs": [
    {
     "data": {
      "text/plain": [
       "19.99909997918947"
      ]
     },
     "execution_count": 7,
     "metadata": {},
     "output_type": "execute_result"
    }
   ],
   "source": [
    "casi_veinte = \n",
    "casi_veinte"
   ]
  },
  {
   "cell_type": "code",
   "execution_count": 9,
   "metadata": {},
   "outputs": [
    {
     "data": {
      "text/plain": [
       "True"
      ]
     },
     "execution_count": 9,
     "metadata": {},
     "output_type": "execute_result"
    }
   ],
   "source": [
    "# TEST\n",
    "round(casi_veinte, 8) == "
   ]
  },
  {
   "cell_type": "markdown",
   "metadata": {},
   "source": [
    "![XKCD](http://imgs.xkcd.com/comics/e_to_the_pi_minus_pi.png)\n",
    "\n",
    "[Source](http://imgs.xkcd.com/comics/e_to_the_pi_minus_pi.png)\n",
    "[Explaination](https://www.explainxkcd.com/wiki/index.php/217:_e_to_the_pi_Minus_pi)"
   ]
  },
  {
   "cell_type": "markdown",
   "metadata": {},
   "source": [
    "## 2.1. Accediendo a funciones\n",
    "\n",
    "En la pregunta anterior, accedió a las variables dentro del módulo `math`.\n",
    "\n",
    "**Los módulos** también definen **funciones**. Por ejemplo, `math` proporciona el nombre `sin` para la función seno. Habiendo importado `math` ya, podemos escribir `math.sin(3)` para calcular el seno de 3. (Tenga en cuenta que esta función seno considera que su argumento está en [radianes] (https://es.wikipedia.org/wiki/Radian), no en grados. 180 grados equivalen a $\\pi$ radianes.)\n",
    "\n",
    "**Pregunta 2.1.1.** Un ángulo de $\\frac{\\pi}{4}$ radianes (45 grados) forma un triángulo rectángulo con la misma base y altura, como se muestra a continuación. Si la hipotenusa (el radio del círculo en la imagen) es 1, entonces la altura es $\\sin(\\frac{\\pi}{4})$. Calcule ese valor usando `sin` y `pi` del módulo `math`. Asigne al resultado el nombre `seno_de_pi_sobre_cuatro`. \n",
    "\n",
    "\n",
    "<img src=\"http://mathworld.wolfram.com/images/eps-gif/TrigonometryAnglesPi4_1000.gif\">\n",
    "\n",
    "[Source](http://mathworld.wolfram.com/images/eps-gif/TrigonometryAnglesPi4_1000.gif)\n",
    "\n",
    "```\n",
    "BEGIN QUESTION\n",
    "name: q211\n",
    "```"
   ]
  },
  {
   "cell_type": "code",
   "execution_count": 2,
   "metadata": {},
   "outputs": [
    {
     "data": {
      "text/plain": [
       "0.7071067811865476"
      ]
     },
     "execution_count": 2,
     "metadata": {},
     "output_type": "execute_result"
    }
   ],
   "source": [
    "seno_de_pi_sobre_cuatro = \n",
    "seno_de_pi_sobre_cuatro"
   ]
  },
  {
   "cell_type": "code",
   "execution_count": 3,
   "metadata": {},
   "outputs": [
    {
     "data": {
      "text/plain": [
       "True"
      ]
     },
     "execution_count": 3,
     "metadata": {},
     "output_type": "execute_result"
    }
   ],
   "source": [
    "# TEST\n",
    "# Pista: Se puede escribir el seno de 1.5*pi como:\n",
    "#   math.sin(1.5 * math.pi)\n"
   ]
  },
  {
   "cell_type": "markdown",
   "metadata": {},
   "source": [
    "Para tenerlo de referencia, a continuación se muestran algunos ejemplos más de funciones del módulo `math`.\n",
    "\n",
    "Observe cómo diferentes funciones toman diferentes números de argumentos. A menudo, la [documentación](https://docs.python.org/es/3/library/math.html) del módulo proporcionará información sobre cuántos argumentos se requieren para cada función.\n",
    "\n",
    "*Sugerencia: si presiona `shift + tab` mientras está al lado de la llamada a la función, aparecerá la documentación para esa función*"
   ]
  },
  {
   "cell_type": "code",
   "execution_count": 12,
   "metadata": {},
   "outputs": [
    {
     "data": {
      "text/plain": [
       "3.0"
      ]
     },
     "execution_count": 12,
     "metadata": {},
     "output_type": "execute_result"
    }
   ],
   "source": [
    "# Calcular logaritmos (el logaritmo de 8 en base 2)\n",
    "# El resultado es 3 porque 2 elevado a la 3 es 8\n"
   ]
  },
  {
   "cell_type": "code",
   "execution_count": 13,
   "metadata": {},
   "outputs": [
    {
     "data": {
      "text/plain": [
       "2.23606797749979"
      ]
     },
     "execution_count": 13,
     "metadata": {},
     "output_type": "execute_result"
    }
   ],
   "source": [
    "# Calcular raíces cuadradas.\n"
   ]
  },
  {
   "cell_type": "markdown",
   "metadata": {},
   "source": [
    "Hay varias formas de importar y acceder al código de fuentes externas. El método que usamos anteriormente - `import <nombre_módulo>` - importa el módulo completo y requiere que usemos `<nombre_módulo>.<nombre>` para acceder a su código.\n",
    "\n",
    "También podemos importar una constante o función específica en lugar de todo el módulo. Hay que tener en cuenta que no se tiene que usar el nombre del módulo de antemano para hacer referencia a ese valor en particular. Sin embargo, debe tener cuidado de no reasignar los nombres de las constantes o funciones a otros valores!"
   ]
  },
  {
   "cell_type": "code",
   "execution_count": 14,
   "metadata": {},
   "outputs": [
    {
     "name": "stdout",
     "output_type": "stream",
     "text": [
      "-1.0\n"
     ]
    },
    {
     "data": {
      "text/plain": [
       "1.1447298858494002"
      ]
     },
     "execution_count": 14,
     "metadata": {},
     "output_type": "execute_result"
    }
   ],
   "source": [
    "# Importando solo cos y pi de math\n",
    "# No tenemos que usar `math.` antes de pi o cos\n",
    "\n",
    "\n",
    "# Aunque tenemos que usarlo enfrente de otras funciones de math\n"
   ]
  },
  {
   "cell_type": "markdown",
   "metadata": {},
   "source": [
    "O podemos importar todas las funciones y valores del módulo."
   ]
  },
  {
   "cell_type": "code",
   "execution_count": 15,
   "metadata": {},
   "outputs": [
    {
     "data": {
      "text/plain": [
       "1.1447298858494002"
      ]
     },
     "execution_count": 15,
     "metadata": {},
     "output_type": "execute_result"
    }
   ],
   "source": [
    "# Por último, podemos importar todo de math usando el *\n",
    "# De nuevo, no tendríamos que usar 'math.' de antemano\n",
    "\n"
   ]
  },
  {
   "cell_type": "markdown",
   "metadata": {},
   "source": [
    "No se preocupe demasiado por qué tipo de importación utilizar. A menudo es una elección de estilo de codificación que se deja en manos de cada programador. En este curso, siempre importará los módulos necesarios cuando ejecute la celda de configuración (como la primera celda de código en esta práctica de laboratorio).\n",
    "\n",
    "¡Pasemos a practicar algunas de las operaciones de tabla que ha aprendido en la lección!"
   ]
  },
  {
   "cell_type": "markdown",
   "metadata": {},
   "source": [
    "# 3. Operaciones de tabla\n",
    "\n",
    "\n",
    "\n",
    "La tabla `farmer_markets.csv` contiene datos sobre los mercados campesinos en los Estados Unidos (datos recopilados [por el USDA](https://apps.ams.usda.gov/FarmersMarketsExport/ExcelExport.aspx)). Cada fila representa uno de esos mercados.\n",
    "\n",
    "Ejecute la siguiente celda para cargar la tabla `Farmers_markets`."
   ]
  },
  {
   "cell_type": "code",
   "execution_count": 16,
   "metadata": {},
   "outputs": [],
   "source": [
    "# Simplemente ejecute esta celda\n",
    "## Cargue los datos farmers_markets.csv\n",
    "\n",
    "farmers_markets = "
   ]
  },
  {
   "cell_type": "markdown",
   "metadata": {},
   "source": [
    "Examinemos nuestra tabla para ver qué datos contiene.\n",
    "\n",
    "**Pregunta 3.1.** Utilice el método `show` para mostrar las primeras 5 filas de `farmer_markets`.\n",
    "\n",
    "*Nota:* Los términos \"método\" y \"función\" técnicamente no son lo mismo, pero para los propósitos de este curso, los usaremos indistintamente.\n",
    "\n",
    "**Sugerencia:** `tbl.show(3)` mostrará las primeras 3 filas de `tbl`. Además, asegúrese de no llamar a `.show ()` sin un argumento, ¡ya que esto bloqueará su kernel!"
   ]
  },
  {
   "cell_type": "code",
   "execution_count": 17,
   "metadata": {},
   "outputs": [
    {
     "data": {
      "text/html": [
       "<table border=\"1\" class=\"dataframe\">\n",
       "    <thead>\n",
       "        <tr>\n",
       "            <th>FMID</th> <th>MarketName</th> <th>street</th> <th>city</th> <th>County</th> <th>State</th> <th>zip</th> <th>x</th> <th>y</th> <th>Website</th> <th>Facebook</th> <th>Twitter</th> <th>Youtube</th> <th>OtherMedia</th> <th>Organic</th> <th>Tofu</th> <th>Bakedgoods</th> <th>Cheese</th> <th>Crafts</th> <th>Flowers</th> <th>Eggs</th> <th>Seafood</th> <th>Herbs</th> <th>Vegetables</th> <th>Honey</th> <th>Jams</th> <th>Maple</th> <th>Meat</th> <th>Nursery</th> <th>Nuts</th> <th>Plants</th> <th>Poultry</th> <th>Prepared</th> <th>Soap</th> <th>Trees</th> <th>Wine</th> <th>Coffee</th> <th>Beans</th> <th>Fruits</th> <th>Grains</th> <th>Juices</th> <th>Mushrooms</th> <th>PetFood</th> <th>WildHarvested</th> <th>updateTime</th> <th>Location</th> <th>Credit</th> <th>WIC</th> <th>WICcash</th> <th>SFMNP</th> <th>SNAP</th> <th>Season1Date</th> <th>Season1Time</th> <th>Season2Date</th> <th>Season2Time</th> <th>Season3Date</th> <th>Season3Time</th> <th>Season4Date</th> <th>Season4Time</th>\n",
       "        </tr>\n",
       "    </thead>\n",
       "    <tbody>\n",
       "        <tr>\n",
       "            <td>1012063</td> <td> Caledonia Farmers Market Association - Danville</td> <td>nan                   </td> <td>Danville </td> <td>Caledonia</td> <td>Vermont       </td> <td>05828</td> <td>-72.1403</td> <td>44.411 </td> <td>https://sites.google.com/site/caledoniafarmersmarket/</td> <td>https://www.facebook.com/Danville.VT.Farmers.Market/</td> <td>nan    </td> <td>nan    </td> <td>nan                                                         </td> <td>Y      </td> <td>N   </td> <td>Y         </td> <td>Y     </td> <td>Y     </td> <td>Y      </td> <td>Y   </td> <td>N      </td> <td>Y    </td> <td>Y         </td> <td>Y    </td> <td>Y   </td> <td>Y    </td> <td>Y   </td> <td>N      </td> <td>N   </td> <td>Y     </td> <td>Y      </td> <td>Y       </td> <td>Y   </td> <td>Y    </td> <td>N   </td> <td>Y     </td> <td>Y    </td> <td>Y     </td> <td>N     </td> <td>Y     </td> <td>N        </td> <td>Y      </td> <td>N            </td> <td>6/28/2016 12:10:09 PM</td> <td>nan     </td> <td>Y     </td> <td>Y   </td> <td>N      </td> <td>Y    </td> <td>N   </td> <td>06/08/2016 to 10/12/2016</td> <td>Wed: 9:00 AM-1:00 PM;                     </td> <td>nan        </td> <td>nan        </td> <td>nan        </td> <td>nan        </td> <td>nan        </td> <td>nan        </td>\n",
       "        </tr>\n",
       "        <tr>\n",
       "            <td>1011871</td> <td> Stearns Homestead Farmers' Market              </td> <td>6975 Ridge Road       </td> <td>Parma    </td> <td>Cuyahoga </td> <td>Ohio          </td> <td>44130</td> <td>-81.7286</td> <td>41.3751</td> <td>http://Stearnshomestead.com                          </td> <td>nan                                                 </td> <td>nan    </td> <td>nan    </td> <td>nan                                                         </td> <td>-      </td> <td>N   </td> <td>Y         </td> <td>N     </td> <td>N     </td> <td>Y      </td> <td>Y   </td> <td>N      </td> <td>Y    </td> <td>Y         </td> <td>Y    </td> <td>Y   </td> <td>Y    </td> <td>Y   </td> <td>N      </td> <td>N   </td> <td>Y     </td> <td>N      </td> <td>N       </td> <td>N   </td> <td>N    </td> <td>N   </td> <td>N     </td> <td>N    </td> <td>Y     </td> <td>N     </td> <td>N     </td> <td>N        </td> <td>Y      </td> <td>N            </td> <td>4/9/2016 8:05:17 PM  </td> <td>nan     </td> <td>Y     </td> <td>Y   </td> <td>N      </td> <td>Y    </td> <td>Y   </td> <td>06/25/2016 to 10/01/2016</td> <td>Sat: 9:00 AM-1:00 PM;                     </td> <td>nan        </td> <td>nan        </td> <td>nan        </td> <td>nan        </td> <td>nan        </td> <td>nan        </td>\n",
       "        </tr>\n",
       "        <tr>\n",
       "            <td>1011878</td> <td>100 Mile Market                                 </td> <td>507 Harrison St       </td> <td>Kalamazoo</td> <td>Kalamazoo</td> <td>Michigan      </td> <td>49007</td> <td>-85.5749</td> <td>42.296 </td> <td>http://www.pfcmarkets.com                            </td> <td>https://www.facebook.com/100MileMarket/?fref=ts     </td> <td>nan    </td> <td>nan    </td> <td>https://www.instagram.com/100milemarket/                    </td> <td>N      </td> <td>N   </td> <td>Y         </td> <td>Y     </td> <td>N     </td> <td>Y      </td> <td>Y   </td> <td>N      </td> <td>Y    </td> <td>Y         </td> <td>Y    </td> <td>Y   </td> <td>Y    </td> <td>Y   </td> <td>N      </td> <td>N   </td> <td>N     </td> <td>Y      </td> <td>Y       </td> <td>Y   </td> <td>N    </td> <td>Y   </td> <td>N     </td> <td>N    </td> <td>Y     </td> <td>Y     </td> <td>N     </td> <td>N        </td> <td>N      </td> <td>N            </td> <td>4/16/2016 12:37:56 PM</td> <td>nan     </td> <td>Y     </td> <td>Y   </td> <td>N      </td> <td>Y    </td> <td>Y   </td> <td>05/04/2016 to 10/12/2016</td> <td>Wed: 3:00 PM-7:00 PM;                     </td> <td>nan        </td> <td>nan        </td> <td>nan        </td> <td>nan        </td> <td>nan        </td> <td>nan        </td>\n",
       "        </tr>\n",
       "        <tr>\n",
       "            <td>1009364</td> <td>106 S. Main Street Farmers Market               </td> <td>106 S. Main Street    </td> <td>Six Mile </td> <td>nan      </td> <td>South Carolina</td> <td>29682</td> <td>-82.8187</td> <td>34.8042</td> <td>http://thetownofsixmile.wordpress.com/               </td> <td>nan                                                 </td> <td>nan    </td> <td>nan    </td> <td>nan                                                         </td> <td>-      </td> <td>N   </td> <td>N         </td> <td>N     </td> <td>N     </td> <td>N      </td> <td>N   </td> <td>N      </td> <td>N    </td> <td>N         </td> <td>N    </td> <td>N   </td> <td>N    </td> <td>N   </td> <td>N      </td> <td>N   </td> <td>N     </td> <td>N      </td> <td>N       </td> <td>N   </td> <td>N    </td> <td>N   </td> <td>N     </td> <td>N    </td> <td>N     </td> <td>N     </td> <td>N     </td> <td>N        </td> <td>N      </td> <td>N            </td> <td>2013                 </td> <td>nan     </td> <td>Y     </td> <td>N   </td> <td>N      </td> <td>N    </td> <td>N   </td> <td>nan                     </td> <td>nan                                       </td> <td>nan        </td> <td>nan        </td> <td>nan        </td> <td>nan        </td> <td>nan        </td> <td>nan        </td>\n",
       "        </tr>\n",
       "        <tr>\n",
       "            <td>1010691</td> <td>10th Steet Community Farmers Market             </td> <td>10th Street and Poplar</td> <td>Lamar    </td> <td>Barton   </td> <td>Missouri      </td> <td>64759</td> <td>-94.2746</td> <td>37.4956</td> <td>nan                                                  </td> <td>nan                                                 </td> <td>nan    </td> <td>nan    </td> <td>http://agrimissouri.com/mo-grown/grodetail.php?type=mo-g ...</td> <td>-      </td> <td>N   </td> <td>Y         </td> <td>N     </td> <td>Y     </td> <td>N      </td> <td>Y   </td> <td>N      </td> <td>Y    </td> <td>Y         </td> <td>Y    </td> <td>Y   </td> <td>N    </td> <td>Y   </td> <td>N      </td> <td>N   </td> <td>Y     </td> <td>Y      </td> <td>Y       </td> <td>Y   </td> <td>N    </td> <td>N   </td> <td>N     </td> <td>N    </td> <td>Y     </td> <td>N     </td> <td>N     </td> <td>N        </td> <td>N      </td> <td>N            </td> <td>10/28/2014 9:49:46 AM</td> <td>nan     </td> <td>Y     </td> <td>N   </td> <td>N      </td> <td>N    </td> <td>N   </td> <td>04/02/2014 to 11/30/2014</td> <td>Wed: 3:00 PM-6:00 PM;Sat: 8:00 AM-1:00 PM;</td> <td>nan        </td> <td>nan        </td> <td>nan        </td> <td>nan        </td> <td>nan        </td> <td>nan        </td>\n",
       "        </tr>\n",
       "    </tbody>\n",
       "</table>\n",
       "<p>... (8541 rows omitted)</p>"
      ],
      "text/plain": [
       "<IPython.core.display.HTML object>"
      ]
     },
     "metadata": {},
     "output_type": "display_data"
    }
   ],
   "source": []
  },
  {
   "cell_type": "markdown",
   "metadata": {},
   "source": [
    "Observe que faltan algunos de los valores de esta tabla, como se indica con \"nan\". Esto significa que el valor no está disponible (p. Ej., Si no conocemos la dirección postal del mercado) o no es aplicable (p. Ej., Si el mercado no tiene una dirección postal). ¡También notará que la tabla tiene una gran cantidad de columnas!\n",
    "\n",
    "### `num_columns`\n",
    "\n",
    "La propiedad de la tabla `num_columns` devuelve el número de columnas en una tabla. (Una \"propiedad\" es solo un método que no necesita ser llamado agregando paréntesis).\n",
    "\n",
    "Ejemplo de llamada: `<tbl>.num_columns`\n",
    "\n",
    "**Pregunta 3.2.** Use `num_columns` para encontrar el número de columnas en nuestro conjunto de datos de mercados campesinos.\n",
    "\n",
    "Asigne el número de columnas a `num_farmers_markets_columns`.\n",
    "\n",
    "```\n",
    "BEGIN QUESTION\n",
    "name: q32\n",
    "```"
   ]
  },
  {
   "cell_type": "code",
   "execution_count": 18,
   "metadata": {},
   "outputs": [
    {
     "name": "stdout",
     "output_type": "stream",
     "text": [
      "The table has 59 columns in it!\n"
     ]
    }
   ],
   "source": [
    "### Imrpime \"The table has\", num_farmers_markets_columns, \"columns in it!\"\n",
    "\n",
    "num_farmers_markets_columns = "
   ]
  },
  {
   "cell_type": "code",
   "execution_count": 19,
   "metadata": {},
   "outputs": [
    {
     "data": {
      "text/plain": [
       "True"
      ]
     },
     "execution_count": 19,
     "metadata": {},
     "output_type": "execute_result"
    }
   ],
   "source": []
  },
  {
   "cell_type": "markdown",
   "metadata": {},
   "source": [
    "### `num_rows`\n",
    "\n",
    "De manera similar, la propiedad `num_rows` le dice cuántas filas hay en una tabla."
   ]
  },
  {
   "cell_type": "code",
   "execution_count": 20,
   "metadata": {},
   "outputs": [
    {
     "name": "stdout",
     "output_type": "stream",
     "text": [
      "The table has 8546 rows in it!\n"
     ]
    }
   ],
   "source": [
    "# imprime  \"La tabla tiene\", num_farmers_markets_rows, \"filas en ella!\"\n",
    "\n",
    "num_farmers_markets_rows = "
   ]
  },
  {
   "cell_type": "markdown",
   "metadata": {},
   "source": [
    "### `select`\n",
    "\n",
    "La mayoría de las columnas tratan sobre productos en particular, ya sea que el mercado venda tofu, comida para mascotas, etc. Si no estamos interesados en esa información, simplemente hace que la tabla sea difícil de leer. Esto sucede más de lo que se podría pensar, porque es posible que las personas que recopilan y publican los datos no sepan de antemano qué dr querrá hacer con ellos.\n",
    "\n",
    "En tales situaciones, podemos usar el método de tabla `select` para elegir solo las columnas que queremos en una tabla en particular. Recibe cualquier número de argumentos. Cada uno debe ser el nombre de una columna de la tabla. Devuelve una nueva tabla con solo esas columnas. Las columnas están en el orden *en el que se enumeraron como argumentos*.\n",
    "\n",
    "Por ejemplo, el valor de `Farmers_markets.select (\"MarketName\",\"State\")` es una tabla con solo el nombre y el estado de cada mercado campesino en `Farmers_markets`.\n",
    "\n",
    "\n",
    "\n",
    "**Pregunta 3.3.** Use `select` para crear una tabla con solo el nombre, ciudad, estado, latitud (`y`) y longitud (`x`) de cada mercado. Llame a esa nueva tabla `Farmers_markets_locations`.\n",
    "\n",
    "*Sugerencia:* Asegúrese de ser exacto cuando use nombres de columna con `select`; ¡Revise muy bien mayúsculas y minúsculas!\n",
    "\n",
    "```\n",
    "BEGIN QUESTION\n",
    "name: q33\n",
    "```"
   ]
  },
  {
   "cell_type": "code",
   "execution_count": 21,
   "metadata": {},
   "outputs": [
    {
     "data": {
      "text/html": [
       "<table border=\"1\" class=\"dataframe\">\n",
       "    <thead>\n",
       "        <tr>\n",
       "            <th>city</th> <th>State</th> <th>y</th> <th>MarketName</th> <th>x</th>\n",
       "        </tr>\n",
       "    </thead>\n",
       "    <tbody>\n",
       "        <tr>\n",
       "            <td>Danville  </td> <td>Vermont             </td> <td>44.411 </td> <td> Caledonia Farmers Market Association - Danville</td> <td>-72.1403</td>\n",
       "        </tr>\n",
       "        <tr>\n",
       "            <td>Parma     </td> <td>Ohio                </td> <td>41.3751</td> <td> Stearns Homestead Farmers' Market              </td> <td>-81.7286</td>\n",
       "        </tr>\n",
       "        <tr>\n",
       "            <td>Kalamazoo </td> <td>Michigan            </td> <td>42.296 </td> <td>100 Mile Market                                 </td> <td>-85.5749</td>\n",
       "        </tr>\n",
       "        <tr>\n",
       "            <td>Six Mile  </td> <td>South Carolina      </td> <td>34.8042</td> <td>106 S. Main Street Farmers Market               </td> <td>-82.8187</td>\n",
       "        </tr>\n",
       "        <tr>\n",
       "            <td>Lamar     </td> <td>Missouri            </td> <td>37.4956</td> <td>10th Steet Community Farmers Market             </td> <td>-94.2746</td>\n",
       "        </tr>\n",
       "        <tr>\n",
       "            <td>New York  </td> <td>New York            </td> <td>40.7939</td> <td>112st Madison Avenue                            </td> <td>-73.9493</td>\n",
       "        </tr>\n",
       "        <tr>\n",
       "            <td>Nashville </td> <td>Tennessee           </td> <td>36.1184</td> <td>12 South Farmers Market                         </td> <td>-86.7907</td>\n",
       "        </tr>\n",
       "        <tr>\n",
       "            <td>New York  </td> <td>New York            </td> <td>40.809 </td> <td>125th Street Fresh Connect Farmers' Market      </td> <td>-73.9482</td>\n",
       "        </tr>\n",
       "        <tr>\n",
       "            <td>Wilmington</td> <td>Delaware            </td> <td>39.7421</td> <td>12th & Brandywine Urban Farm Market             </td> <td>-75.5345</td>\n",
       "        </tr>\n",
       "        <tr>\n",
       "            <td>Washington</td> <td>District of Columbia</td> <td>38.917 </td> <td>14&U Farmers' Market                            </td> <td>-77.0321</td>\n",
       "        </tr>\n",
       "    </tbody>\n",
       "</table>\n",
       "<p>... (8536 rows omitted)</p>"
      ],
      "text/plain": [
       "city       | State                | y       | MarketName                                       | x\n",
       "Danville   | Vermont              | 44.411  |  Caledonia Farmers Market Association - Danville | -72.1403\n",
       "Parma      | Ohio                 | 41.3751 |  Stearns Homestead Farmers' Market               | -81.7286\n",
       "Kalamazoo  | Michigan             | 42.296  | 100 Mile Market                                  | -85.5749\n",
       "Six Mile   | South Carolina       | 34.8042 | 106 S. Main Street Farmers Market                | -82.8187\n",
       "Lamar      | Missouri             | 37.4956 | 10th Steet Community Farmers Market              | -94.2746\n",
       "New York   | New York             | 40.7939 | 112st Madison Avenue                             | -73.9493\n",
       "Nashville  | Tennessee            | 36.1184 | 12 South Farmers Market                          | -86.7907\n",
       "New York   | New York             | 40.809  | 125th Street Fresh Connect Farmers' Market       | -73.9482\n",
       "Wilmington | Delaware             | 39.7421 | 12th & Brandywine Urban Farm Market              | -75.5345\n",
       "Washington | District of Columbia | 38.917  | 14&U Farmers' Market                             | -77.0321\n",
       "... (8536 rows omitted)"
      ]
     },
     "execution_count": 21,
     "metadata": {},
     "output_type": "execute_result"
    }
   ],
   "source": [
    "farmers_markets_locations = # SOLUTION\n",
    "farmers_markets_locations"
   ]
  },
  {
   "cell_type": "code",
   "execution_count": 23,
   "metadata": {},
   "outputs": [
    {
     "data": {
      "text/plain": [
       "True"
      ]
     },
     "execution_count": 23,
     "metadata": {},
     "output_type": "execute_result"
    }
   ],
   "source": []
  },
  {
   "cell_type": "code",
   "execution_count": 24,
   "metadata": {},
   "outputs": [
    {
     "data": {
      "text/plain": [
       "True"
      ]
     },
     "execution_count": 24,
     "metadata": {},
     "output_type": "execute_result"
    }
   ],
   "source": []
  },
  {
   "cell_type": "markdown",
   "metadata": {},
   "source": [
    "### `drop`\n",
    "\n",
    "\n",
    "`drop` tiene el mismo propósito que` select`, pero elimina las columnas proporcionadas en lugar de las que no. Como `select`, `drop` devuelve una nueva tabla.\n",
    "\n",
    "**Pregunta 3.4.** Suponga que simplemente no quiere las columnas `FMID` y `updateTime` en `Farmers_markets`. Cree una tabla que sea una copia de `Farmers_markets` pero que no incluya esas columnas. Llame a esa tabla `Farmers_markets_without_fmid`.\n",
    "\n",
    "```\n",
    "BEGIN QUESTION\n",
    "name: q34\n",
    "```"
   ]
  },
  {
   "cell_type": "code",
   "execution_count": 25,
   "metadata": {},
   "outputs": [
    {
     "data": {
      "text/html": [
       "<table border=\"1\" class=\"dataframe\">\n",
       "    <thead>\n",
       "        <tr>\n",
       "            <th>MarketName</th> <th>street</th> <th>city</th> <th>County</th> <th>State</th> <th>zip</th> <th>x</th> <th>y</th> <th>Website</th> <th>Facebook</th> <th>Twitter</th> <th>Youtube</th> <th>OtherMedia</th> <th>Organic</th> <th>Tofu</th> <th>Bakedgoods</th> <th>Cheese</th> <th>Crafts</th> <th>Flowers</th> <th>Eggs</th> <th>Seafood</th> <th>Herbs</th> <th>Vegetables</th> <th>Honey</th> <th>Jams</th> <th>Maple</th> <th>Meat</th> <th>Nursery</th> <th>Nuts</th> <th>Plants</th> <th>Poultry</th> <th>Prepared</th> <th>Soap</th> <th>Trees</th> <th>Wine</th> <th>Coffee</th> <th>Beans</th> <th>Fruits</th> <th>Grains</th> <th>Juices</th> <th>Mushrooms</th> <th>PetFood</th> <th>WildHarvested</th> <th>Location</th> <th>Credit</th> <th>WIC</th> <th>WICcash</th> <th>SFMNP</th> <th>SNAP</th> <th>Season1Date</th> <th>Season1Time</th> <th>Season2Date</th> <th>Season2Time</th> <th>Season3Date</th> <th>Season3Time</th> <th>Season4Date</th> <th>Season4Time</th>\n",
       "        </tr>\n",
       "    </thead>\n",
       "    <tbody>\n",
       "        <tr>\n",
       "            <td> Caledonia Farmers Market Association - Danville</td> <td>nan                                                     </td> <td>Danville  </td> <td>Caledonia           </td> <td>Vermont             </td> <td>05828</td> <td>-72.1403</td> <td>44.411 </td> <td>https://sites.google.com/site/caledoniafarmersmarket/</td> <td>https://www.facebook.com/Danville.VT.Farmers.Market/        </td> <td>nan                                </td> <td>nan    </td> <td>nan                                                         </td> <td>Y      </td> <td>N   </td> <td>Y         </td> <td>Y     </td> <td>Y     </td> <td>Y      </td> <td>Y   </td> <td>N      </td> <td>Y    </td> <td>Y         </td> <td>Y    </td> <td>Y   </td> <td>Y    </td> <td>Y   </td> <td>N      </td> <td>N   </td> <td>Y     </td> <td>Y      </td> <td>Y       </td> <td>Y   </td> <td>Y    </td> <td>N   </td> <td>Y     </td> <td>Y    </td> <td>Y     </td> <td>N     </td> <td>Y     </td> <td>N        </td> <td>Y      </td> <td>N            </td> <td>nan                                                       </td> <td>Y     </td> <td>Y   </td> <td>N      </td> <td>Y    </td> <td>N   </td> <td>06/08/2016 to 10/12/2016</td> <td>Wed: 9:00 AM-1:00 PM;                       </td> <td>nan        </td> <td>nan        </td> <td>nan        </td> <td>nan        </td> <td>nan        </td> <td>nan        </td>\n",
       "        </tr>\n",
       "        <tr>\n",
       "            <td> Stearns Homestead Farmers' Market              </td> <td>6975 Ridge Road                                         </td> <td>Parma     </td> <td>Cuyahoga            </td> <td>Ohio                </td> <td>44130</td> <td>-81.7286</td> <td>41.3751</td> <td>http://Stearnshomestead.com                          </td> <td>nan                                                         </td> <td>nan                                </td> <td>nan    </td> <td>nan                                                         </td> <td>-      </td> <td>N   </td> <td>Y         </td> <td>N     </td> <td>N     </td> <td>Y      </td> <td>Y   </td> <td>N      </td> <td>Y    </td> <td>Y         </td> <td>Y    </td> <td>Y   </td> <td>Y    </td> <td>Y   </td> <td>N      </td> <td>N   </td> <td>Y     </td> <td>N      </td> <td>N       </td> <td>N   </td> <td>N    </td> <td>N   </td> <td>N     </td> <td>N    </td> <td>Y     </td> <td>N     </td> <td>N     </td> <td>N        </td> <td>Y      </td> <td>N            </td> <td>nan                                                       </td> <td>Y     </td> <td>Y   </td> <td>N      </td> <td>Y    </td> <td>Y   </td> <td>06/25/2016 to 10/01/2016</td> <td>Sat: 9:00 AM-1:00 PM;                       </td> <td>nan        </td> <td>nan        </td> <td>nan        </td> <td>nan        </td> <td>nan        </td> <td>nan        </td>\n",
       "        </tr>\n",
       "        <tr>\n",
       "            <td>100 Mile Market                                 </td> <td>507 Harrison St                                         </td> <td>Kalamazoo </td> <td>Kalamazoo           </td> <td>Michigan            </td> <td>49007</td> <td>-85.5749</td> <td>42.296 </td> <td>http://www.pfcmarkets.com                            </td> <td>https://www.facebook.com/100MileMarket/?fref=ts             </td> <td>nan                                </td> <td>nan    </td> <td>https://www.instagram.com/100milemarket/                    </td> <td>N      </td> <td>N   </td> <td>Y         </td> <td>Y     </td> <td>N     </td> <td>Y      </td> <td>Y   </td> <td>N      </td> <td>Y    </td> <td>Y         </td> <td>Y    </td> <td>Y   </td> <td>Y    </td> <td>Y   </td> <td>N      </td> <td>N   </td> <td>N     </td> <td>Y      </td> <td>Y       </td> <td>Y   </td> <td>N    </td> <td>Y   </td> <td>N     </td> <td>N    </td> <td>Y     </td> <td>Y     </td> <td>N     </td> <td>N        </td> <td>N      </td> <td>N            </td> <td>nan                                                       </td> <td>Y     </td> <td>Y   </td> <td>N      </td> <td>Y    </td> <td>Y   </td> <td>05/04/2016 to 10/12/2016</td> <td>Wed: 3:00 PM-7:00 PM;                       </td> <td>nan        </td> <td>nan        </td> <td>nan        </td> <td>nan        </td> <td>nan        </td> <td>nan        </td>\n",
       "        </tr>\n",
       "        <tr>\n",
       "            <td>106 S. Main Street Farmers Market               </td> <td>106 S. Main Street                                      </td> <td>Six Mile  </td> <td>nan                 </td> <td>South Carolina      </td> <td>29682</td> <td>-82.8187</td> <td>34.8042</td> <td>http://thetownofsixmile.wordpress.com/               </td> <td>nan                                                         </td> <td>nan                                </td> <td>nan    </td> <td>nan                                                         </td> <td>-      </td> <td>N   </td> <td>N         </td> <td>N     </td> <td>N     </td> <td>N      </td> <td>N   </td> <td>N      </td> <td>N    </td> <td>N         </td> <td>N    </td> <td>N   </td> <td>N    </td> <td>N   </td> <td>N      </td> <td>N   </td> <td>N     </td> <td>N      </td> <td>N       </td> <td>N   </td> <td>N    </td> <td>N   </td> <td>N     </td> <td>N    </td> <td>N     </td> <td>N     </td> <td>N     </td> <td>N        </td> <td>N      </td> <td>N            </td> <td>nan                                                       </td> <td>Y     </td> <td>N   </td> <td>N      </td> <td>N    </td> <td>N   </td> <td>nan                     </td> <td>nan                                         </td> <td>nan        </td> <td>nan        </td> <td>nan        </td> <td>nan        </td> <td>nan        </td> <td>nan        </td>\n",
       "        </tr>\n",
       "        <tr>\n",
       "            <td>10th Steet Community Farmers Market             </td> <td>10th Street and Poplar                                  </td> <td>Lamar     </td> <td>Barton              </td> <td>Missouri            </td> <td>64759</td> <td>-94.2746</td> <td>37.4956</td> <td>nan                                                  </td> <td>nan                                                         </td> <td>nan                                </td> <td>nan    </td> <td>http://agrimissouri.com/mo-grown/grodetail.php?type=mo-g ...</td> <td>-      </td> <td>N   </td> <td>Y         </td> <td>N     </td> <td>Y     </td> <td>N      </td> <td>Y   </td> <td>N      </td> <td>Y    </td> <td>Y         </td> <td>Y    </td> <td>Y   </td> <td>N    </td> <td>Y   </td> <td>N      </td> <td>N   </td> <td>Y     </td> <td>Y      </td> <td>Y       </td> <td>Y   </td> <td>N    </td> <td>N   </td> <td>N     </td> <td>N    </td> <td>Y     </td> <td>N     </td> <td>N     </td> <td>N        </td> <td>N      </td> <td>N            </td> <td>nan                                                       </td> <td>Y     </td> <td>N   </td> <td>N      </td> <td>N    </td> <td>N   </td> <td>04/02/2014 to 11/30/2014</td> <td>Wed: 3:00 PM-6:00 PM;Sat: 8:00 AM-1:00 PM;  </td> <td>nan        </td> <td>nan        </td> <td>nan        </td> <td>nan        </td> <td>nan        </td> <td>nan        </td>\n",
       "        </tr>\n",
       "        <tr>\n",
       "            <td>112st Madison Avenue                            </td> <td>112th Madison Avenue                                    </td> <td>New York  </td> <td>New York            </td> <td>New York            </td> <td>10029</td> <td>-73.9493</td> <td>40.7939</td> <td>nan                                                  </td> <td>nan                                                         </td> <td>nan                                </td> <td>nan    </td> <td>nan                                                         </td> <td>-      </td> <td>N   </td> <td>Y         </td> <td>N     </td> <td>Y     </td> <td>Y      </td> <td>N   </td> <td>N      </td> <td>Y    </td> <td>Y         </td> <td>Y    </td> <td>Y   </td> <td>N    </td> <td>N   </td> <td>N      </td> <td>Y   </td> <td>N     </td> <td>N      </td> <td>Y       </td> <td>Y   </td> <td>N    </td> <td>N   </td> <td>N     </td> <td>N    </td> <td>N     </td> <td>N     </td> <td>N     </td> <td>N        </td> <td>N      </td> <td>N            </td> <td>Private business parking lot                              </td> <td>N     </td> <td>N   </td> <td>Y      </td> <td>Y    </td> <td>N   </td> <td>July to November        </td> <td>Tue:8:00 am - 5:00 pm;Sat:8:00 am - 8:00 pm;</td> <td>nan        </td> <td>nan        </td> <td>nan        </td> <td>nan        </td> <td>nan        </td> <td>nan        </td>\n",
       "        </tr>\n",
       "        <tr>\n",
       "            <td>12 South Farmers Market                         </td> <td>3000 Granny White Pike                                  </td> <td>Nashville </td> <td>Davidson            </td> <td>Tennessee           </td> <td>37204</td> <td>-86.7907</td> <td>36.1184</td> <td>http://www.12southfarmersmarket.com                  </td> <td>12_South_Farmers_Market                                     </td> <td>@12southfrmsmkt                    </td> <td>nan    </td> <td>@12southfrmsmkt                                             </td> <td>Y      </td> <td>N   </td> <td>Y         </td> <td>Y     </td> <td>N     </td> <td>Y      </td> <td>Y   </td> <td>N      </td> <td>Y    </td> <td>Y         </td> <td>Y    </td> <td>Y   </td> <td>Y    </td> <td>Y   </td> <td>N      </td> <td>N   </td> <td>N     </td> <td>Y      </td> <td>Y       </td> <td>Y   </td> <td>N    </td> <td>N   </td> <td>Y     </td> <td>N    </td> <td>Y     </td> <td>N     </td> <td>Y     </td> <td>Y        </td> <td>Y      </td> <td>N            </td> <td>nan                                                       </td> <td>Y     </td> <td>N   </td> <td>N      </td> <td>N    </td> <td>Y   </td> <td>05/05/2015 to 10/27/2015</td> <td>Tue: 3:30 PM-6:30 PM;                       </td> <td>nan        </td> <td>nan        </td> <td>nan        </td> <td>nan        </td> <td>nan        </td> <td>nan        </td>\n",
       "        </tr>\n",
       "        <tr>\n",
       "            <td>125th Street Fresh Connect Farmers' Market      </td> <td>163 West 125th Street and Adam Clayton Powell, Jr. Blvd.</td> <td>New York  </td> <td>New York            </td> <td>New York            </td> <td>10027</td> <td>-73.9482</td> <td>40.809 </td> <td>http://www.125thStreetFarmersMarket.com              </td> <td>https://www.facebook.com/125thStreetFarmersMarket           </td> <td>https://twitter.com/FarmMarket125th</td> <td>nan    </td> <td>Instagram--> 125thStreetFarmersMarket                       </td> <td>Y      </td> <td>N   </td> <td>Y         </td> <td>Y     </td> <td>Y     </td> <td>Y      </td> <td>Y   </td> <td>N      </td> <td>Y    </td> <td>Y         </td> <td>Y    </td> <td>Y   </td> <td>Y    </td> <td>Y   </td> <td>N      </td> <td>Y   </td> <td>N     </td> <td>Y      </td> <td>Y       </td> <td>Y   </td> <td>N    </td> <td>Y   </td> <td>Y     </td> <td>N    </td> <td>Y     </td> <td>N     </td> <td>Y     </td> <td>N        </td> <td>N      </td> <td>N            </td> <td>Federal/State government building grounds                 </td> <td>Y     </td> <td>Y   </td> <td>N      </td> <td>Y    </td> <td>Y   </td> <td>06/10/2014 to 11/25/2014</td> <td>Tue: 10:00 AM-7:00 PM;                      </td> <td>nan        </td> <td>nan        </td> <td>nan        </td> <td>nan        </td> <td>nan        </td> <td>nan        </td>\n",
       "        </tr>\n",
       "        <tr>\n",
       "            <td>12th & Brandywine Urban Farm Market             </td> <td>12th & Brandywine Streets                               </td> <td>Wilmington</td> <td>New Castle          </td> <td>Delaware            </td> <td>19801</td> <td>-75.5345</td> <td>39.7421</td> <td>nan                                                  </td> <td>https://www.facebook.com/pages/12th-Brandywine-Urban-Far ...</td> <td>nan                                </td> <td>nan    </td> <td>https://www.facebook.com/delawareurbanfarmcoalition         </td> <td>N      </td> <td>N   </td> <td>N         </td> <td>N     </td> <td>N     </td> <td>N      </td> <td>N   </td> <td>N      </td> <td>Y    </td> <td>Y         </td> <td>N    </td> <td>N   </td> <td>N    </td> <td>N   </td> <td>N      </td> <td>N   </td> <td>N     </td> <td>N      </td> <td>N       </td> <td>N   </td> <td>N    </td> <td>N   </td> <td>N     </td> <td>N    </td> <td>Y     </td> <td>N     </td> <td>N     </td> <td>N        </td> <td>N      </td> <td>N            </td> <td>On a farm from: a barn, a greenhouse, a tent, a stand, etc</td> <td>N     </td> <td>N   </td> <td>N      </td> <td>N    </td> <td>Y   </td> <td>05/16/2014 to 10/17/2014</td> <td>Fri: 8:00 AM-11:00 AM;                      </td> <td>nan        </td> <td>nan        </td> <td>nan        </td> <td>nan        </td> <td>nan        </td> <td>nan        </td>\n",
       "        </tr>\n",
       "        <tr>\n",
       "            <td>14&U Farmers' Market                            </td> <td>1400 U Street NW                                        </td> <td>Washington</td> <td>District of Columbia</td> <td>District of Columbia</td> <td>20009</td> <td>-77.0321</td> <td>38.917 </td> <td>nan                                                  </td> <td>https://www.facebook.com/14UFarmersMarket                   </td> <td>https://twitter.com/14UFarmersMkt  </td> <td>nan    </td> <td>nan                                                         </td> <td>Y      </td> <td>N   </td> <td>Y         </td> <td>Y     </td> <td>N     </td> <td>Y      </td> <td>Y   </td> <td>N      </td> <td>Y    </td> <td>Y         </td> <td>Y    </td> <td>Y   </td> <td>N    </td> <td>Y   </td> <td>N      </td> <td>Y   </td> <td>Y     </td> <td>Y      </td> <td>N       </td> <td>N   </td> <td>N    </td> <td>N   </td> <td>N     </td> <td>Y    </td> <td>Y     </td> <td>Y     </td> <td>Y     </td> <td>N        </td> <td>N      </td> <td>N            </td> <td>Other                                                     </td> <td>Y     </td> <td>Y   </td> <td>Y      </td> <td>Y    </td> <td>Y   </td> <td>05/03/2014 to 11/22/2014</td> <td>Sat: 9:00 AM-1:00 PM;                       </td> <td>nan        </td> <td>nan        </td> <td>nan        </td> <td>nan        </td> <td>nan        </td> <td>nan        </td>\n",
       "        </tr>\n",
       "    </tbody>\n",
       "</table>\n",
       "<p>... (8536 rows omitted)</p>"
      ],
      "text/plain": [
       "MarketName                                       | street                                                   | city       | County               | State                | zip   | x        | y       | Website                                               | Facebook                                                     | Twitter                             | Youtube | OtherMedia                                                   | Organic | Tofu | Bakedgoods | Cheese | Crafts | Flowers | Eggs | Seafood | Herbs | Vegetables | Honey | Jams | Maple | Meat | Nursery | Nuts | Plants | Poultry | Prepared | Soap | Trees | Wine | Coffee | Beans | Fruits | Grains | Juices | Mushrooms | PetFood | WildHarvested | Location                                                   | Credit | WIC  | WICcash | SFMNP | SNAP | Season1Date              | Season1Time                                  | Season2Date | Season2Time | Season3Date | Season3Time | Season4Date | Season4Time\n",
       " Caledonia Farmers Market Association - Danville | nan                                                      | Danville   | Caledonia            | Vermont              | 05828 | -72.1403 | 44.411  | https://sites.google.com/site/caledoniafarmersmarket/ | https://www.facebook.com/Danville.VT.Farmers.Market/         | nan                                 | nan     | nan                                                          | Y       | N    | Y          | Y      | Y      | Y       | Y    | N       | Y     | Y          | Y     | Y    | Y     | Y    | N       | N    | Y      | Y       | Y        | Y    | Y     | N    | Y      | Y     | Y      | N      | Y      | N         | Y       | N             | nan                                                        | Y      | Y    | N       | Y     | N    | 06/08/2016 to 10/12/2016 | Wed: 9:00 AM-1:00 PM;                        | nan         | nan         | nan         | nan         | nan         | nan\n",
       " Stearns Homestead Farmers' Market               | 6975 Ridge Road                                          | Parma      | Cuyahoga             | Ohio                 | 44130 | -81.7286 | 41.3751 | http://Stearnshomestead.com                           | nan                                                          | nan                                 | nan     | nan                                                          | -       | N    | Y          | N      | N      | Y       | Y    | N       | Y     | Y          | Y     | Y    | Y     | Y    | N       | N    | Y      | N       | N        | N    | N     | N    | N      | N     | Y      | N      | N      | N         | Y       | N             | nan                                                        | Y      | Y    | N       | Y     | Y    | 06/25/2016 to 10/01/2016 | Sat: 9:00 AM-1:00 PM;                        | nan         | nan         | nan         | nan         | nan         | nan\n",
       "100 Mile Market                                  | 507 Harrison St                                          | Kalamazoo  | Kalamazoo            | Michigan             | 49007 | -85.5749 | 42.296  | http://www.pfcmarkets.com                             | https://www.facebook.com/100MileMarket/?fref=ts              | nan                                 | nan     | https://www.instagram.com/100milemarket/                     | N       | N    | Y          | Y      | N      | Y       | Y    | N       | Y     | Y          | Y     | Y    | Y     | Y    | N       | N    | N      | Y       | Y        | Y    | N     | Y    | N      | N     | Y      | Y      | N      | N         | N       | N             | nan                                                        | Y      | Y    | N       | Y     | Y    | 05/04/2016 to 10/12/2016 | Wed: 3:00 PM-7:00 PM;                        | nan         | nan         | nan         | nan         | nan         | nan\n",
       "106 S. Main Street Farmers Market                | 106 S. Main Street                                       | Six Mile   | nan                  | South Carolina       | 29682 | -82.8187 | 34.8042 | http://thetownofsixmile.wordpress.com/                | nan                                                          | nan                                 | nan     | nan                                                          | -       | N    | N          | N      | N      | N       | N    | N       | N     | N          | N     | N    | N     | N    | N       | N    | N      | N       | N        | N    | N     | N    | N      | N     | N      | N      | N      | N         | N       | N             | nan                                                        | Y      | N    | N       | N     | N    | nan                      | nan                                          | nan         | nan         | nan         | nan         | nan         | nan\n",
       "10th Steet Community Farmers Market              | 10th Street and Poplar                                   | Lamar      | Barton               | Missouri             | 64759 | -94.2746 | 37.4956 | nan                                                   | nan                                                          | nan                                 | nan     | http://agrimissouri.com/mo-grown/grodetail.php?type=mo-g ... | -       | N    | Y          | N      | Y      | N       | Y    | N       | Y     | Y          | Y     | Y    | N     | Y    | N       | N    | Y      | Y       | Y        | Y    | N     | N    | N      | N     | Y      | N      | N      | N         | N       | N             | nan                                                        | Y      | N    | N       | N     | N    | 04/02/2014 to 11/30/2014 | Wed: 3:00 PM-6:00 PM;Sat: 8:00 AM-1:00 PM;   | nan         | nan         | nan         | nan         | nan         | nan\n",
       "112st Madison Avenue                             | 112th Madison Avenue                                     | New York   | New York             | New York             | 10029 | -73.9493 | 40.7939 | nan                                                   | nan                                                          | nan                                 | nan     | nan                                                          | -       | N    | Y          | N      | Y      | Y       | N    | N       | Y     | Y          | Y     | Y    | N     | N    | N       | Y    | N      | N       | Y        | Y    | N     | N    | N      | N     | N      | N      | N      | N         | N       | N             | Private business parking lot                               | N      | N    | Y       | Y     | N    | July to November         | Tue:8:00 am - 5:00 pm;Sat:8:00 am - 8:00 pm; | nan         | nan         | nan         | nan         | nan         | nan\n",
       "12 South Farmers Market                          | 3000 Granny White Pike                                   | Nashville  | Davidson             | Tennessee            | 37204 | -86.7907 | 36.1184 | http://www.12southfarmersmarket.com                   | 12_South_Farmers_Market                                      | @12southfrmsmkt                     | nan     | @12southfrmsmkt                                              | Y       | N    | Y          | Y      | N      | Y       | Y    | N       | Y     | Y          | Y     | Y    | Y     | Y    | N       | N    | N      | Y       | Y        | Y    | N     | N    | Y      | N     | Y      | N      | Y      | Y         | Y       | N             | nan                                                        | Y      | N    | N       | N     | Y    | 05/05/2015 to 10/27/2015 | Tue: 3:30 PM-6:30 PM;                        | nan         | nan         | nan         | nan         | nan         | nan\n",
       "125th Street Fresh Connect Farmers' Market       | 163 West 125th Street and Adam Clayton Powell, Jr. Blvd. | New York   | New York             | New York             | 10027 | -73.9482 | 40.809  | http://www.125thStreetFarmersMarket.com               | https://www.facebook.com/125thStreetFarmersMarket            | https://twitter.com/FarmMarket125th | nan     | Instagram--> 125thStreetFarmersMarket                        | Y       | N    | Y          | Y      | Y      | Y       | Y    | N       | Y     | Y          | Y     | Y    | Y     | Y    | N       | Y    | N      | Y       | Y        | Y    | N     | Y    | Y      | N     | Y      | N      | Y      | N         | N       | N             | Federal/State government building grounds                  | Y      | Y    | N       | Y     | Y    | 06/10/2014 to 11/25/2014 | Tue: 10:00 AM-7:00 PM;                       | nan         | nan         | nan         | nan         | nan         | nan\n",
       "12th & Brandywine Urban Farm Market              | 12th & Brandywine Streets                                | Wilmington | New Castle           | Delaware             | 19801 | -75.5345 | 39.7421 | nan                                                   | https://www.facebook.com/pages/12th-Brandywine-Urban-Far ... | nan                                 | nan     | https://www.facebook.com/delawareurbanfarmcoalition          | N       | N    | N          | N      | N      | N       | N    | N       | Y     | Y          | N     | N    | N     | N    | N       | N    | N      | N       | N        | N    | N     | N    | N      | N     | Y      | N      | N      | N         | N       | N             | On a farm from: a barn, a greenhouse, a tent, a stand, etc | N      | N    | N       | N     | Y    | 05/16/2014 to 10/17/2014 | Fri: 8:00 AM-11:00 AM;                       | nan         | nan         | nan         | nan         | nan         | nan\n",
       "14&U Farmers' Market                             | 1400 U Street NW                                         | Washington | District of Columbia | District of Columbia | 20009 | -77.0321 | 38.917  | nan                                                   | https://www.facebook.com/14UFarmersMarket                    | https://twitter.com/14UFarmersMkt   | nan     | nan                                                          | Y       | N    | Y          | Y      | N      | Y       | Y    | N       | Y     | Y          | Y     | Y    | N     | Y    | N       | Y    | Y      | Y       | N        | N    | N     | N    | N      | Y     | Y      | Y      | Y      | N         | N       | N             | Other                                                      | Y      | Y    | Y       | Y     | Y    | 05/03/2014 to 11/22/2014 | Sat: 9:00 AM-1:00 PM;                        | nan         | nan         | nan         | nan         | nan         | nan\n",
       "... (8536 rows omitted)"
      ]
     },
     "execution_count": 25,
     "metadata": {},
     "output_type": "execute_result"
    }
   ],
   "source": [
    "farmers_markets_without_fmid =  \n",
    "farmers_markets_without_fmid"
   ]
  },
  {
   "cell_type": "code",
   "execution_count": 26,
   "metadata": {},
   "outputs": [
    {
     "data": {
      "text/plain": [
       "True"
      ]
     },
     "execution_count": 26,
     "metadata": {},
     "output_type": "execute_result"
    }
   ],
   "source": []
  },
  {
   "cell_type": "code",
   "execution_count": 27,
   "metadata": {},
   "outputs": [
    {
     "name": "stdout",
     "output_type": "stream",
     "text": [
      "['Bakedgoods', 'Beans', 'Cheese', 'Coffee', 'County', 'Crafts', 'Credit', 'Eggs', 'Facebook', 'Flowers', 'Fruits', 'Grains', 'Herbs', 'Honey', 'Jams', 'Juices', 'Location', 'Maple', 'MarketName', 'Meat', 'Mushrooms', 'Nursery', 'Nuts', 'Organic', 'OtherMedia', 'PetFood', 'Plants', 'Poultry', 'Prepared', 'SFMNP', 'SNAP', 'Seafood', 'Season1Date', 'Season1Time', 'Season2Date', 'Season2Time', 'Season3Date', 'Season3Time', 'Season4Date', 'Season4Time', 'Soap', 'State', 'Tofu', 'Trees', 'Twitter', 'Vegetables', 'WIC', 'WICcash', 'Website', 'WildHarvested', 'Wine', 'Youtube', 'city', 'street', 'x', 'y', 'zip']\n"
     ]
    }
   ],
   "source": []
  },
  {
   "cell_type": "markdown",
   "metadata": {},
   "source": [
    "Ahora, supongamos que queremos responder algunas preguntas sobre los mercados campesinos en los EE. UU. Por ejemplo, ¿qué mercado(s) tienen la mayor longitud (dada por la columna `x`)?\n",
    "\n",
    "Para responder a esto, ordenaremos `Farmers_markets_locations` por longitud."
   ]
  },
  {
   "cell_type": "code",
   "execution_count": 28,
   "metadata": {},
   "outputs": [
    {
     "data": {
      "text/html": [
       "<table border=\"1\" class=\"dataframe\">\n",
       "    <thead>\n",
       "        <tr>\n",
       "            <th>city</th> <th>State</th> <th>y</th> <th>MarketName</th> <th>x</th>\n",
       "        </tr>\n",
       "    </thead>\n",
       "    <tbody>\n",
       "        <tr>\n",
       "            <td>Trapper Creek</td> <td>Alaska</td> <td>53.8748</td> <td>Trapper Creek Farmers Market                  </td> <td>-166.54 </td>\n",
       "        </tr>\n",
       "        <tr>\n",
       "            <td>Kekaha       </td> <td>Hawaii</td> <td>21.9704</td> <td>Kekaha Neighborhood Center (Sunshine Markets) </td> <td>-159.718</td>\n",
       "        </tr>\n",
       "        <tr>\n",
       "            <td>Hanapepe     </td> <td>Hawaii</td> <td>21.9101</td> <td>Hanapepe Park (Sunshine Markets)              </td> <td>-159.588</td>\n",
       "        </tr>\n",
       "        <tr>\n",
       "            <td>Kalaheo      </td> <td>Hawaii</td> <td>21.9251</td> <td>Kalaheo Neighborhood Center (Sunshine Markets)</td> <td>-159.527</td>\n",
       "        </tr>\n",
       "        <tr>\n",
       "            <td>Hanalei      </td> <td>Hawaii</td> <td>22.2033</td> <td>Hawaiian Farmers of Hanalei                   </td> <td>-159.514</td>\n",
       "        </tr>\n",
       "        <tr>\n",
       "            <td>Hanalei      </td> <td>Hawaii</td> <td>22.2042</td> <td>Hanalei Saturday Farmers Market               </td> <td>-159.492</td>\n",
       "        </tr>\n",
       "        <tr>\n",
       "            <td>Koloa        </td> <td>Hawaii</td> <td>21.9067</td> <td>Kauai Culinary Market                         </td> <td>-159.469</td>\n",
       "        </tr>\n",
       "        <tr>\n",
       "            <td>Koloa        </td> <td>Hawaii</td> <td>21.9081</td> <td>Koloa Ball Park (Knudsen) (Sunshine Markets)  </td> <td>-159.465</td>\n",
       "        </tr>\n",
       "        <tr>\n",
       "            <td>Poipu        </td> <td>Hawaii</td> <td>21.8815</td> <td>West Kauai Agricultural Association           </td> <td>-159.435</td>\n",
       "        </tr>\n",
       "        <tr>\n",
       "            <td>Kilauea      </td> <td>Hawaii</td> <td>22.2112</td> <td>Kilauea Neighborhood Center (Sunshine Markets)</td> <td>-159.406</td>\n",
       "        </tr>\n",
       "    </tbody>\n",
       "</table>\n",
       "<p>... (8536 rows omitted)</p>"
      ],
      "text/plain": [
       "city          | State  | y       | MarketName                                     | x\n",
       "Trapper Creek | Alaska | 53.8748 | Trapper Creek Farmers Market                   | -166.54\n",
       "Kekaha        | Hawaii | 21.9704 | Kekaha Neighborhood Center (Sunshine Markets)  | -159.718\n",
       "Hanapepe      | Hawaii | 21.9101 | Hanapepe Park (Sunshine Markets)               | -159.588\n",
       "Kalaheo       | Hawaii | 21.9251 | Kalaheo Neighborhood Center (Sunshine Markets) | -159.527\n",
       "Hanalei       | Hawaii | 22.2033 | Hawaiian Farmers of Hanalei                    | -159.514\n",
       "Hanalei       | Hawaii | 22.2042 | Hanalei Saturday Farmers Market                | -159.492\n",
       "Koloa         | Hawaii | 21.9067 | Kauai Culinary Market                          | -159.469\n",
       "Koloa         | Hawaii | 21.9081 | Koloa Ball Park (Knudsen) (Sunshine Markets)   | -159.465\n",
       "Poipu         | Hawaii | 21.8815 | West Kauai Agricultural Association            | -159.435\n",
       "Kilauea       | Hawaii | 22.2112 | Kilauea Neighborhood Center (Sunshine Markets) | -159.406\n",
       "... (8536 rows omitted)"
      ]
     },
     "execution_count": 28,
     "metadata": {},
     "output_type": "execute_result"
    }
   ],
   "source": [
    "farmers_markets_locations.sort('x')"
   ]
  },
  {
   "cell_type": "markdown",
   "metadata": {},
   "source": [
    "Oops, eso no respondió a nuestra pregunta porque ordenamos de menor a mayor longitud. Para ver las longitudes más grandes, tendremos que ordenarlas en orden inverso."
   ]
  },
  {
   "cell_type": "code",
   "execution_count": 29,
   "metadata": {},
   "outputs": [
    {
     "data": {
      "text/html": [
       "<table border=\"1\" class=\"dataframe\">\n",
       "    <thead>\n",
       "        <tr>\n",
       "            <th>city</th> <th>State</th> <th>y</th> <th>MarketName</th> <th>x</th>\n",
       "        </tr>\n",
       "    </thead>\n",
       "    <tbody>\n",
       "        <tr>\n",
       "            <td>Saint Croix       </td> <td>Virgin Islands</td> <td>17.7449</td> <td>Christian \"Shan\" Hendricks Vegetable Market</td> <td>-64.7043</td>\n",
       "        </tr>\n",
       "        <tr>\n",
       "            <td>Saint Croix       </td> <td>Virgin Islands</td> <td>17.7322</td> <td>La Reine Farmers Market                    </td> <td>-64.7789</td>\n",
       "        </tr>\n",
       "        <tr>\n",
       "            <td>Saint Croix       </td> <td>Virgin Islands</td> <td>17.7099</td> <td>Anne Heyliger Vegetable Market             </td> <td>-64.8799</td>\n",
       "        </tr>\n",
       "        <tr>\n",
       "            <td>St. Thomas        </td> <td>Virgin Islands</td> <td>18.3428</td> <td>Rothschild Francis Vegetable Market        </td> <td>-64.9326</td>\n",
       "        </tr>\n",
       "        <tr>\n",
       "            <td>Luquillo          </td> <td>Puerto Rico   </td> <td>18.3782</td> <td>Feria Agrícola de Luquillo                 </td> <td>-65.7207</td>\n",
       "        </tr>\n",
       "        <tr>\n",
       "            <td>San Lorenzo       </td> <td>Puerto Rico   </td> <td>18.1871</td> <td>El Mercado Familiar                        </td> <td>-65.9674</td>\n",
       "        </tr>\n",
       "        <tr>\n",
       "            <td>Gurabo            </td> <td>Puerto Rico   </td> <td>18.2526</td> <td>El Mercado Familiar                        </td> <td>-65.9786</td>\n",
       "        </tr>\n",
       "        <tr>\n",
       "            <td>Patillas          </td> <td>Puerto Rico   </td> <td>18.0069</td> <td>El Mercado Familiar                        </td> <td>-66.0135</td>\n",
       "        </tr>\n",
       "        <tr>\n",
       "            <td>Caguas zona urbana</td> <td>Puerto Rico   </td> <td>18.2324</td> <td>El Mercado Familiar                        </td> <td>-66.039 </td>\n",
       "        </tr>\n",
       "        <tr>\n",
       "            <td>Arroyo zona urbana</td> <td>Puerto Rico   </td> <td>17.9686</td> <td>El Maercado Familiar                       </td> <td>-66.0617</td>\n",
       "        </tr>\n",
       "    </tbody>\n",
       "</table>\n",
       "<p>... (8536 rows omitted)</p>"
      ],
      "text/plain": [
       "city               | State          | y       | MarketName                                  | x\n",
       "Saint Croix        | Virgin Islands | 17.7449 | Christian \"Shan\" Hendricks Vegetable Market | -64.7043\n",
       "Saint Croix        | Virgin Islands | 17.7322 | La Reine Farmers Market                     | -64.7789\n",
       "Saint Croix        | Virgin Islands | 17.7099 | Anne Heyliger Vegetable Market              | -64.8799\n",
       "St. Thomas         | Virgin Islands | 18.3428 | Rothschild Francis Vegetable Market         | -64.9326\n",
       "Luquillo           | Puerto Rico    | 18.3782 | Feria Agrícola de Luquillo                  | -65.7207\n",
       "San Lorenzo        | Puerto Rico    | 18.1871 | El Mercado Familiar                         | -65.9674\n",
       "Gurabo             | Puerto Rico    | 18.2526 | El Mercado Familiar                         | -65.9786\n",
       "Patillas           | Puerto Rico    | 18.0069 | El Mercado Familiar                         | -66.0135\n",
       "Caguas zona urbana | Puerto Rico    | 18.2324 | El Mercado Familiar                         | -66.039\n",
       "Arroyo zona urbana | Puerto Rico    | 17.9686 | El Maercado Familiar                        | -66.0617\n",
       "... (8536 rows omitted)"
      ]
     },
     "execution_count": 29,
     "metadata": {},
     "output_type": "execute_result"
    }
   ],
   "source": [
    "## Cómo puedo responder la preguntas usando la misma función?\n"
   ]
  },
  {
   "cell_type": "markdown",
   "metadata": {},
   "source": [
    "(El pedacito `descending = True` se llama *argumento opcional*. Tiene un valor predeterminado de `Falso`, por lo que cuando le dice explícitamente a la función `descending = True`, la función se ordenará en orden descendente).\n",
    "\n",
    "### `sort`\n",
    "\n",
    "Algunos detalles sobre el ordenamiento:\n",
    "\n",
    "1. El primer argumento para `sort` es el nombre de una columna por la que ordenar.\n",
    "2. Si la columna tiene texto, `sort` se ordenará alfabéticamente; si la columna tiene números, se ordenará numéricamente.\n",
    "3. El valor de `Farmers_markets_locations.sort(\"x\")` es una *copia* de `Farmers_markets_locations`; la tabla `Farmers_markets_locations` no se modifica. Por ejemplo, si llamamos a `Farmers_markets_locations.sort(\"x\")`, entonces ejecutar `Farmers_markets_locations` devolvería aún la tabla sin ordenar.\n",
    "4. Las filas siempre se mantienen juntas cuando se ordena una tabla. No tendría sentido ordenar solo una columna y dejar las otras columnas quietas. Por ejemplo, en este caso, si ordenamos solo la columna `x`, todos los mercados campesinos terminarían con longitudes incorrectas.\n",
    "\n",
    "**Pregunta 3.5.** Cree una versión de `farmer_markets_locations` que esté ordenada por **latitud(`y`)**, con las latitudes más grandes primero. Llámela `Farmers_markets_locations_by_latitude`.\n",
    "\n",
    "```\n",
    "BEGIN QUESTION\n",
    "name: q35\n",
    "```"
   ]
  },
  {
   "cell_type": "code",
   "execution_count": 30,
   "metadata": {
    "scrolled": true
   },
   "outputs": [
    {
     "data": {
      "text/html": [
       "<table border=\"1\" class=\"dataframe\">\n",
       "    <thead>\n",
       "        <tr>\n",
       "            <th>city</th> <th>State</th> <th>y</th> <th>MarketName</th> <th>x</th>\n",
       "        </tr>\n",
       "    </thead>\n",
       "    <tbody>\n",
       "        <tr>\n",
       "            <td>Fairbanks     </td> <td>Alaska</td> <td>64.8628</td> <td>Tanana Valley Farmers Market  </td> <td>-147.781</td>\n",
       "        </tr>\n",
       "        <tr>\n",
       "            <td>Ester         </td> <td>Alaska</td> <td>64.8459</td> <td>Ester Community Market        </td> <td>-148.01 </td>\n",
       "        </tr>\n",
       "        <tr>\n",
       "            <td>Fairbanks     </td> <td>Alaska</td> <td>64.8444</td> <td>Fairbanks Downtown Market     </td> <td>-147.72 </td>\n",
       "        </tr>\n",
       "        <tr>\n",
       "            <td>Nenana        </td> <td>Alaska</td> <td>64.5566</td> <td>Nenana Open Air Market        </td> <td>-149.096</td>\n",
       "        </tr>\n",
       "        <tr>\n",
       "            <td>Delta Junction</td> <td>Alaska</td> <td>64.0385</td> <td>Highway's End Farmers' Market </td> <td>-145.733</td>\n",
       "        </tr>\n",
       "        <tr>\n",
       "            <td>Talkeetna     </td> <td>Alaska</td> <td>62.3231</td> <td>MountainTraders               </td> <td>-150.118</td>\n",
       "        </tr>\n",
       "        <tr>\n",
       "            <td>Talkeetna     </td> <td>Alaska</td> <td>62.3228</td> <td>Talkeetna Farmers Market      </td> <td>-150.118</td>\n",
       "        </tr>\n",
       "        <tr>\n",
       "            <td>Anchorage     </td> <td>Alaska</td> <td>62.3163</td> <td>Denali Farmers Market         </td> <td>-150.234</td>\n",
       "        </tr>\n",
       "        <tr>\n",
       "            <td>Valdez        </td> <td>Alaska</td> <td>62.1079</td> <td>Kenny Lake Harvest II         </td> <td>-145.476</td>\n",
       "        </tr>\n",
       "        <tr>\n",
       "            <td>Copper Valley </td> <td>Alaska</td> <td>62.0879</td> <td>Copper Valley Community Market</td> <td>-145.444</td>\n",
       "        </tr>\n",
       "    </tbody>\n",
       "</table>\n",
       "<p>... (8536 rows omitted)</p>"
      ],
      "text/plain": [
       "city           | State  | y       | MarketName                     | x\n",
       "Fairbanks      | Alaska | 64.8628 | Tanana Valley Farmers Market   | -147.781\n",
       "Ester          | Alaska | 64.8459 | Ester Community Market         | -148.01\n",
       "Fairbanks      | Alaska | 64.8444 | Fairbanks Downtown Market      | -147.72\n",
       "Nenana         | Alaska | 64.5566 | Nenana Open Air Market         | -149.096\n",
       "Delta Junction | Alaska | 64.0385 | Highway's End Farmers' Market  | -145.733\n",
       "Talkeetna      | Alaska | 62.3231 | MountainTraders                | -150.118\n",
       "Talkeetna      | Alaska | 62.3228 | Talkeetna Farmers Market       | -150.118\n",
       "Anchorage      | Alaska | 62.3163 | Denali Farmers Market          | -150.234\n",
       "Valdez         | Alaska | 62.1079 | Kenny Lake Harvest II          | -145.476\n",
       "Copper Valley  | Alaska | 62.0879 | Copper Valley Community Market | -145.444\n",
       "... (8536 rows omitted)"
      ]
     },
     "execution_count": 30,
     "metadata": {},
     "output_type": "execute_result"
    }
   ],
   "source": [
    "farmers_markets_locations_by_latitude = farmers_markets_locations.sort('y', descending = True) # SOLUTION\n",
    "farmers_markets_locations_by_latitude"
   ]
  },
  {
   "cell_type": "code",
   "execution_count": 31,
   "metadata": {},
   "outputs": [
    {
     "data": {
      "text/plain": [
       "True"
      ]
     },
     "execution_count": 31,
     "metadata": {},
     "output_type": "execute_result"
    }
   ],
   "source": []
  },
  {
   "cell_type": "code",
   "execution_count": 32,
   "metadata": {},
   "outputs": [
    {
     "data": {
      "text/plain": [
       "True"
      ]
     },
     "execution_count": 32,
     "metadata": {},
     "output_type": "execute_result"
    }
   ],
   "source": []
  },
  {
   "cell_type": "markdown",
   "metadata": {},
   "source": [
    "Ahora digamos que queremos una tabla de todos los mercados campesinos en California. Ordenar no nos ayudará mucho aquí porque California está sobre el medio del conjunto de datos.\n",
    "\n",
    "En su lugar, usamos el método de tabla `where`."
   ]
  },
  {
   "cell_type": "code",
   "execution_count": 33,
   "metadata": {},
   "outputs": [
    {
     "data": {
      "text/html": [
       "<table border=\"1\" class=\"dataframe\">\n",
       "    <thead>\n",
       "        <tr>\n",
       "            <th>city</th> <th>State</th> <th>y</th> <th>MarketName</th> <th>x</th>\n",
       "        </tr>\n",
       "    </thead>\n",
       "    <tbody>\n",
       "        <tr>\n",
       "            <td>Victorville </td> <td>California</td> <td>34.5593</td> <td>Adelanto Stadium Farmers Market         </td> <td>-117.405</td>\n",
       "        </tr>\n",
       "        <tr>\n",
       "            <td>Alameda     </td> <td>California</td> <td>37.7742</td> <td>Alameda Farmers' Market                 </td> <td>-122.277</td>\n",
       "        </tr>\n",
       "        <tr>\n",
       "            <td>Salinas     </td> <td>California</td> <td>36.6733</td> <td>Alisal Certified Farmers' Market        </td> <td>-121.634</td>\n",
       "        </tr>\n",
       "        <tr>\n",
       "            <td>Altadena    </td> <td>California</td> <td>34.2004</td> <td>Altadena Farmers' Market                </td> <td>-118.158</td>\n",
       "        </tr>\n",
       "        <tr>\n",
       "            <td>San Jose    </td> <td>California</td> <td>37.3678</td> <td>Alum Rock Village Farmers' Market       </td> <td>-121.833</td>\n",
       "        </tr>\n",
       "        <tr>\n",
       "            <td>Jackson     </td> <td>California</td> <td>38.3488</td> <td>Amador Farmers' Market-- Jackson        </td> <td>-120.774</td>\n",
       "        </tr>\n",
       "        <tr>\n",
       "            <td>Pine Grove  </td> <td>California</td> <td>38.3488</td> <td>Amador Farmers' Market-- Pine Grove     </td> <td>-120.774</td>\n",
       "        </tr>\n",
       "        <tr>\n",
       "            <td>Sutter Creek</td> <td>California</td> <td>38.3488</td> <td>Amador Farmers' Market-- Sutter Creek   </td> <td>-120.774</td>\n",
       "        </tr>\n",
       "        <tr>\n",
       "            <td>Anderson    </td> <td>California</td> <td>40.4487</td> <td>Anderson Happy Valley Farmers Market    </td> <td>-122.408</td>\n",
       "        </tr>\n",
       "        <tr>\n",
       "            <td>Angels Camp </td> <td>California</td> <td>38.0722</td> <td>Angels Camp Farmers Market-Fresh Fridays</td> <td>-120.543</td>\n",
       "        </tr>\n",
       "    </tbody>\n",
       "</table>\n",
       "<p>... (745 rows omitted)</p>"
      ],
      "text/plain": [
       "city         | State      | y       | MarketName                               | x\n",
       "Victorville  | California | 34.5593 | Adelanto Stadium Farmers Market          | -117.405\n",
       "Alameda      | California | 37.7742 | Alameda Farmers' Market                  | -122.277\n",
       "Salinas      | California | 36.6733 | Alisal Certified Farmers' Market         | -121.634\n",
       "Altadena     | California | 34.2004 | Altadena Farmers' Market                 | -118.158\n",
       "San Jose     | California | 37.3678 | Alum Rock Village Farmers' Market        | -121.833\n",
       "Jackson      | California | 38.3488 | Amador Farmers' Market-- Jackson         | -120.774\n",
       "Pine Grove   | California | 38.3488 | Amador Farmers' Market-- Pine Grove      | -120.774\n",
       "Sutter Creek | California | 38.3488 | Amador Farmers' Market-- Sutter Creek    | -120.774\n",
       "Anderson     | California | 40.4487 | Anderson Happy Valley Farmers Market     | -122.408\n",
       "Angels Camp  | California | 38.0722 | Angels Camp Farmers Market-Fresh Fridays | -120.543\n",
       "... (745 rows omitted)"
      ]
     },
     "execution_count": 33,
     "metadata": {},
     "output_type": "execute_result"
    }
   ],
   "source": [
    "## usando where State are.equal_to('California')\n",
    "california_farmers_markets = \n",
    "california_farmers_markets"
   ]
  },
  {
   "cell_type": "markdown",
   "metadata": {},
   "source": [
    "Ignore la sintaxis por el momento. En su lugar, intente leer esa línea así:\n",
    "\n",
    "> Asigne el nombre **`california_farmers_markets`** a una tabla cuyas filas son las filas de la tabla **`Farmers_markets_locations`**  **`donde`** el **`'Estado'`** s **`sea` `igual` `a` `California`**.\n"
   ]
  },
  {
   "cell_type": "markdown",
   "metadata": {},
   "source": [
    "### `where`\n",
    "\n",
    "Ahora profundicemos un poco más en los detalles. `where` recibe 2 argumentos:\n",
    "\n",
    "1. El nombre de una columna. `where` busca filas donde los valores de esa columna cumplen algún criterio.\n",
    "2. Un predicado que describe el criterio que debe cumplir la columna.\n",
    "\n",
    "El predicado en el ejemplo anterior llamó a la función `are.equal_to` con el valor que queríamos, 'California'. Pronto veremos otros predicados.\n",
    "\n",
    "`where` devuelve una tabla que es una copia de la tabla original, pero **con solo las filas que cumplen con el predicado dado**.\n"
   ]
  },
  {
   "cell_type": "markdown",
   "metadata": {},
   "source": [
    "**Pregunta 3.6.** Utilice `california_farmers_markets` para crear una tabla llamada `berkeley_markets` que contenga los mercados campesinos en Berkeley, California.\n",
    "\n",
    "```\n",
    "BEGIN QUESTION\n",
    "name: q36\n",
    "```"
   ]
  },
  {
   "cell_type": "code",
   "execution_count": 34,
   "metadata": {},
   "outputs": [
    {
     "data": {
      "text/html": [
       "<table border=\"1\" class=\"dataframe\">\n",
       "    <thead>\n",
       "        <tr>\n",
       "            <th>city</th> <th>State</th> <th>y</th> <th>MarketName</th> <th>x</th>\n",
       "        </tr>\n",
       "    </thead>\n",
       "    <tbody>\n",
       "        <tr>\n",
       "            <td>Berkeley</td> <td>California</td> <td>37.8697</td> <td>Downtown Berkeley Farmers' Market</td> <td>-122.273</td>\n",
       "        </tr>\n",
       "        <tr>\n",
       "            <td>Berkeley</td> <td>California</td> <td>37.8802</td> <td>North Berkeley Farmers' Market   </td> <td>-122.269</td>\n",
       "        </tr>\n",
       "        <tr>\n",
       "            <td>Berkeley</td> <td>California</td> <td>37.8478</td> <td>South Berkeley Farmers' Market   </td> <td>-122.272</td>\n",
       "        </tr>\n",
       "    </tbody>\n",
       "</table>"
      ],
      "text/plain": [
       "city     | State      | y       | MarketName                        | x\n",
       "Berkeley | California | 37.8697 | Downtown Berkeley Farmers' Market | -122.273\n",
       "Berkeley | California | 37.8802 | North Berkeley Farmers' Market    | -122.269\n",
       "Berkeley | California | 37.8478 | South Berkeley Farmers' Market    | -122.272"
      ]
     },
     "execution_count": 34,
     "metadata": {},
     "output_type": "execute_result"
    }
   ],
   "source": [
    "# si hacemos lo mimso usando where con city are.equal_to('Berkeley')\n",
    "berkeley_markets = \n",
    "berkeley_markets"
   ]
  },
  {
   "cell_type": "code",
   "execution_count": 35,
   "metadata": {},
   "outputs": [
    {
     "data": {
      "text/plain": [
       "True"
      ]
     },
     "execution_count": 35,
     "metadata": {},
     "output_type": "execute_result"
    }
   ],
   "source": []
  },
  {
   "cell_type": "code",
   "execution_count": 36,
   "metadata": {},
   "outputs": [
    {
     "data": {
      "text/plain": [
       "True"
      ]
     },
     "execution_count": 36,
     "metadata": {},
     "output_type": "execute_result"
    }
   ],
   "source": []
  },
  {
   "cell_type": "markdown",
   "metadata": {},
   "source": [
    "¿Reconoce alguno de ellos?"
   ]
  },
  {
   "cell_type": "markdown",
   "metadata": {},
   "source": [
    "So far we've only been using `where` with the predicate that requires finding the values in a column to be *exactly* equal to a certain value. However, there are many other predicates. Here are a few:\n",
    "\n",
    "Hasta ahora solo hemos estado usando `where` con el predicado que requiere encontrar que los valores en una columna sean *exactamente* iguales a un cierto valor. Sin embargo, hay muchos otros predicados. A continuación, presentamos algunos:\n",
    "\n",
    "\n",
    "|Predicado|Ejemplo|Resultado|\n",
    "|-|-|-|\n",
    "|`are.equal_to`|`are.equal_to(50)`|Encuentra filas con valores iguales a 50|\n",
    "|`are.not_equal_to`|`are.not_equal_to(50)`|Encuentra filas con valores no iguales a 50|\n",
    "|`are.above`|`are.above(50)`|Encuentra filas con valores por encima (y no iguales a) 50|\n",
    "|`are.above_or_equal_to`|`are.above_or_equal_to(50)`|Encuentra filas con valores por encima  de 50 o iguales a 50|\n",
    "|`are.below`|`are.below(50)`|Encuentra filas con valores por debajo de 50|\n",
    "|`are.between`|`are.between(2, 10)`|Encuentra filas con valores por encima o iguales a 2 y por debajo de 10|"
   ]
  },
  {
   "cell_type": "markdown",
   "metadata": {},
   "source": [
    "## 4. Analizar un conjunto de datos\n",
    "\n",
    "Ahora que está familiarizado con las operaciones de tablas, respondamos una pregunta interesante sobre un conjunto de datos.\n",
    "\n",
    "Ejecute la celda a continuación para cargar la tabla `imdb`. Esta tabla contiene información sobre las 250 películas mejor calificadas en [IMDb](https://www.imdb.com/).\n"
   ]
  },
  {
   "cell_type": "code",
   "execution_count": 37,
   "metadata": {
    "scrolled": true
   },
   "outputs": [
    {
     "data": {
      "text/html": [
       "<table border=\"1\" class=\"dataframe\">\n",
       "    <thead>\n",
       "        <tr>\n",
       "            <th>Votes</th> <th>Rating</th> <th>Title</th> <th>Year</th> <th>Decade</th>\n",
       "        </tr>\n",
       "    </thead>\n",
       "    <tbody>\n",
       "        <tr>\n",
       "            <td>88355 </td> <td>8.4   </td> <td>M                    </td> <td>1931</td> <td>1930  </td>\n",
       "        </tr>\n",
       "        <tr>\n",
       "            <td>132823</td> <td>8.3   </td> <td>Singin' in the Rain  </td> <td>1952</td> <td>1950  </td>\n",
       "        </tr>\n",
       "        <tr>\n",
       "            <td>74178 </td> <td>8.3   </td> <td>All About Eve        </td> <td>1950</td> <td>1950  </td>\n",
       "        </tr>\n",
       "        <tr>\n",
       "            <td>635139</td> <td>8.6   </td> <td>Léon                 </td> <td>1994</td> <td>1990  </td>\n",
       "        </tr>\n",
       "        <tr>\n",
       "            <td>145514</td> <td>8.2   </td> <td>The Elephant Man     </td> <td>1980</td> <td>1980  </td>\n",
       "        </tr>\n",
       "        <tr>\n",
       "            <td>425461</td> <td>8.3   </td> <td>Full Metal Jacket    </td> <td>1987</td> <td>1980  </td>\n",
       "        </tr>\n",
       "        <tr>\n",
       "            <td>441174</td> <td>8.1   </td> <td>Gone Girl            </td> <td>2014</td> <td>2010  </td>\n",
       "        </tr>\n",
       "        <tr>\n",
       "            <td>850601</td> <td>8.3   </td> <td>Batman Begins        </td> <td>2005</td> <td>2000  </td>\n",
       "        </tr>\n",
       "        <tr>\n",
       "            <td>37664 </td> <td>8.2   </td> <td>Judgment at Nuremberg</td> <td>1961</td> <td>1960  </td>\n",
       "        </tr>\n",
       "        <tr>\n",
       "            <td>46987 </td> <td>8     </td> <td>Relatos salvajes     </td> <td>2014</td> <td>2010  </td>\n",
       "        </tr>\n",
       "    </tbody>\n",
       "</table>\n",
       "<p>... (240 rows omitted)</p>"
      ],
      "text/plain": [
       "Votes  | Rating | Title                 | Year | Decade\n",
       "88355  | 8.4    | M                     | 1931 | 1930\n",
       "132823 | 8.3    | Singin' in the Rain   | 1952 | 1950\n",
       "74178  | 8.3    | All About Eve         | 1950 | 1950\n",
       "635139 | 8.6    | Léon                  | 1994 | 1990\n",
       "145514 | 8.2    | The Elephant Man      | 1980 | 1980\n",
       "425461 | 8.3    | Full Metal Jacket     | 1987 | 1980\n",
       "441174 | 8.1    | Gone Girl             | 2014 | 2010\n",
       "850601 | 8.3    | Batman Begins         | 2005 | 2000\n",
       "37664  | 8.2    | Judgment at Nuremberg | 1961 | 1960\n",
       "46987  | 8      | Relatos salvajes      | 2014 | 2010\n",
       "... (240 rows omitted)"
      ]
     },
     "execution_count": 37,
     "metadata": {},
     "output_type": "execute_result"
    }
   ],
   "source": [
    "# Carga los datos de imdb.csv usando Table.read_table\n",
    "\n",
    "imdb = \n",
    "imdb"
   ]
  },
  {
   "cell_type": "markdown",
   "metadata": {},
   "source": [
    "A menudo, queremos realizar varias operaciones (clasificación, filtrado u otras) para convertir una tabla que tenemos en algo más útil. Puede realizar estas operaciones una por una, p. Ej.\n",
    "\n",
    "```\n",
    "first_step = original_tbl.where(“col1”, are.equal_to(12))\n",
    "second_step = first_step.sort(‘col2’, descending=True)\n",
    "```\n",
    "\n",
    "Sin embargo, dado que el valor de la expresión `original_tbl.where(“col1”, are.equal_to(12))` es en sí mismo una tabla, puede simplemente llamar a un método de tabla en ella:\n",
    "\n",
    "```\n",
    "original_tbl.where(“col1”, are.equal_to(12)).sort(‘col2’, descending=True)\n",
    "```\n",
    "Debería organizar su trabajo de la manera que le parezca que tiene más sentido, utilizando nombres informativos para las tablas intermedias que cree."
   ]
  },
  {
   "cell_type": "markdown",
   "metadata": {},
   "source": [
    "**Pregunta 4.1.** Cree una tabla de películas lanzadas entre 2010 y 2016 (inclusive) con calificaciones superiores a 8. La tabla solo debe contener las columnas `Title` y `Rating`, **en ese orden**.\n",
    "\n",
    "Asigne a la tabla el nombre `above_eight`.\n",
    "\n",
    "*Sugerencia:* Piense en los pasos que debe seguir e intente ponerlos en un orden que tenga sentido. Siéntase libre de crear tablas intermedias para cada paso, ¡pero asegúrese de asignar a su tabla final el nombre `above_eight`!\n",
    "\n",
    "```\n",
    "BEGIN QUESTION\n",
    "name: q41\n",
    "```"
   ]
  },
  {
   "cell_type": "code",
   "execution_count": 38,
   "metadata": {},
   "outputs": [
    {
     "data": {
      "text/html": [
       "<table border=\"1\" class=\"dataframe\">\n",
       "    <thead>\n",
       "        <tr>\n",
       "            <th>Title</th> <th>Rating</th>\n",
       "        </tr>\n",
       "    </thead>\n",
       "    <tbody>\n",
       "        <tr>\n",
       "            <td>Gone Girl               </td> <td>8.1   </td>\n",
       "        </tr>\n",
       "        <tr>\n",
       "            <td>Warrior                 </td> <td>8.2   </td>\n",
       "        </tr>\n",
       "        <tr>\n",
       "            <td>Intouchables            </td> <td>8.5   </td>\n",
       "        </tr>\n",
       "        <tr>\n",
       "            <td>Shutter Island          </td> <td>8.1   </td>\n",
       "        </tr>\n",
       "        <tr>\n",
       "            <td>12 Years a Slave        </td> <td>8.1   </td>\n",
       "        </tr>\n",
       "        <tr>\n",
       "            <td>Inside Out (2015/I)     </td> <td>8.5   </td>\n",
       "        </tr>\n",
       "        <tr>\n",
       "            <td>Jagten                  </td> <td>8.2   </td>\n",
       "        </tr>\n",
       "        <tr>\n",
       "            <td>Toy Story 3             </td> <td>8.3   </td>\n",
       "        </tr>\n",
       "        <tr>\n",
       "            <td>How to Train Your Dragon</td> <td>8.1   </td>\n",
       "        </tr>\n",
       "        <tr>\n",
       "            <td>Interstellar            </td> <td>8.6   </td>\n",
       "        </tr>\n",
       "    </tbody>\n",
       "</table>\n",
       "<p>... (10 rows omitted)</p>"
      ],
      "text/plain": [
       "Title                    | Rating\n",
       "Gone Girl                | 8.1\n",
       "Warrior                  | 8.2\n",
       "Intouchables             | 8.5\n",
       "Shutter Island           | 8.1\n",
       "12 Years a Slave         | 8.1\n",
       "Inside Out (2015/I)      | 8.5\n",
       "Jagten                   | 8.2\n",
       "Toy Story 3              | 8.3\n",
       "How to Train Your Dragon | 8.1\n",
       "Interstellar             | 8.6\n",
       "... (10 rows omitted)"
      ]
     },
     "execution_count": 38,
     "metadata": {},
     "output_type": "execute_result"
    }
   ],
   "source": [
    "### Seleccionemos las pelicualas entre 2010 y 2017 que tienen un rating por encima de 8 \n",
    "above_eight = \n",
    "above_eight"
   ]
  },
  {
   "cell_type": "code",
   "execution_count": 39,
   "metadata": {},
   "outputs": [
    {
     "data": {
      "text/plain": [
       "True"
      ]
     },
     "execution_count": 39,
     "metadata": {},
     "output_type": "execute_result"
    }
   ],
   "source": []
  },
  {
   "cell_type": "code",
   "execution_count": 40,
   "metadata": {},
   "outputs": [
    {
     "data": {
      "text/plain": [
       "True"
      ]
     },
     "execution_count": 40,
     "metadata": {},
     "output_type": "execute_result"
    }
   ],
   "source": []
  },
  {
   "cell_type": "code",
   "execution_count": 41,
   "metadata": {},
   "outputs": [
    {
     "name": "stdout",
     "output_type": "stream",
     "text": [
      "Title       | Rating\n",
      "Toy Story 3 | 8.3\n"
     ]
    }
   ],
   "source": [
    "# TEST\n",
    "# Asegúrese de que sus columnas están en el orden correcto!\n",
    "# La primera columna debería llamarse 'Title', la segunda 'Rating'\n",
    "print(above_eight.sort(0).take([17]))"
   ]
  },
  {
   "cell_type": "markdown",
   "metadata": {},
   "source": [
    "**Pregunta 4.2.** Use `num_rows` (y aritmética) para encontrar la *proporción* de películas en el conjunto de datos que se publicaron entre 1900 y 1999 y la *proporción* de películas en el conjunto de datos que se lanzaron en el año 2000 o después.\n",
    "\n",
    "Asigne `proportion_in_20th_century` a la proporción de películas en el conjunto de datos que se publicaron en 1900-1999, y `proportion_in_21st_century` a la proporción de películas en el conjunto de datos que se publicaron en el año 2000 o más tarde.\n",
    "\n",
    "*Sugerencia:* La *proporción* de películas lanzadas en la década de 1900 es el *número* de películas lanzadas en la década de 1900, dividido por el *número total* de películas.\n",
    "\n",
    "```\n",
    "BEGIN QUESTION\n",
    "name: q42\n",
    "```"
   ]
  },
  {
   "cell_type": "code",
   "execution_count": 42,
   "metadata": {},
   "outputs": [
    {
     "name": "stdout",
     "output_type": "stream",
     "text": [
      "Proportion in 20th century: 0.684\n",
      "Proportion in 21st century: 0.316\n"
     ]
    }
   ],
   "source": [
    "### Sugerencia siga estos pasos\n",
    "### Guarde en una variable num_movies_in_dataset el número de películas del dataset usando num_rows\n",
    "## Encuentre el número de filas para las que están debajo del año 2000  guardelo en una variable num_in_20th_century\n",
    "## Encuentre el número de filas para las que son iguales o por encima del año 2000, guardelo en una variable num_in_21st_century\n",
    "## En una variable  proportion_in_21st_century guarde el porcentaje de películas que son iguales o por encima del año 2000\n",
    "## En una variable  proportion_in_20th_century guarde el porcentaje de películas por debajo del año 2000\n",
    "## Imprima la respuesta.\n",
    "\n",
    "\n",
    "print(\"Proportion in 20th century:\", proportion_in_20th_century)\n",
    "print(\"Proportion in 21st century:\", proportion_in_21st_century)"
   ]
  },
  {
   "cell_type": "code",
   "execution_count": 43,
   "metadata": {},
   "outputs": [
    {
     "data": {
      "text/plain": [
       "True"
      ]
     },
     "execution_count": 43,
     "metadata": {},
     "output_type": "execute_result"
    }
   ],
   "source": []
  },
  {
   "cell_type": "code",
   "execution_count": 44,
   "metadata": {},
   "outputs": [
    {
     "data": {
      "text/plain": [
       "True"
      ]
     },
     "execution_count": 44,
     "metadata": {},
     "output_type": "execute_result"
    }
   ],
   "source": []
  },
  {
   "cell_type": "markdown",
   "metadata": {},
   "source": [
    "## 5. Resumen\n",
    "\n",
    "\n",
    "Para su referencia, aquí hay una tabla de todas las funciones y métodos que vimos en este laboratorio. ¡Aprenderemos más métodos para agregar a esta tabla en la próxima sesión!\n",
    "\n",
    "|Nombre|Ejemplo|Utilidad|\n",
    "|-|-|-|\n",
    "|`sort`|`tbl.sort(\"N\")`|Crea una copia de una tabla ordenada por los valores de una columna|\n",
    "|`where`|`tbl.where(\"N\", are.above(2))`|Crea una copia de una tabla con solo las filas que coincidan con algún *predicado*|\n",
    "|`num_rows`|`tbl.num_rows`|Calcula el número de filas en una tabla|\n",
    "|`num_columns`|`tbl.num_columns`|Calcula el número de columnas en una tabla|\n",
    "|`select`|`tbl.select(\"N\")`|Crea una copia de una tabla con solo algunas de las columnas|\n",
    "|`drop`|`tbl.drop(\"2*N\")`|Crea una copia de una tabla sin algunas de las columnas|\n",
    "\n",
    "<br/>\n",
    "\n",
    "¡Bien! ¡Terminó con el laboratorio 2! Asegúrese de...\n",
    "\n",
    "\n",
    "- Ejecutar todas las pruebas (la siguiente celda tiene un atajo para eso),\n",
    "- **Save and Checkpoint** en el menú `File`,\n",
    "- **Ejecutar la última celda para enviar su trabajo**,\n",
    "- Y **pedirle a uno de los miembros del equipo que marque como completado**."
   ]
  },
  {
   "cell_type": "code",
   "execution_count": null,
   "metadata": {},
   "outputs": [],
   "source": [
    "U"
   ]
  }
 ],
 "metadata": {
  "celltoolbar": "Edit Metadata",
  "history": [
   {
    "code": "# Just run this cell\n\nimport numpy as np\nfrom datascience import *\n\n\n# These lines load the tests.\n# When you log-in please hit return (not shift + return) after typing in your email\n",
    "id": "38b63798e7304efb8cd8b1a7a52bcddb",
    "idx": 2,
    "time": "2021-02-16T04:53:03.752Z",
    "type": "execution"
   },
   {
    "id": "38b63798e7304efb8cd8b1a7a52bcddb",
    "time": "2021-02-16T04:53:09.673Z",
    "type": "completion"
   },
   {
    "code": "near_twenty = radius**2 * math.pi # SOLUTION\nnear_twenty",
    "id": "14c3280f0b54464c85242ba22e7381f1",
    "idx": 12,
    "time": "2021-02-16T08:11:29.080Z",
    "type": "execution"
   },
   {
    "id": "14c3280f0b54464c85242ba22e7381f1",
    "time": "2021-02-16T08:11:29.250Z",
    "type": "completion"
   },
   {
    "code": "# Just run this cell\n\nimport numpy as np\nfrom datascience import *\n\n\n# These lines load the tests.\n# When you log-in please hit return (not shift + return) after typing in your email\n",
    "id": "9104c45c29614eb686d57e49e14e386c",
    "idx": 2,
    "time": "2021-02-16T08:11:36.571Z",
    "type": "execution"
   },
   {
    "code": "new_year = 2020 # SOLUTION\nnew_year",
    "id": "6b6244eb0cb14ef88c50c8077c4a1025",
    "idx": 5,
    "time": "2021-02-16T08:11:36.574Z",
    "type": "execution"
   },
   {
    "code": "#HIDDEN TEST\nnew_year == 2020",
    "id": "cd56254d288b462ba94fb43c0ebc1359",
    "idx": 6,
    "time": "2021-02-16T08:11:36.576Z",
    "type": "execution"
   },
   {
    "code": "import math\nradius = 5\narea_of_circle = radius**2 * math.pi\narea_of_circle",
    "id": "c4b687e408d5479abdc414b6c633c026",
    "idx": 9,
    "time": "2021-02-16T08:11:36.579Z",
    "type": "execution"
   },
   {
    "id": "9104c45c29614eb686d57e49e14e386c",
    "time": "2021-02-16T08:11:38.880Z",
    "type": "completion"
   },
   {
    "id": "6b6244eb0cb14ef88c50c8077c4a1025",
    "time": "2021-02-16T08:11:38.885Z",
    "type": "completion"
   },
   {
    "id": "cd56254d288b462ba94fb43c0ebc1359",
    "time": "2021-02-16T08:11:38.922Z",
    "type": "completion"
   },
   {
    "id": "c4b687e408d5479abdc414b6c633c026",
    "time": "2021-02-16T08:11:38.924Z",
    "type": "completion"
   },
   {
    "code": "near_twenty = radius**2 * math.pi # SOLUTION\nnear_twenty",
    "id": "14c3280f0b54464c85242ba22e7381f1",
    "idx": 12,
    "time": "2021-02-16T08:11:41.398Z",
    "type": "execution"
   },
   {
    "id": "14c3280f0b54464c85242ba22e7381f1",
    "time": "2021-02-16T08:11:41.473Z",
    "type": "completion"
   },
   {
    "code": "# TEST\nround(near_twenty, 8)",
    "id": "a458fc90b75d459785aaf63c1b17a80b",
    "idx": 13,
    "time": "2021-02-16T08:12:21.539Z",
    "type": "execution"
   },
   {
    "id": "a458fc90b75d459785aaf63c1b17a80b",
    "time": "2021-02-16T08:12:21.600Z",
    "type": "completion"
   },
   {
    "code": "near_twenty = math.e ** math.pi - math.pi # SOLUTION\nnear_twenty",
    "id": "14c3280f0b54464c85242ba22e7381f1",
    "idx": 12,
    "time": "2021-02-16T08:13:23.657Z",
    "type": "execution"
   },
   {
    "id": "14c3280f0b54464c85242ba22e7381f1",
    "time": "2021-02-16T08:13:23.739Z",
    "type": "completion"
   },
   {
    "code": "# TEST\nround(near_twenty, 8)",
    "id": "a458fc90b75d459785aaf63c1b17a80b",
    "idx": 13,
    "time": "2021-02-16T08:13:30.429Z",
    "type": "execution"
   },
   {
    "id": "a458fc90b75d459785aaf63c1b17a80b",
    "time": "2021-02-16T08:13:30.497Z",
    "type": "completion"
   },
   {
    "code": "sine_of_pi_over_four = math.sin(math.pi / 4) # SOLUTION\nsine_of_pi_over_four",
    "id": "309cf9facf204c5fbca06e9109147fe8",
    "idx": 16,
    "time": "2021-02-16T08:14:40.418Z",
    "type": "execution"
   },
   {
    "id": "309cf9facf204c5fbca06e9109147fe8",
    "time": "2021-02-16T08:14:40.489Z",
    "type": "completion"
   },
   {
    "code": "# TEST\n# Hint: You can write the sine of 1.5*pi as:\n#   math.sin(1.5 * math.pi)\nimport math\nround(sine_of_pi_over_four, 8)",
    "id": "534b367c21944f3488de2187b6fa31d5",
    "idx": 17,
    "time": "2021-02-16T08:15:39.172Z",
    "type": "execution"
   },
   {
    "id": "534b367c21944f3488de2187b6fa31d5",
    "time": "2021-02-16T08:15:39.240Z",
    "type": "completion"
   },
   {
    "code": "# Calculating logarithms (the logarithm of 8 in base 2).\n# The result is 3 because 2 to the power of 3 is 8.\nmath.log(8, 2)",
    "id": "7c67ab3427ba49888e871707bac58449",
    "idx": 19,
    "time": "2021-02-16T08:16:01.798Z",
    "type": "execution"
   },
   {
    "id": "7c67ab3427ba49888e871707bac58449",
    "time": "2021-02-16T08:16:01.874Z",
    "type": "completion"
   },
   {
    "code": "# Calculating square roots.\nmath.sqrt(5)",
    "id": "8e618a8ace414fa38f6f2c3aaf4711cc",
    "idx": 20,
    "time": "2021-02-16T08:16:04.705Z",
    "type": "execution"
   },
   {
    "id": "8e618a8ace414fa38f6f2c3aaf4711cc",
    "time": "2021-02-16T08:16:04.790Z",
    "type": "completion"
   },
   {
    "code": "# Importing just cos and pi from math.\n# We don't have to use `math.` in front of cos or pi\nfrom math import cos, pi\nprint(cos(pi))\n\n# We do have to use it in front of other functions from math, though\nmath.log(pi)",
    "id": "2aac6edd752f464a8577596dc7b10c1b",
    "idx": 22,
    "time": "2021-02-16T08:16:10.269Z",
    "type": "execution"
   },
   {
    "id": "2aac6edd752f464a8577596dc7b10c1b",
    "time": "2021-02-16T08:16:10.357Z",
    "type": "completion"
   },
   {
    "code": "# Lastly, we can import everything from math using the *\n# Once again, we don't have to use 'math.' beforehand \nfrom math import *\nlog(pi)",
    "id": "161f5c794d4847f2898fd15871db4b2d",
    "idx": 24,
    "time": "2021-02-16T08:16:11.168Z",
    "type": "execution"
   },
   {
    "id": "161f5c794d4847f2898fd15871db4b2d",
    "time": "2021-02-16T08:16:11.232Z",
    "type": "completion"
   },
   {
    "code": "# Just run this cell\n\nfarmers_markets = Table.read_table('farmers_markets.csv')",
    "id": "d71d39971a3b4765834a26779cba57d3",
    "idx": 27,
    "time": "2021-02-16T08:16:16.949Z",
    "type": "execution"
   },
   {
    "id": "d71d39971a3b4765834a26779cba57d3",
    "time": "2021-02-16T08:16:17.584Z",
    "type": "completion"
   },
   {
    "code": "num_farmers_markets_columns = farmers_markets.num_columns # SOLUTION\nprint(\"The table has\", num_farmers_markets_columns, \"columns in it!\")",
    "id": "f1d8353ea3fe4174a10df0c70119b860",
    "idx": 31,
    "time": "2021-02-16T08:21:57.979Z",
    "type": "execution"
   },
   {
    "id": "f1d8353ea3fe4174a10df0c70119b860",
    "time": "2021-02-16T08:21:58.069Z",
    "type": "completion"
   },
   {
    "code": "# HIDDEN TEST\nnum_farmers_markets_columns == 59",
    "id": "c576cbb902764c24aa4f0beb55a685b8",
    "idx": 32,
    "time": "2021-02-16T08:22:37.649Z",
    "type": "execution"
   },
   {
    "id": "c576cbb902764c24aa4f0beb55a685b8",
    "time": "2021-02-16T08:22:37.736Z",
    "type": "completion"
   },
   {
    "code": "# Just run this cell\n\nnum_farmers_markets_rows = farmers_markets.num_rows\nprint(\"The table has\", num_farmers_markets_rows, \"rows in it!\")",
    "id": "d78045d1705748b388e0738c7b903124",
    "idx": 34,
    "time": "2021-02-16T08:22:44.968Z",
    "type": "execution"
   },
   {
    "id": "d78045d1705748b388e0738c7b903124",
    "time": "2021-02-16T08:22:45.045Z",
    "type": "completion"
   },
   {
    "code": "farmers_markets_locations = farmers_markets.select(\"city\", \"State\", \"y\", \"MarketName\", \"x\") # SOLUTION\nfarmers_markets_locations",
    "id": "c661c0d5ebac486b88bac48a85d7193c",
    "idx": 36,
    "time": "2021-02-16T08:24:34.269Z",
    "type": "execution"
   },
   {
    "id": "c661c0d5ebac486b88bac48a85d7193c",
    "time": "2021-02-16T08:24:34.383Z",
    "type": "completion"
   },
   {
    "code": "# TEST\nsorted(farmers_markets_locations.labels)",
    "id": "90060034698440a484cc2a1c89d0a4f2",
    "idx": 37,
    "time": "2021-02-16T08:25:36.293Z",
    "type": "execution"
   },
   {
    "id": "90060034698440a484cc2a1c89d0a4f2",
    "time": "2021-02-16T08:25:36.392Z",
    "type": "completion"
   },
   {
    "code": "# HIDDEN TEST\nsorted(farmers_markets_locations.labels) == ['MarketName', 'State', 'city', 'x', 'y']",
    "id": "90060034698440a484cc2a1c89d0a4f2",
    "idx": 37,
    "time": "2021-02-16T08:26:04.025Z",
    "type": "execution"
   },
   {
    "id": "90060034698440a484cc2a1c89d0a4f2",
    "time": "2021-02-16T08:26:04.097Z",
    "type": "completion"
   },
   {
    "code": "# TEST\nfarmers_markets_locations.num_rows == 8546",
    "id": "6915a30f7e704a7b8af96316833f29ca",
    "idx": 38,
    "time": "2021-02-16T08:26:30.404Z",
    "type": "execution"
   },
   {
    "id": "6915a30f7e704a7b8af96316833f29ca",
    "time": "2021-02-16T08:26:30.478Z",
    "type": "completion"
   },
   {
    "code": "# TEST\nsorted(farmers_markets_locations.labels) == ['MarketName', 'State', 'city', 'x', 'y']",
    "id": "90060034698440a484cc2a1c89d0a4f2",
    "idx": 37,
    "time": "2021-02-16T08:26:36.934Z",
    "type": "execution"
   },
   {
    "id": "90060034698440a484cc2a1c89d0a4f2",
    "time": "2021-02-16T08:26:37.004Z",
    "type": "completion"
   },
   {
    "code": "# TEST\nfarmers_markets_locations.num_rows == 8546",
    "id": "6915a30f7e704a7b8af96316833f29ca",
    "idx": 38,
    "time": "2021-02-16T08:26:37.511Z",
    "type": "execution"
   },
   {
    "id": "6915a30f7e704a7b8af96316833f29ca",
    "time": "2021-02-16T08:26:37.599Z",
    "type": "completion"
   },
   {
    "code": "# HIDDEN TEST\nsorted(farmers_markets_locations.labels) == ['MarketName', 'State', 'city', 'x', 'y']",
    "id": "90060034698440a484cc2a1c89d0a4f2",
    "idx": 37,
    "time": "2021-02-16T08:26:50.086Z",
    "type": "execution"
   },
   {
    "id": "90060034698440a484cc2a1c89d0a4f2",
    "time": "2021-02-16T08:26:50.156Z",
    "type": "completion"
   },
   {
    "code": "# TEST\nfarmers_markets_locations.num_rows == 8546",
    "id": "6915a30f7e704a7b8af96316833f29ca",
    "idx": 38,
    "time": "2021-02-16T08:26:52.154Z",
    "type": "execution"
   },
   {
    "id": "6915a30f7e704a7b8af96316833f29ca",
    "time": "2021-02-16T08:26:52.227Z",
    "type": "completion"
   },
   {
    "code": "farmers_markets_without_fmid = farmers_markets.drop(\"FMID\", \"updateTime\") # SOLUTION\nfarmers_markets_without_fmid",
    "id": "88e101833a3a43f281c8fbe4e5edc41d",
    "idx": 40,
    "time": "2021-02-16T08:28:08.077Z",
    "type": "execution"
   },
   {
    "id": "88e101833a3a43f281c8fbe4e5edc41d",
    "time": "2021-02-16T08:28:10.051Z",
    "type": "completion"
   },
   {
    "code": "# TEST\nfarmers_markets_without_fmid.num_columns",
    "id": "0107ee9d3b6d42b795d6cfe3f4ec045d",
    "idx": 41,
    "time": "2021-02-16T08:29:01.460Z",
    "type": "execution"
   },
   {
    "id": "0107ee9d3b6d42b795d6cfe3f4ec045d",
    "time": "2021-02-16T08:29:01.527Z",
    "type": "completion"
   },
   {
    "code": "# TEST\nfarmers_markets_without_fmid.num_columns == 57",
    "id": "0107ee9d3b6d42b795d6cfe3f4ec045d",
    "idx": 41,
    "time": "2021-02-16T08:29:06.489Z",
    "type": "execution"
   },
   {
    "id": "0107ee9d3b6d42b795d6cfe3f4ec045d",
    "time": "2021-02-16T08:29:06.573Z",
    "type": "completion"
   },
   {
    "code": "# TEST\nprint(sorted(farmers_markets_without_fmid.labels))",
    "id": "a1399913244f44e6a9e7801dd9b67ba7",
    "idx": 42,
    "time": "2021-02-16T08:30:09.349Z",
    "type": "execution"
   },
   {
    "id": "a1399913244f44e6a9e7801dd9b67ba7",
    "time": "2021-02-16T08:30:09.437Z",
    "type": "completion"
   },
   {
    "code": "farmers_markets_locations.sort('x')",
    "id": "4d95bd7f16da4005ba887722861a39dd",
    "idx": 44,
    "time": "2021-02-16T08:30:20.125Z",
    "type": "execution"
   },
   {
    "id": "4d95bd7f16da4005ba887722861a39dd",
    "time": "2021-02-16T08:30:20.238Z",
    "type": "completion"
   },
   {
    "code": "farmers_markets_locations.sort('x', descending=True)",
    "id": "4bb9cd749f8a45b49221d5adc37ee3f6",
    "idx": 46,
    "time": "2021-02-16T08:30:24.250Z",
    "type": "execution"
   },
   {
    "id": "4bb9cd749f8a45b49221d5adc37ee3f6",
    "time": "2021-02-16T08:30:24.336Z",
    "type": "completion"
   },
   {
    "code": "farmers_markets_locations_by_latitude = farmers_markets_locations.sort('y', descending = True) # SOLUTION\nfarmers_markets_locations_by_latitude",
    "id": "c97efa93abf4478aaed3a0c0af8f3446",
    "idx": 48,
    "time": "2021-02-16T08:31:49.614Z",
    "type": "execution"
   },
   {
    "id": "c97efa93abf4478aaed3a0c0af8f3446",
    "time": "2021-02-16T08:31:49.718Z",
    "type": "completion"
   },
   {
    "code": "# TEST\ntype(farmers_markets_locations_by_latitude) == tables.Table",
    "id": "c79101f0a71a42d8a252e4da2cb8f841",
    "idx": 49,
    "time": "2021-02-16T08:32:26.295Z",
    "type": "execution"
   },
   {
    "id": "c79101f0a71a42d8a252e4da2cb8f841",
    "time": "2021-02-16T08:32:26.360Z",
    "type": "completion"
   },
   {
    "code": "# TEST\nlist(farmers_markets_locations_by_latitude.column('y').take(range(3)))",
    "id": "ecdc073691ad4db783cf43f2ed31c132",
    "idx": 50,
    "time": "2021-02-16T08:32:42.926Z",
    "type": "execution"
   },
   {
    "id": "ecdc073691ad4db783cf43f2ed31c132",
    "time": "2021-02-16T08:32:43.860Z",
    "type": "completion"
   },
   {
    "code": "# HIDDEN TEST\nsorted(farmers_markets_locations.labels)",
    "id": "90060034698440a484cc2a1c89d0a4f2",
    "idx": 37,
    "time": "2021-02-16T08:33:17.072Z",
    "type": "execution"
   },
   {
    "id": "90060034698440a484cc2a1c89d0a4f2",
    "time": "2021-02-16T08:33:17.280Z",
    "type": "completion"
   },
   {
    "code": "berkeley_markets = california_farmers_markets.where('city', are.equal_to(\"Berkeley\")) # SOLUTION\nberkeley_markets",
    "id": "ed886e4d66b048178c9e9840557fdf4b",
    "idx": 56,
    "time": "2021-02-16T08:34:30.821Z",
    "type": "execution"
   },
   {
    "id": "ed886e4d66b048178c9e9840557fdf4b",
    "time": "2021-02-16T08:34:31.045Z",
    "type": "completion"
   },
   {
    "code": "# Just run this cell\n\nimport numpy as np\nfrom datascience import *\n\n\n# These lines load the tests.\n# When you log-in please hit return (not shift + return) after typing in your email\n",
    "id": "9104c45c29614eb686d57e49e14e386c",
    "idx": 2,
    "time": "2021-02-16T08:34:37.329Z",
    "type": "execution"
   },
   {
    "code": "new_year = 2020 # SOLUTION\nnew_year",
    "id": "6b6244eb0cb14ef88c50c8077c4a1025",
    "idx": 5,
    "time": "2021-02-16T08:34:37.332Z",
    "type": "execution"
   },
   {
    "code": "#HIDDEN TEST\nnew_year == 2020",
    "id": "cd56254d288b462ba94fb43c0ebc1359",
    "idx": 6,
    "time": "2021-02-16T08:34:37.333Z",
    "type": "execution"
   },
   {
    "code": "import math\nradius = 5\narea_of_circle = radius**2 * math.pi\narea_of_circle",
    "id": "c4b687e408d5479abdc414b6c633c026",
    "idx": 9,
    "time": "2021-02-16T08:34:37.335Z",
    "type": "execution"
   },
   {
    "code": "near_twenty = math.e ** math.pi - math.pi # SOLUTION\nnear_twenty",
    "id": "14c3280f0b54464c85242ba22e7381f1",
    "idx": 12,
    "time": "2021-02-16T08:34:37.337Z",
    "type": "execution"
   },
   {
    "code": "# TEST\nround(near_twenty, 8)",
    "id": "a458fc90b75d459785aaf63c1b17a80b",
    "idx": 13,
    "time": "2021-02-16T08:34:37.339Z",
    "type": "execution"
   },
   {
    "code": "sine_of_pi_over_four = math.sin(math.pi / 4) # SOLUTION\nsine_of_pi_over_four",
    "id": "309cf9facf204c5fbca06e9109147fe8",
    "idx": 16,
    "time": "2021-02-16T08:34:37.364Z",
    "type": "execution"
   },
   {
    "code": "# TEST\n# Hint: You can write the sine of 1.5*pi as:\n#   math.sin(1.5 * math.pi)\nimport math\nround(sine_of_pi_over_four, 8)",
    "id": "534b367c21944f3488de2187b6fa31d5",
    "idx": 17,
    "time": "2021-02-16T08:34:37.366Z",
    "type": "execution"
   },
   {
    "code": "# Calculating logarithms (the logarithm of 8 in base 2).\n# The result is 3 because 2 to the power of 3 is 8.\nmath.log(8, 2)",
    "id": "7c67ab3427ba49888e871707bac58449",
    "idx": 19,
    "time": "2021-02-16T08:34:37.368Z",
    "type": "execution"
   },
   {
    "code": "# Calculating square roots.\nmath.sqrt(5)",
    "id": "8e618a8ace414fa38f6f2c3aaf4711cc",
    "idx": 20,
    "time": "2021-02-16T08:34:37.369Z",
    "type": "execution"
   },
   {
    "code": "# Importing just cos and pi from math.\n# We don't have to use `math.` in front of cos or pi\nfrom math import cos, pi\nprint(cos(pi))\n\n# We do have to use it in front of other functions from math, though\nmath.log(pi)",
    "id": "2aac6edd752f464a8577596dc7b10c1b",
    "idx": 22,
    "time": "2021-02-16T08:34:37.371Z",
    "type": "execution"
   },
   {
    "code": "# Lastly, we can import everything from math using the *\n# Once again, we don't have to use 'math.' beforehand \nfrom math import *\nlog(pi)",
    "id": "161f5c794d4847f2898fd15871db4b2d",
    "idx": 24,
    "time": "2021-02-16T08:34:37.372Z",
    "type": "execution"
   },
   {
    "code": "# Just run this cell\n\nfarmers_markets = Table.read_table('farmers_markets.csv')",
    "id": "d71d39971a3b4765834a26779cba57d3",
    "idx": 27,
    "time": "2021-02-16T08:34:37.374Z",
    "type": "execution"
   },
   {
    "code": "farmers_markets.show(5) # SOLUTION",
    "id": "221a7797806447ff84de2dd296fa365b",
    "idx": 29,
    "time": "2021-02-16T08:34:37.378Z",
    "type": "execution"
   },
   {
    "code": "num_farmers_markets_columns = farmers_markets.num_columns # SOLUTION\nprint(\"The table has\", num_farmers_markets_columns, \"columns in it!\")",
    "id": "f1d8353ea3fe4174a10df0c70119b860",
    "idx": 31,
    "time": "2021-02-16T08:34:37.379Z",
    "type": "execution"
   },
   {
    "code": "# HIDDEN TEST\nnum_farmers_markets_columns == 59",
    "id": "c576cbb902764c24aa4f0beb55a685b8",
    "idx": 32,
    "time": "2021-02-16T08:34:37.382Z",
    "type": "execution"
   },
   {
    "code": "# Just run this cell\n\nnum_farmers_markets_rows = farmers_markets.num_rows\nprint(\"The table has\", num_farmers_markets_rows, \"rows in it!\")",
    "id": "d78045d1705748b388e0738c7b903124",
    "idx": 34,
    "time": "2021-02-16T08:34:37.383Z",
    "type": "execution"
   },
   {
    "code": "farmers_markets_locations = farmers_markets.select(\"city\", \"State\", \"y\", \"MarketName\", \"x\") # SOLUTION\nfarmers_markets_locations",
    "id": "c661c0d5ebac486b88bac48a85d7193c",
    "idx": 36,
    "time": "2021-02-16T08:34:37.385Z",
    "type": "execution"
   },
   {
    "code": "# HIDDEN TEST\nsorted(farmers_markets_locations.labels)",
    "id": "90060034698440a484cc2a1c89d0a4f2",
    "idx": 37,
    "time": "2021-02-16T08:34:37.387Z",
    "type": "execution"
   },
   {
    "code": "# TEST\nfarmers_markets_locations.num_rows == 8546",
    "id": "6915a30f7e704a7b8af96316833f29ca",
    "idx": 38,
    "time": "2021-02-16T08:34:37.388Z",
    "type": "execution"
   },
   {
    "code": "farmers_markets_without_fmid = farmers_markets.drop(\"FMID\", \"updateTime\") # SOLUTION\nfarmers_markets_without_fmid",
    "id": "88e101833a3a43f281c8fbe4e5edc41d",
    "idx": 40,
    "time": "2021-02-16T08:34:37.392Z",
    "type": "execution"
   },
   {
    "code": "# TEST\nfarmers_markets_without_fmid.num_columns == 57",
    "id": "0107ee9d3b6d42b795d6cfe3f4ec045d",
    "idx": 41,
    "time": "2021-02-16T08:34:37.393Z",
    "type": "execution"
   },
   {
    "code": "# TEST\nprint(sorted(farmers_markets_without_fmid.labels))",
    "id": "a1399913244f44e6a9e7801dd9b67ba7",
    "idx": 42,
    "time": "2021-02-16T08:34:37.394Z",
    "type": "execution"
   },
   {
    "code": "farmers_markets_locations.sort('x')",
    "id": "4d95bd7f16da4005ba887722861a39dd",
    "idx": 44,
    "time": "2021-02-16T08:34:37.396Z",
    "type": "execution"
   },
   {
    "code": "farmers_markets_locations.sort('x', descending=True)",
    "id": "4bb9cd749f8a45b49221d5adc37ee3f6",
    "idx": 46,
    "time": "2021-02-16T08:34:37.399Z",
    "type": "execution"
   },
   {
    "code": "farmers_markets_locations_by_latitude = farmers_markets_locations.sort('y', descending = True) # SOLUTION\nfarmers_markets_locations_by_latitude",
    "id": "c97efa93abf4478aaed3a0c0af8f3446",
    "idx": 48,
    "time": "2021-02-16T08:34:37.400Z",
    "type": "execution"
   },
   {
    "code": "# TEST\ntype(farmers_markets_locations_by_latitude) == tables.Table",
    "id": "c79101f0a71a42d8a252e4da2cb8f841",
    "idx": 49,
    "time": "2021-02-16T08:34:37.402Z",
    "type": "execution"
   },
   {
    "code": "# TEST\nlist(farmers_markets_locations_by_latitude.column('y').take(range(3)))",
    "id": "ecdc073691ad4db783cf43f2ed31c132",
    "idx": 50,
    "time": "2021-02-16T08:34:37.405Z",
    "type": "execution"
   },
   {
    "code": "california_farmers_markets = farmers_markets_locations.where('State', are.equal_to('California'))\ncalifornia_farmers_markets",
    "id": "d6b1384d7d5442408204eac1fa8ae4ae",
    "idx": 52,
    "time": "2021-02-16T08:34:37.407Z",
    "type": "execution"
   },
   {
    "id": "9104c45c29614eb686d57e49e14e386c",
    "time": "2021-02-16T08:34:37.491Z",
    "type": "completion"
   },
   {
    "id": "6b6244eb0cb14ef88c50c8077c4a1025",
    "time": "2021-02-16T08:34:37.494Z",
    "type": "completion"
   },
   {
    "id": "cd56254d288b462ba94fb43c0ebc1359",
    "time": "2021-02-16T08:34:37.496Z",
    "type": "completion"
   },
   {
    "id": "c4b687e408d5479abdc414b6c633c026",
    "time": "2021-02-16T08:34:37.497Z",
    "type": "completion"
   },
   {
    "id": "14c3280f0b54464c85242ba22e7381f1",
    "time": "2021-02-16T08:34:37.500Z",
    "type": "completion"
   },
   {
    "id": "a458fc90b75d459785aaf63c1b17a80b",
    "time": "2021-02-16T08:34:37.526Z",
    "type": "completion"
   },
   {
    "id": "309cf9facf204c5fbca06e9109147fe8",
    "time": "2021-02-16T08:34:37.558Z",
    "type": "completion"
   },
   {
    "id": "534b367c21944f3488de2187b6fa31d5",
    "time": "2021-02-16T08:34:37.560Z",
    "type": "completion"
   },
   {
    "id": "7c67ab3427ba49888e871707bac58449",
    "time": "2021-02-16T08:34:37.582Z",
    "type": "completion"
   },
   {
    "id": "8e618a8ace414fa38f6f2c3aaf4711cc",
    "time": "2021-02-16T08:34:37.606Z",
    "type": "completion"
   },
   {
    "id": "2aac6edd752f464a8577596dc7b10c1b",
    "time": "2021-02-16T08:34:37.655Z",
    "type": "completion"
   },
   {
    "id": "161f5c794d4847f2898fd15871db4b2d",
    "time": "2021-02-16T08:34:37.665Z",
    "type": "completion"
   },
   {
    "id": "d71d39971a3b4765834a26779cba57d3",
    "time": "2021-02-16T08:34:38.110Z",
    "type": "completion"
   },
   {
    "id": "221a7797806447ff84de2dd296fa365b",
    "time": "2021-02-16T08:34:38.123Z",
    "type": "completion"
   },
   {
    "id": "f1d8353ea3fe4174a10df0c70119b860",
    "time": "2021-02-16T08:34:38.162Z",
    "type": "completion"
   },
   {
    "id": "c576cbb902764c24aa4f0beb55a685b8",
    "time": "2021-02-16T08:34:38.164Z",
    "type": "completion"
   },
   {
    "id": "d78045d1705748b388e0738c7b903124",
    "time": "2021-02-16T08:34:38.188Z",
    "type": "completion"
   },
   {
    "id": "c661c0d5ebac486b88bac48a85d7193c",
    "time": "2021-02-16T08:34:38.238Z",
    "type": "completion"
   },
   {
    "id": "90060034698440a484cc2a1c89d0a4f2",
    "time": "2021-02-16T08:34:38.242Z",
    "type": "completion"
   },
   {
    "id": "6915a30f7e704a7b8af96316833f29ca",
    "time": "2021-02-16T08:34:38.269Z",
    "type": "completion"
   },
   {
    "id": "88e101833a3a43f281c8fbe4e5edc41d",
    "time": "2021-02-16T08:34:38.438Z",
    "type": "completion"
   },
   {
    "id": "0107ee9d3b6d42b795d6cfe3f4ec045d",
    "time": "2021-02-16T08:34:38.479Z",
    "type": "completion"
   },
   {
    "id": "a1399913244f44e6a9e7801dd9b67ba7",
    "time": "2021-02-16T08:34:38.482Z",
    "type": "completion"
   },
   {
    "id": "4d95bd7f16da4005ba887722861a39dd",
    "time": "2021-02-16T08:34:38.527Z",
    "type": "completion"
   },
   {
    "id": "4bb9cd749f8a45b49221d5adc37ee3f6",
    "time": "2021-02-16T08:34:38.531Z",
    "type": "completion"
   },
   {
    "id": "c97efa93abf4478aaed3a0c0af8f3446",
    "time": "2021-02-16T08:34:38.562Z",
    "type": "completion"
   },
   {
    "id": "c79101f0a71a42d8a252e4da2cb8f841",
    "time": "2021-02-16T08:34:38.567Z",
    "type": "completion"
   },
   {
    "id": "ecdc073691ad4db783cf43f2ed31c132",
    "time": "2021-02-16T08:34:38.570Z",
    "type": "completion"
   },
   {
    "id": "d6b1384d7d5442408204eac1fa8ae4ae",
    "time": "2021-02-16T08:34:38.624Z",
    "type": "completion"
   },
   {
    "code": "berkeley_markets = california_farmers_markets.where('city', are.equal_to(\"Berkeley\")) # SOLUTION\nberkeley_markets",
    "id": "ed886e4d66b048178c9e9840557fdf4b",
    "idx": 56,
    "time": "2021-02-16T08:34:41.451Z",
    "type": "execution"
   },
   {
    "id": "ed886e4d66b048178c9e9840557fdf4b",
    "time": "2021-02-16T08:34:41.595Z",
    "type": "completion"
   },
   {
    "code": "# TEST\nberkeley_markets.num_rows == 3",
    "id": "9549beef875c4953ab13e533d42edd71",
    "idx": 57,
    "time": "2021-02-16T08:35:17.237Z",
    "type": "execution"
   },
   {
    "id": "9549beef875c4953ab13e533d42edd71",
    "time": "2021-02-16T08:35:17.310Z",
    "type": "completion"
   },
   {
    "code": "# TEST\nlist(berkeley_markets.column('city')) == ['Berkeley', 'Berkeley', 'Berkeley']",
    "id": "9406b57a66ca4f209dd18789a0ac339c",
    "idx": 58,
    "time": "2021-02-16T08:35:51.241Z",
    "type": "execution"
   },
   {
    "id": "9406b57a66ca4f209dd18789a0ac339c",
    "time": "2021-02-16T08:35:51.328Z",
    "type": "completion"
   },
   {
    "code": "above_eight = imdb.where('Year', are.between(2010, 2017)).where('Rating', are.above(8)).select('Title', 'Rating') # SOLUTION\nabove_eight",
    "id": "0bdc63c61ddd4cfd8cc080152f5b8a5a",
    "idx": 65,
    "time": "2021-02-16T08:37:05.820Z",
    "type": "execution"
   },
   {
    "id": "0bdc63c61ddd4cfd8cc080152f5b8a5a",
    "time": "2021-02-16T08:37:05.956Z",
    "type": "completion"
   },
   {
    "code": "# Just run this cell\n\nimport numpy as np\nfrom datascience import *\n\n\n# These lines load the tests.\n# When you log-in please hit return (not shift + return) after typing in your email\n",
    "id": "9104c45c29614eb686d57e49e14e386c",
    "idx": 2,
    "time": "2021-02-16T08:37:10.041Z",
    "type": "execution"
   },
   {
    "code": "new_year = 2020 # SOLUTION\nnew_year",
    "id": "6b6244eb0cb14ef88c50c8077c4a1025",
    "idx": 5,
    "time": "2021-02-16T08:37:10.043Z",
    "type": "execution"
   },
   {
    "code": "#HIDDEN TEST\nnew_year == 2020",
    "id": "cd56254d288b462ba94fb43c0ebc1359",
    "idx": 6,
    "time": "2021-02-16T08:37:10.045Z",
    "type": "execution"
   },
   {
    "code": "import math\nradius = 5\narea_of_circle = radius**2 * math.pi\narea_of_circle",
    "id": "c4b687e408d5479abdc414b6c633c026",
    "idx": 9,
    "time": "2021-02-16T08:37:10.048Z",
    "type": "execution"
   },
   {
    "code": "near_twenty = math.e ** math.pi - math.pi # SOLUTION\nnear_twenty",
    "id": "14c3280f0b54464c85242ba22e7381f1",
    "idx": 12,
    "time": "2021-02-16T08:37:10.050Z",
    "type": "execution"
   },
   {
    "code": "# TEST\nround(near_twenty, 8)",
    "id": "a458fc90b75d459785aaf63c1b17a80b",
    "idx": 13,
    "time": "2021-02-16T08:37:10.051Z",
    "type": "execution"
   },
   {
    "code": "sine_of_pi_over_four = math.sin(math.pi / 4) # SOLUTION\nsine_of_pi_over_four",
    "id": "309cf9facf204c5fbca06e9109147fe8",
    "idx": 16,
    "time": "2021-02-16T08:37:10.053Z",
    "type": "execution"
   },
   {
    "code": "# TEST\n# Hint: You can write the sine of 1.5*pi as:\n#   math.sin(1.5 * math.pi)\nimport math\nround(sine_of_pi_over_four, 8)",
    "id": "534b367c21944f3488de2187b6fa31d5",
    "idx": 17,
    "time": "2021-02-16T08:37:10.055Z",
    "type": "execution"
   },
   {
    "code": "# Calculating logarithms (the logarithm of 8 in base 2).\n# The result is 3 because 2 to the power of 3 is 8.\nmath.log(8, 2)",
    "id": "7c67ab3427ba49888e871707bac58449",
    "idx": 19,
    "time": "2021-02-16T08:37:10.057Z",
    "type": "execution"
   },
   {
    "code": "# Calculating square roots.\nmath.sqrt(5)",
    "id": "8e618a8ace414fa38f6f2c3aaf4711cc",
    "idx": 20,
    "time": "2021-02-16T08:37:10.059Z",
    "type": "execution"
   },
   {
    "code": "# Importing just cos and pi from math.\n# We don't have to use `math.` in front of cos or pi\nfrom math import cos, pi\nprint(cos(pi))\n\n# We do have to use it in front of other functions from math, though\nmath.log(pi)",
    "id": "2aac6edd752f464a8577596dc7b10c1b",
    "idx": 22,
    "time": "2021-02-16T08:37:10.061Z",
    "type": "execution"
   },
   {
    "code": "# Lastly, we can import everything from math using the *\n# Once again, we don't have to use 'math.' beforehand \nfrom math import *\nlog(pi)",
    "id": "161f5c794d4847f2898fd15871db4b2d",
    "idx": 24,
    "time": "2021-02-16T08:37:10.063Z",
    "type": "execution"
   },
   {
    "code": "# Just run this cell\n\nfarmers_markets = Table.read_table('farmers_markets.csv')",
    "id": "d71d39971a3b4765834a26779cba57d3",
    "idx": 27,
    "time": "2021-02-16T08:37:10.065Z",
    "type": "execution"
   },
   {
    "code": "farmers_markets.show(5) # SOLUTION",
    "id": "221a7797806447ff84de2dd296fa365b",
    "idx": 29,
    "time": "2021-02-16T08:37:10.069Z",
    "type": "execution"
   },
   {
    "code": "num_farmers_markets_columns = farmers_markets.num_columns # SOLUTION\nprint(\"The table has\", num_farmers_markets_columns, \"columns in it!\")",
    "id": "f1d8353ea3fe4174a10df0c70119b860",
    "idx": 31,
    "time": "2021-02-16T08:37:10.070Z",
    "type": "execution"
   },
   {
    "code": "# HIDDEN TEST\nnum_farmers_markets_columns == 59",
    "id": "c576cbb902764c24aa4f0beb55a685b8",
    "idx": 32,
    "time": "2021-02-16T08:37:10.072Z",
    "type": "execution"
   },
   {
    "code": "# Just run this cell\n\nnum_farmers_markets_rows = farmers_markets.num_rows\nprint(\"The table has\", num_farmers_markets_rows, \"rows in it!\")",
    "id": "d78045d1705748b388e0738c7b903124",
    "idx": 34,
    "time": "2021-02-16T08:37:10.074Z",
    "type": "execution"
   },
   {
    "code": "farmers_markets_locations = farmers_markets.select(\"city\", \"State\", \"y\", \"MarketName\", \"x\") # SOLUTION\nfarmers_markets_locations",
    "id": "c661c0d5ebac486b88bac48a85d7193c",
    "idx": 36,
    "time": "2021-02-16T08:37:10.076Z",
    "type": "execution"
   },
   {
    "code": "# HIDDEN TEST\nsorted(farmers_markets_locations.labels)",
    "id": "90060034698440a484cc2a1c89d0a4f2",
    "idx": 37,
    "time": "2021-02-16T08:37:10.078Z",
    "type": "execution"
   },
   {
    "code": "# TEST\nfarmers_markets_locations.num_rows == 8546",
    "id": "6915a30f7e704a7b8af96316833f29ca",
    "idx": 38,
    "time": "2021-02-16T08:37:10.079Z",
    "type": "execution"
   },
   {
    "code": "farmers_markets_without_fmid = farmers_markets.drop(\"FMID\", \"updateTime\") # SOLUTION\nfarmers_markets_without_fmid",
    "id": "88e101833a3a43f281c8fbe4e5edc41d",
    "idx": 40,
    "time": "2021-02-16T08:37:10.084Z",
    "type": "execution"
   },
   {
    "code": "# TEST\nfarmers_markets_without_fmid.num_columns == 57",
    "id": "0107ee9d3b6d42b795d6cfe3f4ec045d",
    "idx": 41,
    "time": "2021-02-16T08:37:10.085Z",
    "type": "execution"
   },
   {
    "code": "# TEST\nprint(sorted(farmers_markets_without_fmid.labels))",
    "id": "a1399913244f44e6a9e7801dd9b67ba7",
    "idx": 42,
    "time": "2021-02-16T08:37:10.087Z",
    "type": "execution"
   },
   {
    "code": "farmers_markets_locations.sort('x')",
    "id": "4d95bd7f16da4005ba887722861a39dd",
    "idx": 44,
    "time": "2021-02-16T08:37:10.089Z",
    "type": "execution"
   },
   {
    "code": "farmers_markets_locations.sort('x', descending=True)",
    "id": "4bb9cd749f8a45b49221d5adc37ee3f6",
    "idx": 46,
    "time": "2021-02-16T08:37:10.091Z",
    "type": "execution"
   },
   {
    "code": "farmers_markets_locations_by_latitude = farmers_markets_locations.sort('y', descending = True) # SOLUTION\nfarmers_markets_locations_by_latitude",
    "id": "c97efa93abf4478aaed3a0c0af8f3446",
    "idx": 48,
    "time": "2021-02-16T08:37:10.092Z",
    "type": "execution"
   },
   {
    "code": "# TEST\ntype(farmers_markets_locations_by_latitude) == tables.Table",
    "id": "c79101f0a71a42d8a252e4da2cb8f841",
    "idx": 49,
    "time": "2021-02-16T08:37:10.094Z",
    "type": "execution"
   },
   {
    "code": "# TEST\nlist(farmers_markets_locations_by_latitude.column('y').take(range(3)))",
    "id": "ecdc073691ad4db783cf43f2ed31c132",
    "idx": 50,
    "time": "2021-02-16T08:37:10.096Z",
    "type": "execution"
   },
   {
    "code": "california_farmers_markets = farmers_markets_locations.where('State', are.equal_to('California'))\ncalifornia_farmers_markets",
    "id": "d6b1384d7d5442408204eac1fa8ae4ae",
    "idx": 52,
    "time": "2021-02-16T08:37:10.098Z",
    "type": "execution"
   },
   {
    "code": "berkeley_markets = california_farmers_markets.where('city', are.equal_to(\"Berkeley\")) # SOLUTION\nberkeley_markets",
    "id": "ed886e4d66b048178c9e9840557fdf4b",
    "idx": 56,
    "time": "2021-02-16T08:37:10.100Z",
    "type": "execution"
   },
   {
    "code": "# TEST\nberkeley_markets.num_rows == 3",
    "id": "9549beef875c4953ab13e533d42edd71",
    "idx": 57,
    "time": "2021-02-16T08:37:10.101Z",
    "type": "execution"
   },
   {
    "code": "# TEST\nlist(berkeley_markets.column('city')) == ['Berkeley', 'Berkeley', 'Berkeley']",
    "id": "9406b57a66ca4f209dd18789a0ac339c",
    "idx": 58,
    "time": "2021-02-16T08:37:10.103Z",
    "type": "execution"
   },
   {
    "code": "# Just run this cell\n\nimdb = Table.read_table('imdb.csv')\nimdb",
    "id": "1a5d75aab64340d386bcf9b8ed037ab5",
    "idx": 62,
    "time": "2021-02-16T08:37:10.105Z",
    "type": "execution"
   },
   {
    "id": "9104c45c29614eb686d57e49e14e386c",
    "time": "2021-02-16T08:37:10.146Z",
    "type": "completion"
   },
   {
    "id": "6b6244eb0cb14ef88c50c8077c4a1025",
    "time": "2021-02-16T08:37:10.149Z",
    "type": "completion"
   },
   {
    "id": "cd56254d288b462ba94fb43c0ebc1359",
    "time": "2021-02-16T08:37:10.172Z",
    "type": "completion"
   },
   {
    "id": "c4b687e408d5479abdc414b6c633c026",
    "time": "2021-02-16T08:37:10.217Z",
    "type": "completion"
   },
   {
    "id": "14c3280f0b54464c85242ba22e7381f1",
    "time": "2021-02-16T08:37:10.222Z",
    "type": "completion"
   },
   {
    "id": "a458fc90b75d459785aaf63c1b17a80b",
    "time": "2021-02-16T08:37:10.277Z",
    "type": "completion"
   },
   {
    "id": "309cf9facf204c5fbca06e9109147fe8",
    "time": "2021-02-16T08:37:10.306Z",
    "type": "completion"
   },
   {
    "id": "534b367c21944f3488de2187b6fa31d5",
    "time": "2021-02-16T08:37:10.346Z",
    "type": "completion"
   },
   {
    "id": "7c67ab3427ba49888e871707bac58449",
    "time": "2021-02-16T08:37:10.369Z",
    "type": "completion"
   },
   {
    "id": "8e618a8ace414fa38f6f2c3aaf4711cc",
    "time": "2021-02-16T08:37:10.393Z",
    "type": "completion"
   },
   {
    "id": "2aac6edd752f464a8577596dc7b10c1b",
    "time": "2021-02-16T08:37:10.401Z",
    "type": "completion"
   },
   {
    "id": "161f5c794d4847f2898fd15871db4b2d",
    "time": "2021-02-16T08:37:10.422Z",
    "type": "completion"
   },
   {
    "id": "d71d39971a3b4765834a26779cba57d3",
    "time": "2021-02-16T08:37:10.762Z",
    "type": "completion"
   },
   {
    "id": "221a7797806447ff84de2dd296fa365b",
    "time": "2021-02-16T08:37:10.810Z",
    "type": "completion"
   },
   {
    "id": "f1d8353ea3fe4174a10df0c70119b860",
    "time": "2021-02-16T08:37:10.812Z",
    "type": "completion"
   },
   {
    "id": "c576cbb902764c24aa4f0beb55a685b8",
    "time": "2021-02-16T08:37:10.814Z",
    "type": "completion"
   },
   {
    "id": "d78045d1705748b388e0738c7b903124",
    "time": "2021-02-16T08:37:10.846Z",
    "type": "completion"
   },
   {
    "id": "c661c0d5ebac486b88bac48a85d7193c",
    "time": "2021-02-16T08:37:10.880Z",
    "type": "completion"
   },
   {
    "id": "90060034698440a484cc2a1c89d0a4f2",
    "time": "2021-02-16T08:37:10.903Z",
    "type": "completion"
   },
   {
    "id": "6915a30f7e704a7b8af96316833f29ca",
    "time": "2021-02-16T08:37:10.929Z",
    "type": "completion"
   },
   {
    "id": "88e101833a3a43f281c8fbe4e5edc41d",
    "time": "2021-02-16T08:37:11.140Z",
    "type": "completion"
   },
   {
    "id": "0107ee9d3b6d42b795d6cfe3f4ec045d",
    "time": "2021-02-16T08:37:11.146Z",
    "type": "completion"
   },
   {
    "id": "a1399913244f44e6a9e7801dd9b67ba7",
    "time": "2021-02-16T08:37:11.148Z",
    "type": "completion"
   },
   {
    "id": "4d95bd7f16da4005ba887722861a39dd",
    "time": "2021-02-16T08:37:11.151Z",
    "type": "completion"
   },
   {
    "id": "4bb9cd749f8a45b49221d5adc37ee3f6",
    "time": "2021-02-16T08:37:11.177Z",
    "type": "completion"
   },
   {
    "id": "c97efa93abf4478aaed3a0c0af8f3446",
    "time": "2021-02-16T08:37:11.227Z",
    "type": "completion"
   },
   {
    "id": "c79101f0a71a42d8a252e4da2cb8f841",
    "time": "2021-02-16T08:37:11.229Z",
    "type": "completion"
   },
   {
    "id": "ecdc073691ad4db783cf43f2ed31c132",
    "time": "2021-02-16T08:37:11.259Z",
    "type": "completion"
   },
   {
    "id": "d6b1384d7d5442408204eac1fa8ae4ae",
    "time": "2021-02-16T08:37:11.288Z",
    "type": "completion"
   },
   {
    "id": "ed886e4d66b048178c9e9840557fdf4b",
    "time": "2021-02-16T08:37:11.295Z",
    "type": "completion"
   },
   {
    "id": "9549beef875c4953ab13e533d42edd71",
    "time": "2021-02-16T08:37:11.298Z",
    "type": "completion"
   },
   {
    "id": "9406b57a66ca4f209dd18789a0ac339c",
    "time": "2021-02-16T08:37:11.324Z",
    "type": "completion"
   },
   {
    "id": "1a5d75aab64340d386bcf9b8ed037ab5",
    "time": "2021-02-16T08:37:11.375Z",
    "type": "completion"
   },
   {
    "code": "above_eight = imdb.where('Year', are.between(2010, 2017)).where('Rating', are.above(8)).select('Title', 'Rating') # SOLUTION\nabove_eight",
    "id": "0bdc63c61ddd4cfd8cc080152f5b8a5a",
    "idx": 65,
    "time": "2021-02-16T08:37:13.832Z",
    "type": "execution"
   },
   {
    "id": "0bdc63c61ddd4cfd8cc080152f5b8a5a",
    "time": "2021-02-16T08:37:13.908Z",
    "type": "completion"
   },
   {
    "code": "# TEST\nabove_eight.num_rows == 20",
    "id": "f8c595cf25f342fe8ae63ba0fa78b906",
    "idx": 66,
    "time": "2021-02-16T08:38:01.173Z",
    "type": "execution"
   },
   {
    "id": "f8c595cf25f342fe8ae63ba0fa78b906",
    "time": "2021-02-16T08:38:01.305Z",
    "type": "completion"
   },
   {
    "code": "# TEST\ntype(above_eight) == tables.Table",
    "id": "f8c595cf25f342fe8ae63ba0fa78b906",
    "idx": 66,
    "time": "2021-02-16T08:38:31.611Z",
    "type": "execution"
   },
   {
    "id": "f8c595cf25f342fe8ae63ba0fa78b906",
    "time": "2021-02-16T08:38:31.685Z",
    "type": "completion"
   },
   {
    "code": "# TEST\nabove_eight.num_rows == 20",
    "id": "8aa9c1defa0d425b9895cf473178fe8f",
    "idx": 67,
    "time": "2021-02-16T08:38:32.171Z",
    "type": "execution"
   },
   {
    "id": "8aa9c1defa0d425b9895cf473178fe8f",
    "time": "2021-02-16T08:38:32.295Z",
    "type": "completion"
   },
   {
    "code": "# TEST\n# Make sure your columns are in the right order!\n# First column should be 'Title', second column should be 'Rating'\nprint(above_eight.sort(0).take([17]))",
    "id": "d129b87619634c298f5e616c6b5411e1",
    "idx": 68,
    "time": "2021-02-16T08:39:13.833Z",
    "type": "execution"
   },
   {
    "id": "d129b87619634c298f5e616c6b5411e1",
    "time": "2021-02-16T08:39:13.897Z",
    "type": "completion"
   },
   {
    "code": "num_movies_in_dataset = imdb.num_rows # SOLUTION\nnum_in_20th_century = imdb.where('Year', are.below(2000)).num_rows # SOLUTION\nnum_in_21st_century = imdb.where('Year', are.above_or_equal_to(2000)).num_rows # SOLUTION\nproportion_in_20th_century = num_in_20th_century / num_movies_in_dataset # SOLUTION\nproportion_in_21st_century = num_in_21st_century / num_movies_in_dataset # SOLUTION\nprint(\"Proportion in 20th century:\", proportion_in_20th_century)\nprint(\"Proportion in 21st century:\", proportion_in_21st_century)",
    "id": "971381be596347fba06f2b4905874100",
    "idx": 70,
    "time": "2021-02-16T08:41:30.945Z",
    "type": "execution"
   },
   {
    "id": "971381be596347fba06f2b4905874100",
    "time": "2021-02-16T08:41:31.032Z",
    "type": "completion"
   },
   {
    "code": "# HIDDEN TEST\nproportion_in_20th_century == 0.684",
    "id": "28fb10b6b71f407a9c6689b9c4b352f7",
    "idx": 71,
    "time": "2021-02-16T08:42:01.990Z",
    "type": "execution"
   },
   {
    "id": "28fb10b6b71f407a9c6689b9c4b352f7",
    "time": "2021-02-16T08:42:03.529Z",
    "type": "completion"
   },
   {
    "code": "# HIDDEN TEST\nproportion_in_21st_century == 0.316",
    "id": "d3e1ba07ac3347b295d42fbb8a0bf6ef",
    "idx": 72,
    "time": "2021-02-16T08:42:23.363Z",
    "type": "execution"
   },
   {
    "id": "d3e1ba07ac3347b295d42fbb8a0bf6ef",
    "time": "2021-02-16T08:42:23.425Z",
    "type": "completion"
   }
  ],
  "kernelspec": {
   "display_name": "Python 3 (ipykernel)",
   "language": "python",
   "name": "python3"
  },
  "language_info": {
   "codemirror_mode": {
    "name": "ipython",
    "version": 3
   },
   "file_extension": ".py",
   "mimetype": "text/x-python",
   "name": "python",
   "nbconvert_exporter": "python",
   "pygments_lexer": "ipython3",
   "version": "3.10.2"
  }
 },
 "nbformat": 4,
 "nbformat_minor": 4
}
